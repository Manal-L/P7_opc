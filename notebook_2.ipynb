{
  "cells": [
    {
      "cell_type": "markdown",
      "metadata": {
        "id": "C-ZGz8ZMzU52"
      },
      "source": [
        "\n",
        "Implémentez un modèle de scoring"
      ]
    },
    {
      "cell_type": "markdown",
      "metadata": {
        "id": "33wuzhgcK0DB"
      },
      "source": [
        "#Chargement des données"
      ]
    },
    {
      "cell_type": "code",
      "execution_count": null,
      "metadata": {},
      "outputs": [],
      "source": [
        "import pandas as pd\n",
        "\n",
        "# Lire le fichier CSV avec pandas\n",
        "df = pd.read_csv('df_clean.csv', sep = ',')"
      ]
    },
    {
      "cell_type": "code",
      "execution_count": 2,
      "metadata": {},
      "outputs": [
        {
          "name": "stdout",
          "output_type": "stream",
          "text": [
            "(356251, 770)\n"
          ]
        },
        {
          "data": {
            "text/html": [
              "<div>\n",
              "<style scoped>\n",
              "    .dataframe tbody tr th:only-of-type {\n",
              "        vertical-align: middle;\n",
              "    }\n",
              "\n",
              "    .dataframe tbody tr th {\n",
              "        vertical-align: top;\n",
              "    }\n",
              "\n",
              "    .dataframe thead th {\n",
              "        text-align: right;\n",
              "    }\n",
              "</style>\n",
              "<table border=\"1\" class=\"dataframe\">\n",
              "  <thead>\n",
              "    <tr style=\"text-align: right;\">\n",
              "      <th></th>\n",
              "      <th>SK_ID_CURR</th>\n",
              "      <th>TARGET</th>\n",
              "      <th>CODE_GENDER</th>\n",
              "      <th>FLAG_OWN_CAR</th>\n",
              "      <th>FLAG_OWN_REALTY</th>\n",
              "      <th>CNT_CHILDREN</th>\n",
              "      <th>AMT_INCOME_TOTAL</th>\n",
              "      <th>AMT_CREDIT</th>\n",
              "      <th>AMT_ANNUITY</th>\n",
              "      <th>AMT_GOODS_PRICE</th>\n",
              "      <th>...</th>\n",
              "      <th>CC_NAME_CONTRACT_STATUS_Sent proposal_MAX</th>\n",
              "      <th>CC_NAME_CONTRACT_STATUS_Sent proposal_MEAN</th>\n",
              "      <th>CC_NAME_CONTRACT_STATUS_Sent proposal_SUM</th>\n",
              "      <th>CC_NAME_CONTRACT_STATUS_Sent proposal_VAR</th>\n",
              "      <th>CC_NAME_CONTRACT_STATUS_Signed_MIN</th>\n",
              "      <th>CC_NAME_CONTRACT_STATUS_Signed_MAX</th>\n",
              "      <th>CC_NAME_CONTRACT_STATUS_Signed_MEAN</th>\n",
              "      <th>CC_NAME_CONTRACT_STATUS_Signed_SUM</th>\n",
              "      <th>CC_NAME_CONTRACT_STATUS_Signed_VAR</th>\n",
              "      <th>CC_COUNT</th>\n",
              "    </tr>\n",
              "  </thead>\n",
              "  <tbody>\n",
              "    <tr>\n",
              "      <th>0</th>\n",
              "      <td>100002</td>\n",
              "      <td>1.0</td>\n",
              "      <td>0</td>\n",
              "      <td>0</td>\n",
              "      <td>0</td>\n",
              "      <td>0</td>\n",
              "      <td>202500.0</td>\n",
              "      <td>406597.5</td>\n",
              "      <td>24700.5</td>\n",
              "      <td>351000.0</td>\n",
              "      <td>...</td>\n",
              "      <td>NaN</td>\n",
              "      <td>NaN</td>\n",
              "      <td>NaN</td>\n",
              "      <td>NaN</td>\n",
              "      <td>NaN</td>\n",
              "      <td>NaN</td>\n",
              "      <td>NaN</td>\n",
              "      <td>NaN</td>\n",
              "      <td>NaN</td>\n",
              "      <td>NaN</td>\n",
              "    </tr>\n",
              "    <tr>\n",
              "      <th>1</th>\n",
              "      <td>100003</td>\n",
              "      <td>0.0</td>\n",
              "      <td>1</td>\n",
              "      <td>0</td>\n",
              "      <td>1</td>\n",
              "      <td>0</td>\n",
              "      <td>270000.0</td>\n",
              "      <td>1293502.5</td>\n",
              "      <td>35698.5</td>\n",
              "      <td>1129500.0</td>\n",
              "      <td>...</td>\n",
              "      <td>NaN</td>\n",
              "      <td>NaN</td>\n",
              "      <td>NaN</td>\n",
              "      <td>NaN</td>\n",
              "      <td>NaN</td>\n",
              "      <td>NaN</td>\n",
              "      <td>NaN</td>\n",
              "      <td>NaN</td>\n",
              "      <td>NaN</td>\n",
              "      <td>NaN</td>\n",
              "    </tr>\n",
              "    <tr>\n",
              "      <th>2</th>\n",
              "      <td>100004</td>\n",
              "      <td>0.0</td>\n",
              "      <td>0</td>\n",
              "      <td>1</td>\n",
              "      <td>0</td>\n",
              "      <td>0</td>\n",
              "      <td>67500.0</td>\n",
              "      <td>135000.0</td>\n",
              "      <td>6750.0</td>\n",
              "      <td>135000.0</td>\n",
              "      <td>...</td>\n",
              "      <td>NaN</td>\n",
              "      <td>NaN</td>\n",
              "      <td>NaN</td>\n",
              "      <td>NaN</td>\n",
              "      <td>NaN</td>\n",
              "      <td>NaN</td>\n",
              "      <td>NaN</td>\n",
              "      <td>NaN</td>\n",
              "      <td>NaN</td>\n",
              "      <td>NaN</td>\n",
              "    </tr>\n",
              "    <tr>\n",
              "      <th>3</th>\n",
              "      <td>100006</td>\n",
              "      <td>0.0</td>\n",
              "      <td>1</td>\n",
              "      <td>0</td>\n",
              "      <td>0</td>\n",
              "      <td>0</td>\n",
              "      <td>135000.0</td>\n",
              "      <td>312682.5</td>\n",
              "      <td>29686.5</td>\n",
              "      <td>297000.0</td>\n",
              "      <td>...</td>\n",
              "      <td>False</td>\n",
              "      <td>0.0</td>\n",
              "      <td>0.0</td>\n",
              "      <td>0.0</td>\n",
              "      <td>False</td>\n",
              "      <td>False</td>\n",
              "      <td>0.0</td>\n",
              "      <td>0.0</td>\n",
              "      <td>0.0</td>\n",
              "      <td>6.0</td>\n",
              "    </tr>\n",
              "    <tr>\n",
              "      <th>4</th>\n",
              "      <td>100007</td>\n",
              "      <td>0.0</td>\n",
              "      <td>0</td>\n",
              "      <td>0</td>\n",
              "      <td>0</td>\n",
              "      <td>0</td>\n",
              "      <td>121500.0</td>\n",
              "      <td>513000.0</td>\n",
              "      <td>21865.5</td>\n",
              "      <td>513000.0</td>\n",
              "      <td>...</td>\n",
              "      <td>NaN</td>\n",
              "      <td>NaN</td>\n",
              "      <td>NaN</td>\n",
              "      <td>NaN</td>\n",
              "      <td>NaN</td>\n",
              "      <td>NaN</td>\n",
              "      <td>NaN</td>\n",
              "      <td>NaN</td>\n",
              "      <td>NaN</td>\n",
              "      <td>NaN</td>\n",
              "    </tr>\n",
              "  </tbody>\n",
              "</table>\n",
              "<p>5 rows × 770 columns</p>\n",
              "</div>"
            ],
            "text/plain": [
              "   SK_ID_CURR  TARGET  CODE_GENDER  FLAG_OWN_CAR  FLAG_OWN_REALTY  \\\n",
              "0      100002     1.0            0             0                0   \n",
              "1      100003     0.0            1             0                1   \n",
              "2      100004     0.0            0             1                0   \n",
              "3      100006     0.0            1             0                0   \n",
              "4      100007     0.0            0             0                0   \n",
              "\n",
              "   CNT_CHILDREN  AMT_INCOME_TOTAL  AMT_CREDIT  AMT_ANNUITY  AMT_GOODS_PRICE  \\\n",
              "0             0          202500.0    406597.5      24700.5         351000.0   \n",
              "1             0          270000.0   1293502.5      35698.5        1129500.0   \n",
              "2             0           67500.0    135000.0       6750.0         135000.0   \n",
              "3             0          135000.0    312682.5      29686.5         297000.0   \n",
              "4             0          121500.0    513000.0      21865.5         513000.0   \n",
              "\n",
              "   ...  CC_NAME_CONTRACT_STATUS_Sent proposal_MAX  \\\n",
              "0  ...                                        NaN   \n",
              "1  ...                                        NaN   \n",
              "2  ...                                        NaN   \n",
              "3  ...                                      False   \n",
              "4  ...                                        NaN   \n",
              "\n",
              "   CC_NAME_CONTRACT_STATUS_Sent proposal_MEAN  \\\n",
              "0                                         NaN   \n",
              "1                                         NaN   \n",
              "2                                         NaN   \n",
              "3                                         0.0   \n",
              "4                                         NaN   \n",
              "\n",
              "   CC_NAME_CONTRACT_STATUS_Sent proposal_SUM  \\\n",
              "0                                        NaN   \n",
              "1                                        NaN   \n",
              "2                                        NaN   \n",
              "3                                        0.0   \n",
              "4                                        NaN   \n",
              "\n",
              "   CC_NAME_CONTRACT_STATUS_Sent proposal_VAR  \\\n",
              "0                                        NaN   \n",
              "1                                        NaN   \n",
              "2                                        NaN   \n",
              "3                                        0.0   \n",
              "4                                        NaN   \n",
              "\n",
              "   CC_NAME_CONTRACT_STATUS_Signed_MIN  CC_NAME_CONTRACT_STATUS_Signed_MAX  \\\n",
              "0                                 NaN                                 NaN   \n",
              "1                                 NaN                                 NaN   \n",
              "2                                 NaN                                 NaN   \n",
              "3                               False                               False   \n",
              "4                                 NaN                                 NaN   \n",
              "\n",
              "   CC_NAME_CONTRACT_STATUS_Signed_MEAN  CC_NAME_CONTRACT_STATUS_Signed_SUM  \\\n",
              "0                                  NaN                                 NaN   \n",
              "1                                  NaN                                 NaN   \n",
              "2                                  NaN                                 NaN   \n",
              "3                                  0.0                                 0.0   \n",
              "4                                  NaN                                 NaN   \n",
              "\n",
              "   CC_NAME_CONTRACT_STATUS_Signed_VAR  CC_COUNT  \n",
              "0                                 NaN       NaN  \n",
              "1                                 NaN       NaN  \n",
              "2                                 NaN       NaN  \n",
              "3                                 0.0       6.0  \n",
              "4                                 NaN       NaN  \n",
              "\n",
              "[5 rows x 770 columns]"
            ]
          },
          "execution_count": 2,
          "metadata": {},
          "output_type": "execute_result"
        }
      ],
      "source": [
        "#les premières lignes du dataframe\n",
        "print(df.shape)\n",
        "df.head()"
      ]
    },
    {
      "cell_type": "code",
      "execution_count": 4,
      "metadata": {
        "colab": {
          "base_uri": "https://localhost:8080/"
        },
        "id": "1xDPmBi6ui2c",
        "outputId": "5dc7a526-0097-4f79-d585-58e18c1fad70"
      },
      "outputs": [
        {
          "data": {
            "text/plain": [
              "['SK_ID_CURR',\n",
              " 'TARGET',\n",
              " 'CODE_GENDER',\n",
              " 'FLAG_OWN_CAR',\n",
              " 'FLAG_OWN_REALTY',\n",
              " 'CNT_CHILDREN',\n",
              " 'AMT_INCOME_TOTAL',\n",
              " 'AMT_CREDIT',\n",
              " 'AMT_ANNUITY',\n",
              " 'AMT_GOODS_PRICE',\n",
              " 'REGION_POPULATION_RELATIVE',\n",
              " 'DAYS_BIRTH',\n",
              " 'DAYS_EMPLOYED',\n",
              " 'DAYS_REGISTRATION',\n",
              " 'DAYS_ID_PUBLISH',\n",
              " 'OWN_CAR_AGE',\n",
              " 'FLAG_MOBIL',\n",
              " 'FLAG_EMP_PHONE',\n",
              " 'FLAG_WORK_PHONE',\n",
              " 'FLAG_CONT_MOBILE',\n",
              " 'FLAG_PHONE',\n",
              " 'FLAG_EMAIL',\n",
              " 'CNT_FAM_MEMBERS',\n",
              " 'REGION_RATING_CLIENT',\n",
              " 'REGION_RATING_CLIENT_W_CITY',\n",
              " 'HOUR_APPR_PROCESS_START',\n",
              " 'REG_REGION_NOT_LIVE_REGION',\n",
              " 'REG_REGION_NOT_WORK_REGION',\n",
              " 'LIVE_REGION_NOT_WORK_REGION',\n",
              " 'REG_CITY_NOT_LIVE_CITY',\n",
              " 'REG_CITY_NOT_WORK_CITY',\n",
              " 'LIVE_CITY_NOT_WORK_CITY',\n",
              " 'EXT_SOURCE_1',\n",
              " 'EXT_SOURCE_2',\n",
              " 'EXT_SOURCE_3',\n",
              " 'APARTMENTS_AVG',\n",
              " 'BASEMENTAREA_AVG',\n",
              " 'YEARS_BEGINEXPLUATATION_AVG',\n",
              " 'YEARS_BUILD_AVG',\n",
              " 'COMMONAREA_AVG',\n",
              " 'ELEVATORS_AVG',\n",
              " 'ENTRANCES_AVG',\n",
              " 'FLOORSMAX_AVG',\n",
              " 'FLOORSMIN_AVG',\n",
              " 'LANDAREA_AVG',\n",
              " 'LIVINGAPARTMENTS_AVG',\n",
              " 'LIVINGAREA_AVG',\n",
              " 'NONLIVINGAPARTMENTS_AVG',\n",
              " 'NONLIVINGAREA_AVG',\n",
              " 'APARTMENTS_MODE',\n",
              " 'BASEMENTAREA_MODE',\n",
              " 'YEARS_BEGINEXPLUATATION_MODE',\n",
              " 'YEARS_BUILD_MODE',\n",
              " 'COMMONAREA_MODE',\n",
              " 'ELEVATORS_MODE',\n",
              " 'ENTRANCES_MODE',\n",
              " 'FLOORSMAX_MODE',\n",
              " 'FLOORSMIN_MODE',\n",
              " 'LANDAREA_MODE',\n",
              " 'LIVINGAPARTMENTS_MODE',\n",
              " 'LIVINGAREA_MODE',\n",
              " 'NONLIVINGAPARTMENTS_MODE',\n",
              " 'NONLIVINGAREA_MODE',\n",
              " 'APARTMENTS_MEDI',\n",
              " 'BASEMENTAREA_MEDI',\n",
              " 'YEARS_BEGINEXPLUATATION_MEDI',\n",
              " 'YEARS_BUILD_MEDI',\n",
              " 'COMMONAREA_MEDI',\n",
              " 'ELEVATORS_MEDI',\n",
              " 'ENTRANCES_MEDI',\n",
              " 'FLOORSMAX_MEDI',\n",
              " 'FLOORSMIN_MEDI',\n",
              " 'LANDAREA_MEDI',\n",
              " 'LIVINGAPARTMENTS_MEDI',\n",
              " 'LIVINGAREA_MEDI',\n",
              " 'NONLIVINGAPARTMENTS_MEDI',\n",
              " 'NONLIVINGAREA_MEDI',\n",
              " 'TOTALAREA_MODE',\n",
              " 'OBS_30_CNT_SOCIAL_CIRCLE',\n",
              " 'DEF_30_CNT_SOCIAL_CIRCLE',\n",
              " 'OBS_60_CNT_SOCIAL_CIRCLE',\n",
              " 'DEF_60_CNT_SOCIAL_CIRCLE',\n",
              " 'DAYS_LAST_PHONE_CHANGE',\n",
              " 'FLAG_DOCUMENT_2',\n",
              " 'FLAG_DOCUMENT_3',\n",
              " 'FLAG_DOCUMENT_4',\n",
              " 'FLAG_DOCUMENT_5',\n",
              " 'FLAG_DOCUMENT_6',\n",
              " 'FLAG_DOCUMENT_7',\n",
              " 'FLAG_DOCUMENT_8',\n",
              " 'FLAG_DOCUMENT_9',\n",
              " 'FLAG_DOCUMENT_10',\n",
              " 'FLAG_DOCUMENT_11',\n",
              " 'FLAG_DOCUMENT_12',\n",
              " 'FLAG_DOCUMENT_13',\n",
              " 'FLAG_DOCUMENT_14',\n",
              " 'FLAG_DOCUMENT_15',\n",
              " 'FLAG_DOCUMENT_16',\n",
              " 'FLAG_DOCUMENT_17',\n",
              " 'FLAG_DOCUMENT_18',\n",
              " 'FLAG_DOCUMENT_19',\n",
              " 'FLAG_DOCUMENT_20',\n",
              " 'FLAG_DOCUMENT_21',\n",
              " 'AMT_REQ_CREDIT_BUREAU_HOUR',\n",
              " 'AMT_REQ_CREDIT_BUREAU_DAY',\n",
              " 'AMT_REQ_CREDIT_BUREAU_WEEK',\n",
              " 'AMT_REQ_CREDIT_BUREAU_MON',\n",
              " 'AMT_REQ_CREDIT_BUREAU_QRT',\n",
              " 'AMT_REQ_CREDIT_BUREAU_YEAR',\n",
              " 'NAME_CONTRACT_TYPE_Cash loans',\n",
              " 'NAME_CONTRACT_TYPE_Revolving loans',\n",
              " 'NAME_TYPE_SUITE_Children',\n",
              " 'NAME_TYPE_SUITE_Family',\n",
              " 'NAME_TYPE_SUITE_Group of people',\n",
              " 'NAME_TYPE_SUITE_Other_A',\n",
              " 'NAME_TYPE_SUITE_Other_B',\n",
              " 'NAME_TYPE_SUITE_Spouse, partner',\n",
              " 'NAME_TYPE_SUITE_Unaccompanied',\n",
              " 'NAME_INCOME_TYPE_Businessman',\n",
              " 'NAME_INCOME_TYPE_Commercial associate',\n",
              " 'NAME_INCOME_TYPE_Maternity leave',\n",
              " 'NAME_INCOME_TYPE_Pensioner',\n",
              " 'NAME_INCOME_TYPE_State servant',\n",
              " 'NAME_INCOME_TYPE_Student',\n",
              " 'NAME_INCOME_TYPE_Unemployed',\n",
              " 'NAME_INCOME_TYPE_Working',\n",
              " 'NAME_EDUCATION_TYPE_Academic degree',\n",
              " 'NAME_EDUCATION_TYPE_Higher education',\n",
              " 'NAME_EDUCATION_TYPE_Incomplete higher',\n",
              " 'NAME_EDUCATION_TYPE_Lower secondary',\n",
              " 'NAME_EDUCATION_TYPE_Secondary / secondary special',\n",
              " 'NAME_FAMILY_STATUS_Civil marriage',\n",
              " 'NAME_FAMILY_STATUS_Married',\n",
              " 'NAME_FAMILY_STATUS_Separated',\n",
              " 'NAME_FAMILY_STATUS_Single / not married',\n",
              " 'NAME_FAMILY_STATUS_Unknown',\n",
              " 'NAME_FAMILY_STATUS_Widow',\n",
              " 'NAME_HOUSING_TYPE_Co-op apartment',\n",
              " 'NAME_HOUSING_TYPE_House / apartment',\n",
              " 'NAME_HOUSING_TYPE_Municipal apartment',\n",
              " 'NAME_HOUSING_TYPE_Office apartment',\n",
              " 'NAME_HOUSING_TYPE_Rented apartment',\n",
              " 'NAME_HOUSING_TYPE_With parents',\n",
              " 'OCCUPATION_TYPE_Accountants',\n",
              " 'OCCUPATION_TYPE_Cleaning staff',\n",
              " 'OCCUPATION_TYPE_Cooking staff',\n",
              " 'OCCUPATION_TYPE_Core staff',\n",
              " 'OCCUPATION_TYPE_Drivers',\n",
              " 'OCCUPATION_TYPE_HR staff',\n",
              " 'OCCUPATION_TYPE_High skill tech staff',\n",
              " 'OCCUPATION_TYPE_IT staff',\n",
              " 'OCCUPATION_TYPE_Laborers',\n",
              " 'OCCUPATION_TYPE_Low-skill Laborers',\n",
              " 'OCCUPATION_TYPE_Managers',\n",
              " 'OCCUPATION_TYPE_Medicine staff',\n",
              " 'OCCUPATION_TYPE_Private service staff',\n",
              " 'OCCUPATION_TYPE_Realty agents',\n",
              " 'OCCUPATION_TYPE_Sales staff',\n",
              " 'OCCUPATION_TYPE_Secretaries',\n",
              " 'OCCUPATION_TYPE_Security staff',\n",
              " 'OCCUPATION_TYPE_Waiters/barmen staff',\n",
              " 'WEEKDAY_APPR_PROCESS_START_FRIDAY',\n",
              " 'WEEKDAY_APPR_PROCESS_START_MONDAY',\n",
              " 'WEEKDAY_APPR_PROCESS_START_SATURDAY',\n",
              " 'WEEKDAY_APPR_PROCESS_START_SUNDAY',\n",
              " 'WEEKDAY_APPR_PROCESS_START_THURSDAY',\n",
              " 'WEEKDAY_APPR_PROCESS_START_TUESDAY',\n",
              " 'WEEKDAY_APPR_PROCESS_START_WEDNESDAY',\n",
              " 'ORGANIZATION_TYPE_Advertising',\n",
              " 'ORGANIZATION_TYPE_Agriculture',\n",
              " 'ORGANIZATION_TYPE_Bank',\n",
              " 'ORGANIZATION_TYPE_Business Entity Type 1',\n",
              " 'ORGANIZATION_TYPE_Business Entity Type 2',\n",
              " 'ORGANIZATION_TYPE_Business Entity Type 3',\n",
              " 'ORGANIZATION_TYPE_Cleaning',\n",
              " 'ORGANIZATION_TYPE_Construction',\n",
              " 'ORGANIZATION_TYPE_Culture',\n",
              " 'ORGANIZATION_TYPE_Electricity',\n",
              " 'ORGANIZATION_TYPE_Emergency',\n",
              " 'ORGANIZATION_TYPE_Government',\n",
              " 'ORGANIZATION_TYPE_Hotel',\n",
              " 'ORGANIZATION_TYPE_Housing',\n",
              " 'ORGANIZATION_TYPE_Industry: type 1',\n",
              " 'ORGANIZATION_TYPE_Industry: type 10',\n",
              " 'ORGANIZATION_TYPE_Industry: type 11',\n",
              " 'ORGANIZATION_TYPE_Industry: type 12',\n",
              " 'ORGANIZATION_TYPE_Industry: type 13',\n",
              " 'ORGANIZATION_TYPE_Industry: type 2',\n",
              " 'ORGANIZATION_TYPE_Industry: type 3',\n",
              " 'ORGANIZATION_TYPE_Industry: type 4',\n",
              " 'ORGANIZATION_TYPE_Industry: type 5',\n",
              " 'ORGANIZATION_TYPE_Industry: type 6',\n",
              " 'ORGANIZATION_TYPE_Industry: type 7',\n",
              " 'ORGANIZATION_TYPE_Industry: type 8',\n",
              " 'ORGANIZATION_TYPE_Industry: type 9',\n",
              " 'ORGANIZATION_TYPE_Insurance',\n",
              " 'ORGANIZATION_TYPE_Kindergarten',\n",
              " 'ORGANIZATION_TYPE_Legal Services',\n",
              " 'ORGANIZATION_TYPE_Medicine',\n",
              " 'ORGANIZATION_TYPE_Military',\n",
              " 'ORGANIZATION_TYPE_Mobile',\n",
              " 'ORGANIZATION_TYPE_Other',\n",
              " 'ORGANIZATION_TYPE_Police',\n",
              " 'ORGANIZATION_TYPE_Postal',\n",
              " 'ORGANIZATION_TYPE_Realtor',\n",
              " 'ORGANIZATION_TYPE_Religion',\n",
              " 'ORGANIZATION_TYPE_Restaurant',\n",
              " 'ORGANIZATION_TYPE_School',\n",
              " 'ORGANIZATION_TYPE_Security',\n",
              " 'ORGANIZATION_TYPE_Security Ministries',\n",
              " 'ORGANIZATION_TYPE_Self-employed',\n",
              " 'ORGANIZATION_TYPE_Services',\n",
              " 'ORGANIZATION_TYPE_Telecom',\n",
              " 'ORGANIZATION_TYPE_Trade: type 1',\n",
              " 'ORGANIZATION_TYPE_Trade: type 2',\n",
              " 'ORGANIZATION_TYPE_Trade: type 3',\n",
              " 'ORGANIZATION_TYPE_Trade: type 4',\n",
              " 'ORGANIZATION_TYPE_Trade: type 5',\n",
              " 'ORGANIZATION_TYPE_Trade: type 6',\n",
              " 'ORGANIZATION_TYPE_Trade: type 7',\n",
              " 'ORGANIZATION_TYPE_Transport: type 1',\n",
              " 'ORGANIZATION_TYPE_Transport: type 2',\n",
              " 'ORGANIZATION_TYPE_Transport: type 3',\n",
              " 'ORGANIZATION_TYPE_Transport: type 4',\n",
              " 'ORGANIZATION_TYPE_University',\n",
              " 'ORGANIZATION_TYPE_XNA',\n",
              " 'FONDKAPREMONT_MODE_not specified',\n",
              " 'FONDKAPREMONT_MODE_org spec account',\n",
              " 'FONDKAPREMONT_MODE_reg oper account',\n",
              " 'FONDKAPREMONT_MODE_reg oper spec account',\n",
              " 'HOUSETYPE_MODE_block of flats',\n",
              " 'HOUSETYPE_MODE_specific housing',\n",
              " 'HOUSETYPE_MODE_terraced house',\n",
              " 'WALLSMATERIAL_MODE_Block',\n",
              " 'WALLSMATERIAL_MODE_Mixed',\n",
              " 'WALLSMATERIAL_MODE_Monolithic',\n",
              " 'WALLSMATERIAL_MODE_Others',\n",
              " 'WALLSMATERIAL_MODE_Panel',\n",
              " 'WALLSMATERIAL_MODE_Stone, brick',\n",
              " 'WALLSMATERIAL_MODE_Wooden',\n",
              " 'EMERGENCYSTATE_MODE_No',\n",
              " 'EMERGENCYSTATE_MODE_Yes',\n",
              " 'DAYS_EMPLOYED_PERC',\n",
              " 'INCOME_CREDIT_PERC',\n",
              " 'INCOME_PER_PERSON',\n",
              " 'ANNUITY_INCOME_PERC',\n",
              " 'PAYMENT_RATE',\n",
              " 'BURO_DAYS_CREDIT_MIN',\n",
              " 'BURO_DAYS_CREDIT_MAX',\n",
              " 'BURO_DAYS_CREDIT_MEAN',\n",
              " 'BURO_DAYS_CREDIT_VAR',\n",
              " 'BURO_DAYS_CREDIT_ENDDATE_MIN',\n",
              " 'BURO_DAYS_CREDIT_ENDDATE_MAX',\n",
              " 'BURO_DAYS_CREDIT_ENDDATE_MEAN',\n",
              " 'BURO_DAYS_CREDIT_UPDATE_MEAN',\n",
              " 'BURO_CREDIT_DAY_OVERDUE_MAX',\n",
              " 'BURO_CREDIT_DAY_OVERDUE_MEAN',\n",
              " 'BURO_AMT_CREDIT_MAX_OVERDUE_MEAN',\n",
              " 'BURO_AMT_CREDIT_SUM_MAX',\n",
              " 'BURO_AMT_CREDIT_SUM_MEAN',\n",
              " 'BURO_AMT_CREDIT_SUM_SUM',\n",
              " 'BURO_AMT_CREDIT_SUM_DEBT_MAX',\n",
              " 'BURO_AMT_CREDIT_SUM_DEBT_MEAN',\n",
              " 'BURO_AMT_CREDIT_SUM_DEBT_SUM',\n",
              " 'BURO_AMT_CREDIT_SUM_OVERDUE_MEAN',\n",
              " 'BURO_AMT_CREDIT_SUM_LIMIT_MEAN',\n",
              " 'BURO_AMT_CREDIT_SUM_LIMIT_SUM',\n",
              " 'BURO_AMT_ANNUITY_MAX',\n",
              " 'BURO_AMT_ANNUITY_MEAN',\n",
              " 'BURO_CNT_CREDIT_PROLONG_SUM',\n",
              " 'BURO_MONTHS_BALANCE_MIN_MIN',\n",
              " 'BURO_MONTHS_BALANCE_MAX_MAX',\n",
              " 'BURO_MONTHS_BALANCE_SIZE_MEAN',\n",
              " 'BURO_MONTHS_BALANCE_SIZE_SUM',\n",
              " 'BURO_CREDIT_ACTIVE_Active_MEAN',\n",
              " 'BURO_CREDIT_ACTIVE_Bad debt_MEAN',\n",
              " 'BURO_CREDIT_ACTIVE_Closed_MEAN',\n",
              " 'BURO_CREDIT_ACTIVE_Sold_MEAN',\n",
              " 'BURO_CREDIT_CURRENCY_currency 1_MEAN',\n",
              " 'BURO_CREDIT_CURRENCY_currency 2_MEAN',\n",
              " 'BURO_CREDIT_CURRENCY_currency 3_MEAN',\n",
              " 'BURO_CREDIT_CURRENCY_currency 4_MEAN',\n",
              " 'BURO_CREDIT_TYPE_Another type of loan_MEAN',\n",
              " 'BURO_CREDIT_TYPE_Car loan_MEAN',\n",
              " 'BURO_CREDIT_TYPE_Cash loan (non-earmarked)_MEAN',\n",
              " 'BURO_CREDIT_TYPE_Consumer credit_MEAN',\n",
              " 'BURO_CREDIT_TYPE_Credit card_MEAN',\n",
              " 'BURO_CREDIT_TYPE_Interbank credit_MEAN',\n",
              " 'BURO_CREDIT_TYPE_Loan for business development_MEAN',\n",
              " 'BURO_CREDIT_TYPE_Loan for purchase of shares (margin lending)_MEAN',\n",
              " 'BURO_CREDIT_TYPE_Loan for the purchase of equipment_MEAN',\n",
              " 'BURO_CREDIT_TYPE_Loan for working capital replenishment_MEAN',\n",
              " 'BURO_CREDIT_TYPE_Microloan_MEAN',\n",
              " 'BURO_CREDIT_TYPE_Mobile operator loan_MEAN',\n",
              " 'BURO_CREDIT_TYPE_Mortgage_MEAN',\n",
              " 'BURO_CREDIT_TYPE_Real estate loan_MEAN',\n",
              " 'BURO_CREDIT_TYPE_Unknown type of loan_MEAN',\n",
              " 'BURO_STATUS_0_MEAN_MEAN',\n",
              " 'BURO_STATUS_1_MEAN_MEAN',\n",
              " 'BURO_STATUS_2_MEAN_MEAN',\n",
              " 'BURO_STATUS_3_MEAN_MEAN',\n",
              " 'BURO_STATUS_4_MEAN_MEAN',\n",
              " 'BURO_STATUS_5_MEAN_MEAN',\n",
              " 'BURO_STATUS_C_MEAN_MEAN',\n",
              " 'BURO_STATUS_X_MEAN_MEAN',\n",
              " 'ACTIVE_DAYS_CREDIT_MIN',\n",
              " 'ACTIVE_DAYS_CREDIT_MAX',\n",
              " 'ACTIVE_DAYS_CREDIT_MEAN',\n",
              " 'ACTIVE_DAYS_CREDIT_VAR',\n",
              " 'ACTIVE_DAYS_CREDIT_ENDDATE_MIN',\n",
              " 'ACTIVE_DAYS_CREDIT_ENDDATE_MAX',\n",
              " 'ACTIVE_DAYS_CREDIT_ENDDATE_MEAN',\n",
              " 'ACTIVE_DAYS_CREDIT_UPDATE_MEAN',\n",
              " 'ACTIVE_CREDIT_DAY_OVERDUE_MAX',\n",
              " 'ACTIVE_CREDIT_DAY_OVERDUE_MEAN',\n",
              " 'ACTIVE_AMT_CREDIT_MAX_OVERDUE_MEAN',\n",
              " 'ACTIVE_AMT_CREDIT_SUM_MAX',\n",
              " 'ACTIVE_AMT_CREDIT_SUM_MEAN',\n",
              " 'ACTIVE_AMT_CREDIT_SUM_SUM',\n",
              " 'ACTIVE_AMT_CREDIT_SUM_DEBT_MAX',\n",
              " 'ACTIVE_AMT_CREDIT_SUM_DEBT_MEAN',\n",
              " 'ACTIVE_AMT_CREDIT_SUM_DEBT_SUM',\n",
              " 'ACTIVE_AMT_CREDIT_SUM_OVERDUE_MEAN',\n",
              " 'ACTIVE_AMT_CREDIT_SUM_LIMIT_MEAN',\n",
              " 'ACTIVE_AMT_CREDIT_SUM_LIMIT_SUM',\n",
              " 'ACTIVE_AMT_ANNUITY_MAX',\n",
              " 'ACTIVE_AMT_ANNUITY_MEAN',\n",
              " 'ACTIVE_CNT_CREDIT_PROLONG_SUM',\n",
              " 'ACTIVE_MONTHS_BALANCE_MIN_MIN',\n",
              " 'ACTIVE_MONTHS_BALANCE_MAX_MAX',\n",
              " 'ACTIVE_MONTHS_BALANCE_SIZE_MEAN',\n",
              " 'ACTIVE_MONTHS_BALANCE_SIZE_SUM',\n",
              " 'CLOSED_DAYS_CREDIT_MIN',\n",
              " 'CLOSED_DAYS_CREDIT_MAX',\n",
              " 'CLOSED_DAYS_CREDIT_MEAN',\n",
              " 'CLOSED_DAYS_CREDIT_VAR',\n",
              " 'CLOSED_DAYS_CREDIT_ENDDATE_MIN',\n",
              " 'CLOSED_DAYS_CREDIT_ENDDATE_MAX',\n",
              " 'CLOSED_DAYS_CREDIT_ENDDATE_MEAN',\n",
              " 'CLOSED_DAYS_CREDIT_UPDATE_MEAN',\n",
              " 'CLOSED_CREDIT_DAY_OVERDUE_MAX',\n",
              " 'CLOSED_CREDIT_DAY_OVERDUE_MEAN',\n",
              " 'CLOSED_AMT_CREDIT_MAX_OVERDUE_MEAN',\n",
              " 'CLOSED_AMT_CREDIT_SUM_MAX',\n",
              " 'CLOSED_AMT_CREDIT_SUM_MEAN',\n",
              " 'CLOSED_AMT_CREDIT_SUM_SUM',\n",
              " 'CLOSED_AMT_CREDIT_SUM_DEBT_MAX',\n",
              " 'CLOSED_AMT_CREDIT_SUM_DEBT_MEAN',\n",
              " 'CLOSED_AMT_CREDIT_SUM_DEBT_SUM',\n",
              " 'CLOSED_AMT_CREDIT_SUM_OVERDUE_MEAN',\n",
              " 'CLOSED_AMT_CREDIT_SUM_LIMIT_MEAN',\n",
              " 'CLOSED_AMT_CREDIT_SUM_LIMIT_SUM',\n",
              " 'CLOSED_AMT_ANNUITY_MAX',\n",
              " 'CLOSED_AMT_ANNUITY_MEAN',\n",
              " 'CLOSED_CNT_CREDIT_PROLONG_SUM',\n",
              " 'CLOSED_MONTHS_BALANCE_MIN_MIN',\n",
              " 'CLOSED_MONTHS_BALANCE_MAX_MAX',\n",
              " 'CLOSED_MONTHS_BALANCE_SIZE_MEAN',\n",
              " 'CLOSED_MONTHS_BALANCE_SIZE_SUM',\n",
              " 'PREV_AMT_ANNUITY_MIN',\n",
              " 'PREV_AMT_ANNUITY_MAX',\n",
              " 'PREV_AMT_ANNUITY_MEAN',\n",
              " 'PREV_AMT_APPLICATION_MIN',\n",
              " 'PREV_AMT_APPLICATION_MAX',\n",
              " 'PREV_AMT_APPLICATION_MEAN',\n",
              " 'PREV_AMT_CREDIT_MIN',\n",
              " 'PREV_AMT_CREDIT_MAX',\n",
              " 'PREV_AMT_CREDIT_MEAN',\n",
              " 'PREV_APP_CREDIT_PERC_MIN',\n",
              " 'PREV_APP_CREDIT_PERC_MAX',\n",
              " 'PREV_APP_CREDIT_PERC_MEAN',\n",
              " 'PREV_APP_CREDIT_PERC_VAR',\n",
              " 'PREV_AMT_DOWN_PAYMENT_MIN',\n",
              " 'PREV_AMT_DOWN_PAYMENT_MAX',\n",
              " 'PREV_AMT_DOWN_PAYMENT_MEAN',\n",
              " 'PREV_AMT_GOODS_PRICE_MIN',\n",
              " 'PREV_AMT_GOODS_PRICE_MAX',\n",
              " 'PREV_AMT_GOODS_PRICE_MEAN',\n",
              " 'PREV_HOUR_APPR_PROCESS_START_MIN',\n",
              " 'PREV_HOUR_APPR_PROCESS_START_MAX',\n",
              " 'PREV_HOUR_APPR_PROCESS_START_MEAN',\n",
              " 'PREV_RATE_DOWN_PAYMENT_MIN',\n",
              " 'PREV_RATE_DOWN_PAYMENT_MAX',\n",
              " 'PREV_RATE_DOWN_PAYMENT_MEAN',\n",
              " 'PREV_DAYS_DECISION_MIN',\n",
              " 'PREV_DAYS_DECISION_MAX',\n",
              " 'PREV_DAYS_DECISION_MEAN',\n",
              " 'PREV_CNT_PAYMENT_MEAN',\n",
              " 'PREV_CNT_PAYMENT_SUM',\n",
              " 'PREV_NAME_CONTRACT_TYPE_Cash loans_MEAN',\n",
              " 'PREV_NAME_CONTRACT_TYPE_Consumer loans_MEAN',\n",
              " 'PREV_NAME_CONTRACT_TYPE_Revolving loans_MEAN',\n",
              " 'PREV_NAME_CONTRACT_TYPE_XNA_MEAN',\n",
              " 'PREV_WEEKDAY_APPR_PROCESS_START_FRIDAY_MEAN',\n",
              " 'PREV_WEEKDAY_APPR_PROCESS_START_MONDAY_MEAN',\n",
              " 'PREV_WEEKDAY_APPR_PROCESS_START_SATURDAY_MEAN',\n",
              " 'PREV_WEEKDAY_APPR_PROCESS_START_SUNDAY_MEAN',\n",
              " 'PREV_WEEKDAY_APPR_PROCESS_START_THURSDAY_MEAN',\n",
              " 'PREV_WEEKDAY_APPR_PROCESS_START_TUESDAY_MEAN',\n",
              " 'PREV_WEEKDAY_APPR_PROCESS_START_WEDNESDAY_MEAN',\n",
              " 'PREV_FLAG_LAST_APPL_PER_CONTRACT_N_MEAN',\n",
              " 'PREV_FLAG_LAST_APPL_PER_CONTRACT_Y_MEAN',\n",
              " 'PREV_NAME_CASH_LOAN_PURPOSE_Building a house or an annex_MEAN',\n",
              " 'PREV_NAME_CASH_LOAN_PURPOSE_Business development_MEAN',\n",
              " 'PREV_NAME_CASH_LOAN_PURPOSE_Buying a garage_MEAN',\n",
              " 'PREV_NAME_CASH_LOAN_PURPOSE_Buying a holiday home / land_MEAN',\n",
              " 'PREV_NAME_CASH_LOAN_PURPOSE_Buying a home_MEAN',\n",
              " 'PREV_NAME_CASH_LOAN_PURPOSE_Buying a new car_MEAN',\n",
              " 'PREV_NAME_CASH_LOAN_PURPOSE_Buying a used car_MEAN',\n",
              " 'PREV_NAME_CASH_LOAN_PURPOSE_Car repairs_MEAN',\n",
              " 'PREV_NAME_CASH_LOAN_PURPOSE_Education_MEAN',\n",
              " 'PREV_NAME_CASH_LOAN_PURPOSE_Everyday expenses_MEAN',\n",
              " 'PREV_NAME_CASH_LOAN_PURPOSE_Furniture_MEAN',\n",
              " 'PREV_NAME_CASH_LOAN_PURPOSE_Gasification / water supply_MEAN',\n",
              " 'PREV_NAME_CASH_LOAN_PURPOSE_Hobby_MEAN',\n",
              " 'PREV_NAME_CASH_LOAN_PURPOSE_Journey_MEAN',\n",
              " 'PREV_NAME_CASH_LOAN_PURPOSE_Medicine_MEAN',\n",
              " 'PREV_NAME_CASH_LOAN_PURPOSE_Money for a third person_MEAN',\n",
              " 'PREV_NAME_CASH_LOAN_PURPOSE_Other_MEAN',\n",
              " 'PREV_NAME_CASH_LOAN_PURPOSE_Payments on other loans_MEAN',\n",
              " 'PREV_NAME_CASH_LOAN_PURPOSE_Purchase of electronic equipment_MEAN',\n",
              " 'PREV_NAME_CASH_LOAN_PURPOSE_Refusal to name the goal_MEAN',\n",
              " 'PREV_NAME_CASH_LOAN_PURPOSE_Repairs_MEAN',\n",
              " 'PREV_NAME_CASH_LOAN_PURPOSE_Urgent needs_MEAN',\n",
              " 'PREV_NAME_CASH_LOAN_PURPOSE_Wedding / gift / holiday_MEAN',\n",
              " 'PREV_NAME_CASH_LOAN_PURPOSE_XAP_MEAN',\n",
              " 'PREV_NAME_CASH_LOAN_PURPOSE_XNA_MEAN',\n",
              " 'PREV_NAME_CONTRACT_STATUS_Approved_MEAN',\n",
              " 'PREV_NAME_CONTRACT_STATUS_Canceled_MEAN',\n",
              " 'PREV_NAME_CONTRACT_STATUS_Refused_MEAN',\n",
              " 'PREV_NAME_CONTRACT_STATUS_Unused offer_MEAN',\n",
              " 'PREV_NAME_PAYMENT_TYPE_Cash through the bank_MEAN',\n",
              " 'PREV_NAME_PAYMENT_TYPE_Cashless from the account of the employer_MEAN',\n",
              " 'PREV_NAME_PAYMENT_TYPE_Non-cash from your account_MEAN',\n",
              " 'PREV_NAME_PAYMENT_TYPE_XNA_MEAN',\n",
              " 'PREV_CODE_REJECT_REASON_CLIENT_MEAN',\n",
              " 'PREV_CODE_REJECT_REASON_HC_MEAN',\n",
              " 'PREV_CODE_REJECT_REASON_LIMIT_MEAN',\n",
              " 'PREV_CODE_REJECT_REASON_SCO_MEAN',\n",
              " 'PREV_CODE_REJECT_REASON_SCOFR_MEAN',\n",
              " 'PREV_CODE_REJECT_REASON_SYSTEM_MEAN',\n",
              " 'PREV_CODE_REJECT_REASON_VERIF_MEAN',\n",
              " 'PREV_CODE_REJECT_REASON_XAP_MEAN',\n",
              " 'PREV_CODE_REJECT_REASON_XNA_MEAN',\n",
              " 'PREV_NAME_TYPE_SUITE_Children_MEAN',\n",
              " 'PREV_NAME_TYPE_SUITE_Family_MEAN',\n",
              " 'PREV_NAME_TYPE_SUITE_Group of people_MEAN',\n",
              " 'PREV_NAME_TYPE_SUITE_Other_A_MEAN',\n",
              " 'PREV_NAME_TYPE_SUITE_Other_B_MEAN',\n",
              " 'PREV_NAME_TYPE_SUITE_Spouse, partner_MEAN',\n",
              " 'PREV_NAME_TYPE_SUITE_Unaccompanied_MEAN',\n",
              " 'PREV_NAME_TYPE_SUITE_nan_MEAN',\n",
              " 'PREV_NAME_CLIENT_TYPE_New_MEAN',\n",
              " 'PREV_NAME_CLIENT_TYPE_Refreshed_MEAN',\n",
              " 'PREV_NAME_CLIENT_TYPE_Repeater_MEAN',\n",
              " 'PREV_NAME_CLIENT_TYPE_XNA_MEAN',\n",
              " 'PREV_NAME_GOODS_CATEGORY_Additional Service_MEAN',\n",
              " 'PREV_NAME_GOODS_CATEGORY_Animals_MEAN',\n",
              " 'PREV_NAME_GOODS_CATEGORY_Audio/Video_MEAN',\n",
              " 'PREV_NAME_GOODS_CATEGORY_Auto Accessories_MEAN',\n",
              " 'PREV_NAME_GOODS_CATEGORY_Clothing and Accessories_MEAN',\n",
              " 'PREV_NAME_GOODS_CATEGORY_Computers_MEAN',\n",
              " 'PREV_NAME_GOODS_CATEGORY_Construction Materials_MEAN',\n",
              " 'PREV_NAME_GOODS_CATEGORY_Consumer Electronics_MEAN',\n",
              " 'PREV_NAME_GOODS_CATEGORY_Direct Sales_MEAN',\n",
              " 'PREV_NAME_GOODS_CATEGORY_Education_MEAN',\n",
              " 'PREV_NAME_GOODS_CATEGORY_Fitness_MEAN',\n",
              " 'PREV_NAME_GOODS_CATEGORY_Furniture_MEAN',\n",
              " 'PREV_NAME_GOODS_CATEGORY_Gardening_MEAN',\n",
              " 'PREV_NAME_GOODS_CATEGORY_Homewares_MEAN',\n",
              " 'PREV_NAME_GOODS_CATEGORY_House Construction_MEAN',\n",
              " 'PREV_NAME_GOODS_CATEGORY_Insurance_MEAN',\n",
              " 'PREV_NAME_GOODS_CATEGORY_Jewelry_MEAN',\n",
              " 'PREV_NAME_GOODS_CATEGORY_Medical Supplies_MEAN',\n",
              " 'PREV_NAME_GOODS_CATEGORY_Medicine_MEAN',\n",
              " 'PREV_NAME_GOODS_CATEGORY_Mobile_MEAN',\n",
              " 'PREV_NAME_GOODS_CATEGORY_Office Appliances_MEAN',\n",
              " 'PREV_NAME_GOODS_CATEGORY_Other_MEAN',\n",
              " 'PREV_NAME_GOODS_CATEGORY_Photo / Cinema Equipment_MEAN',\n",
              " 'PREV_NAME_GOODS_CATEGORY_Sport and Leisure_MEAN',\n",
              " 'PREV_NAME_GOODS_CATEGORY_Tourism_MEAN',\n",
              " 'PREV_NAME_GOODS_CATEGORY_Vehicles_MEAN',\n",
              " 'PREV_NAME_GOODS_CATEGORY_Weapon_MEAN',\n",
              " 'PREV_NAME_GOODS_CATEGORY_XNA_MEAN',\n",
              " 'PREV_NAME_PORTFOLIO_Cards_MEAN',\n",
              " 'PREV_NAME_PORTFOLIO_Cars_MEAN',\n",
              " 'PREV_NAME_PORTFOLIO_Cash_MEAN',\n",
              " 'PREV_NAME_PORTFOLIO_POS_MEAN',\n",
              " 'PREV_NAME_PORTFOLIO_XNA_MEAN',\n",
              " 'PREV_NAME_PRODUCT_TYPE_XNA_MEAN',\n",
              " 'PREV_NAME_PRODUCT_TYPE_walk-in_MEAN',\n",
              " 'PREV_NAME_PRODUCT_TYPE_x-sell_MEAN',\n",
              " 'PREV_CHANNEL_TYPE_AP+ (Cash loan)_MEAN',\n",
              " 'PREV_CHANNEL_TYPE_Car dealer_MEAN',\n",
              " 'PREV_CHANNEL_TYPE_Channel of corporate sales_MEAN',\n",
              " 'PREV_CHANNEL_TYPE_Contact center_MEAN',\n",
              " 'PREV_CHANNEL_TYPE_Country-wide_MEAN',\n",
              " 'PREV_CHANNEL_TYPE_Credit and cash offices_MEAN',\n",
              " 'PREV_CHANNEL_TYPE_Regional / Local_MEAN',\n",
              " 'PREV_CHANNEL_TYPE_Stone_MEAN',\n",
              " 'PREV_NAME_SELLER_INDUSTRY_Auto technology_MEAN',\n",
              " 'PREV_NAME_SELLER_INDUSTRY_Clothing_MEAN',\n",
              " 'PREV_NAME_SELLER_INDUSTRY_Connectivity_MEAN',\n",
              " 'PREV_NAME_SELLER_INDUSTRY_Construction_MEAN',\n",
              " 'PREV_NAME_SELLER_INDUSTRY_Consumer electronics_MEAN',\n",
              " 'PREV_NAME_SELLER_INDUSTRY_Furniture_MEAN',\n",
              " 'PREV_NAME_SELLER_INDUSTRY_Industry_MEAN',\n",
              " 'PREV_NAME_SELLER_INDUSTRY_Jewelry_MEAN',\n",
              " 'PREV_NAME_SELLER_INDUSTRY_MLM partners_MEAN',\n",
              " 'PREV_NAME_SELLER_INDUSTRY_Tourism_MEAN',\n",
              " 'PREV_NAME_SELLER_INDUSTRY_XNA_MEAN',\n",
              " 'PREV_NAME_YIELD_GROUP_XNA_MEAN',\n",
              " 'PREV_NAME_YIELD_GROUP_high_MEAN',\n",
              " 'PREV_NAME_YIELD_GROUP_low_action_MEAN',\n",
              " 'PREV_NAME_YIELD_GROUP_low_normal_MEAN',\n",
              " 'PREV_NAME_YIELD_GROUP_middle_MEAN',\n",
              " 'PREV_PRODUCT_COMBINATION_Card Street_MEAN',\n",
              " 'PREV_PRODUCT_COMBINATION_Card X-Sell_MEAN',\n",
              " 'PREV_PRODUCT_COMBINATION_Cash_MEAN',\n",
              " 'PREV_PRODUCT_COMBINATION_Cash Street: high_MEAN',\n",
              " 'PREV_PRODUCT_COMBINATION_Cash Street: low_MEAN',\n",
              " 'PREV_PRODUCT_COMBINATION_Cash Street: middle_MEAN',\n",
              " 'PREV_PRODUCT_COMBINATION_Cash X-Sell: high_MEAN',\n",
              " 'PREV_PRODUCT_COMBINATION_Cash X-Sell: low_MEAN',\n",
              " 'PREV_PRODUCT_COMBINATION_Cash X-Sell: middle_MEAN',\n",
              " 'PREV_PRODUCT_COMBINATION_POS household with interest_MEAN',\n",
              " 'PREV_PRODUCT_COMBINATION_POS household without interest_MEAN',\n",
              " 'PREV_PRODUCT_COMBINATION_POS industry with interest_MEAN',\n",
              " 'PREV_PRODUCT_COMBINATION_POS industry without interest_MEAN',\n",
              " 'PREV_PRODUCT_COMBINATION_POS mobile with interest_MEAN',\n",
              " 'PREV_PRODUCT_COMBINATION_POS mobile without interest_MEAN',\n",
              " 'PREV_PRODUCT_COMBINATION_POS other with interest_MEAN',\n",
              " 'PREV_PRODUCT_COMBINATION_POS others without interest_MEAN',\n",
              " 'PREV_PRODUCT_COMBINATION_nan_MEAN',\n",
              " 'APPROVED_AMT_ANNUITY_MIN',\n",
              " 'APPROVED_AMT_ANNUITY_MAX',\n",
              " 'APPROVED_AMT_ANNUITY_MEAN',\n",
              " 'APPROVED_AMT_APPLICATION_MIN',\n",
              " 'APPROVED_AMT_APPLICATION_MAX',\n",
              " 'APPROVED_AMT_APPLICATION_MEAN',\n",
              " 'APPROVED_AMT_CREDIT_MIN',\n",
              " 'APPROVED_AMT_CREDIT_MAX',\n",
              " 'APPROVED_AMT_CREDIT_MEAN',\n",
              " 'APPROVED_APP_CREDIT_PERC_MIN',\n",
              " 'APPROVED_APP_CREDIT_PERC_MAX',\n",
              " 'APPROVED_APP_CREDIT_PERC_MEAN',\n",
              " 'APPROVED_APP_CREDIT_PERC_VAR',\n",
              " 'APPROVED_AMT_DOWN_PAYMENT_MIN',\n",
              " 'APPROVED_AMT_DOWN_PAYMENT_MAX',\n",
              " 'APPROVED_AMT_DOWN_PAYMENT_MEAN',\n",
              " 'APPROVED_AMT_GOODS_PRICE_MIN',\n",
              " 'APPROVED_AMT_GOODS_PRICE_MAX',\n",
              " 'APPROVED_AMT_GOODS_PRICE_MEAN',\n",
              " 'APPROVED_HOUR_APPR_PROCESS_START_MIN',\n",
              " 'APPROVED_HOUR_APPR_PROCESS_START_MAX',\n",
              " 'APPROVED_HOUR_APPR_PROCESS_START_MEAN',\n",
              " 'APPROVED_RATE_DOWN_PAYMENT_MIN',\n",
              " 'APPROVED_RATE_DOWN_PAYMENT_MAX',\n",
              " 'APPROVED_RATE_DOWN_PAYMENT_MEAN',\n",
              " 'APPROVED_DAYS_DECISION_MIN',\n",
              " 'APPROVED_DAYS_DECISION_MAX',\n",
              " 'APPROVED_DAYS_DECISION_MEAN',\n",
              " 'APPROVED_CNT_PAYMENT_MEAN',\n",
              " 'APPROVED_CNT_PAYMENT_SUM',\n",
              " 'REFUSED_AMT_ANNUITY_MIN',\n",
              " 'REFUSED_AMT_ANNUITY_MAX',\n",
              " 'REFUSED_AMT_ANNUITY_MEAN',\n",
              " 'REFUSED_AMT_APPLICATION_MIN',\n",
              " 'REFUSED_AMT_APPLICATION_MAX',\n",
              " 'REFUSED_AMT_APPLICATION_MEAN',\n",
              " 'REFUSED_AMT_CREDIT_MIN',\n",
              " 'REFUSED_AMT_CREDIT_MAX',\n",
              " 'REFUSED_AMT_CREDIT_MEAN',\n",
              " 'REFUSED_APP_CREDIT_PERC_MIN',\n",
              " 'REFUSED_APP_CREDIT_PERC_MAX',\n",
              " 'REFUSED_APP_CREDIT_PERC_MEAN',\n",
              " 'REFUSED_APP_CREDIT_PERC_VAR',\n",
              " 'REFUSED_AMT_DOWN_PAYMENT_MIN',\n",
              " 'REFUSED_AMT_DOWN_PAYMENT_MAX',\n",
              " 'REFUSED_AMT_DOWN_PAYMENT_MEAN',\n",
              " 'REFUSED_AMT_GOODS_PRICE_MIN',\n",
              " 'REFUSED_AMT_GOODS_PRICE_MAX',\n",
              " 'REFUSED_AMT_GOODS_PRICE_MEAN',\n",
              " 'REFUSED_HOUR_APPR_PROCESS_START_MIN',\n",
              " 'REFUSED_HOUR_APPR_PROCESS_START_MAX',\n",
              " 'REFUSED_HOUR_APPR_PROCESS_START_MEAN',\n",
              " 'REFUSED_RATE_DOWN_PAYMENT_MIN',\n",
              " 'REFUSED_RATE_DOWN_PAYMENT_MAX',\n",
              " 'REFUSED_RATE_DOWN_PAYMENT_MEAN',\n",
              " 'REFUSED_DAYS_DECISION_MIN',\n",
              " 'REFUSED_DAYS_DECISION_MAX',\n",
              " 'REFUSED_DAYS_DECISION_MEAN',\n",
              " 'REFUSED_CNT_PAYMENT_MEAN',\n",
              " 'REFUSED_CNT_PAYMENT_SUM',\n",
              " 'POS_MONTHS_BALANCE_MAX',\n",
              " 'POS_MONTHS_BALANCE_MEAN',\n",
              " 'POS_MONTHS_BALANCE_SIZE',\n",
              " 'POS_SK_DPD_MAX',\n",
              " 'POS_SK_DPD_MEAN',\n",
              " 'POS_SK_DPD_DEF_MAX',\n",
              " 'POS_SK_DPD_DEF_MEAN',\n",
              " 'POS_NAME_CONTRACT_STATUS_Active_MEAN',\n",
              " 'POS_NAME_CONTRACT_STATUS_Amortized debt_MEAN',\n",
              " 'POS_NAME_CONTRACT_STATUS_Approved_MEAN',\n",
              " 'POS_NAME_CONTRACT_STATUS_Canceled_MEAN',\n",
              " 'POS_NAME_CONTRACT_STATUS_Completed_MEAN',\n",
              " 'POS_NAME_CONTRACT_STATUS_Demand_MEAN',\n",
              " 'POS_NAME_CONTRACT_STATUS_Returned to the store_MEAN',\n",
              " 'POS_NAME_CONTRACT_STATUS_Signed_MEAN',\n",
              " 'POS_NAME_CONTRACT_STATUS_XNA_MEAN',\n",
              " 'POS_COUNT',\n",
              " 'INSTAL_NUM_INSTALMENT_VERSION_NUNIQUE',\n",
              " 'INSTAL_DPD_MAX',\n",
              " 'INSTAL_DPD_MEAN',\n",
              " 'INSTAL_DPD_SUM',\n",
              " 'INSTAL_DBD_MAX',\n",
              " 'INSTAL_DBD_MEAN',\n",
              " 'INSTAL_DBD_SUM',\n",
              " 'INSTAL_PAYMENT_PERC_MAX',\n",
              " 'INSTAL_PAYMENT_PERC_MEAN',\n",
              " 'INSTAL_PAYMENT_PERC_SUM',\n",
              " 'INSTAL_PAYMENT_PERC_VAR',\n",
              " 'INSTAL_PAYMENT_DIFF_MAX',\n",
              " 'INSTAL_PAYMENT_DIFF_MEAN',\n",
              " 'INSTAL_PAYMENT_DIFF_SUM',\n",
              " 'INSTAL_PAYMENT_DIFF_VAR',\n",
              " 'INSTAL_AMT_INSTALMENT_MAX',\n",
              " 'INSTAL_AMT_INSTALMENT_MEAN',\n",
              " 'INSTAL_AMT_INSTALMENT_SUM',\n",
              " 'INSTAL_AMT_PAYMENT_MIN',\n",
              " 'INSTAL_AMT_PAYMENT_MAX',\n",
              " 'INSTAL_AMT_PAYMENT_MEAN',\n",
              " 'INSTAL_AMT_PAYMENT_SUM',\n",
              " 'INSTAL_DAYS_ENTRY_PAYMENT_MAX',\n",
              " 'INSTAL_DAYS_ENTRY_PAYMENT_MEAN',\n",
              " 'INSTAL_DAYS_ENTRY_PAYMENT_SUM',\n",
              " 'INSTAL_COUNT',\n",
              " 'CC_MONTHS_BALANCE_MIN',\n",
              " 'CC_MONTHS_BALANCE_MAX',\n",
              " 'CC_MONTHS_BALANCE_MEAN',\n",
              " 'CC_MONTHS_BALANCE_SUM',\n",
              " 'CC_MONTHS_BALANCE_VAR',\n",
              " 'CC_AMT_BALANCE_MIN',\n",
              " 'CC_AMT_BALANCE_MAX',\n",
              " 'CC_AMT_BALANCE_MEAN',\n",
              " 'CC_AMT_BALANCE_SUM',\n",
              " 'CC_AMT_BALANCE_VAR',\n",
              " 'CC_AMT_CREDIT_LIMIT_ACTUAL_MIN',\n",
              " 'CC_AMT_CREDIT_LIMIT_ACTUAL_MAX',\n",
              " 'CC_AMT_CREDIT_LIMIT_ACTUAL_MEAN',\n",
              " 'CC_AMT_CREDIT_LIMIT_ACTUAL_SUM',\n",
              " 'CC_AMT_CREDIT_LIMIT_ACTUAL_VAR',\n",
              " 'CC_AMT_DRAWINGS_ATM_CURRENT_MIN',\n",
              " 'CC_AMT_DRAWINGS_ATM_CURRENT_MAX',\n",
              " 'CC_AMT_DRAWINGS_ATM_CURRENT_MEAN',\n",
              " 'CC_AMT_DRAWINGS_ATM_CURRENT_SUM',\n",
              " 'CC_AMT_DRAWINGS_ATM_CURRENT_VAR',\n",
              " 'CC_AMT_DRAWINGS_CURRENT_MIN',\n",
              " 'CC_AMT_DRAWINGS_CURRENT_MAX',\n",
              " 'CC_AMT_DRAWINGS_CURRENT_MEAN',\n",
              " 'CC_AMT_DRAWINGS_CURRENT_SUM',\n",
              " 'CC_AMT_DRAWINGS_CURRENT_VAR',\n",
              " 'CC_AMT_DRAWINGS_OTHER_CURRENT_MIN',\n",
              " 'CC_AMT_DRAWINGS_OTHER_CURRENT_MAX',\n",
              " 'CC_AMT_DRAWINGS_OTHER_CURRENT_MEAN',\n",
              " 'CC_AMT_DRAWINGS_OTHER_CURRENT_SUM',\n",
              " 'CC_AMT_DRAWINGS_OTHER_CURRENT_VAR',\n",
              " 'CC_AMT_DRAWINGS_POS_CURRENT_MIN',\n",
              " 'CC_AMT_DRAWINGS_POS_CURRENT_MAX',\n",
              " 'CC_AMT_DRAWINGS_POS_CURRENT_MEAN',\n",
              " 'CC_AMT_DRAWINGS_POS_CURRENT_SUM',\n",
              " 'CC_AMT_DRAWINGS_POS_CURRENT_VAR',\n",
              " 'CC_AMT_INST_MIN_REGULARITY_MIN',\n",
              " 'CC_AMT_INST_MIN_REGULARITY_MAX',\n",
              " 'CC_AMT_INST_MIN_REGULARITY_MEAN',\n",
              " 'CC_AMT_INST_MIN_REGULARITY_SUM',\n",
              " 'CC_AMT_INST_MIN_REGULARITY_VAR',\n",
              " 'CC_AMT_PAYMENT_CURRENT_MIN',\n",
              " 'CC_AMT_PAYMENT_CURRENT_MAX',\n",
              " 'CC_AMT_PAYMENT_CURRENT_MEAN',\n",
              " 'CC_AMT_PAYMENT_CURRENT_SUM',\n",
              " 'CC_AMT_PAYMENT_CURRENT_VAR',\n",
              " 'CC_AMT_PAYMENT_TOTAL_CURRENT_MIN',\n",
              " 'CC_AMT_PAYMENT_TOTAL_CURRENT_MAX',\n",
              " 'CC_AMT_PAYMENT_TOTAL_CURRENT_MEAN',\n",
              " 'CC_AMT_PAYMENT_TOTAL_CURRENT_SUM',\n",
              " 'CC_AMT_PAYMENT_TOTAL_CURRENT_VAR',\n",
              " 'CC_AMT_RECEIVABLE_PRINCIPAL_MIN',\n",
              " 'CC_AMT_RECEIVABLE_PRINCIPAL_MAX',\n",
              " 'CC_AMT_RECEIVABLE_PRINCIPAL_MEAN',\n",
              " 'CC_AMT_RECEIVABLE_PRINCIPAL_SUM',\n",
              " 'CC_AMT_RECEIVABLE_PRINCIPAL_VAR',\n",
              " 'CC_AMT_RECIVABLE_MIN',\n",
              " 'CC_AMT_RECIVABLE_MAX',\n",
              " 'CC_AMT_RECIVABLE_MEAN',\n",
              " 'CC_AMT_RECIVABLE_SUM',\n",
              " 'CC_AMT_RECIVABLE_VAR',\n",
              " 'CC_AMT_TOTAL_RECEIVABLE_MIN',\n",
              " 'CC_AMT_TOTAL_RECEIVABLE_MAX',\n",
              " 'CC_AMT_TOTAL_RECEIVABLE_MEAN',\n",
              " 'CC_AMT_TOTAL_RECEIVABLE_SUM',\n",
              " 'CC_AMT_TOTAL_RECEIVABLE_VAR',\n",
              " 'CC_CNT_DRAWINGS_ATM_CURRENT_MIN',\n",
              " 'CC_CNT_DRAWINGS_ATM_CURRENT_MAX',\n",
              " 'CC_CNT_DRAWINGS_ATM_CURRENT_MEAN',\n",
              " 'CC_CNT_DRAWINGS_ATM_CURRENT_SUM',\n",
              " 'CC_CNT_DRAWINGS_ATM_CURRENT_VAR',\n",
              " 'CC_CNT_DRAWINGS_CURRENT_MIN',\n",
              " 'CC_CNT_DRAWINGS_CURRENT_MAX',\n",
              " 'CC_CNT_DRAWINGS_CURRENT_MEAN',\n",
              " 'CC_CNT_DRAWINGS_CURRENT_SUM',\n",
              " 'CC_CNT_DRAWINGS_CURRENT_VAR',\n",
              " 'CC_CNT_DRAWINGS_OTHER_CURRENT_MIN',\n",
              " 'CC_CNT_DRAWINGS_OTHER_CURRENT_MAX',\n",
              " 'CC_CNT_DRAWINGS_OTHER_CURRENT_MEAN',\n",
              " 'CC_CNT_DRAWINGS_OTHER_CURRENT_SUM',\n",
              " 'CC_CNT_DRAWINGS_OTHER_CURRENT_VAR',\n",
              " 'CC_CNT_DRAWINGS_POS_CURRENT_MIN',\n",
              " 'CC_CNT_DRAWINGS_POS_CURRENT_MAX',\n",
              " 'CC_CNT_DRAWINGS_POS_CURRENT_MEAN',\n",
              " 'CC_CNT_DRAWINGS_POS_CURRENT_SUM',\n",
              " 'CC_CNT_DRAWINGS_POS_CURRENT_VAR',\n",
              " 'CC_CNT_INSTALMENT_MATURE_CUM_MIN',\n",
              " 'CC_CNT_INSTALMENT_MATURE_CUM_MAX',\n",
              " 'CC_CNT_INSTALMENT_MATURE_CUM_MEAN',\n",
              " 'CC_CNT_INSTALMENT_MATURE_CUM_SUM',\n",
              " 'CC_CNT_INSTALMENT_MATURE_CUM_VAR',\n",
              " 'CC_SK_DPD_MIN',\n",
              " 'CC_SK_DPD_MAX',\n",
              " 'CC_SK_DPD_MEAN',\n",
              " 'CC_SK_DPD_SUM',\n",
              " 'CC_SK_DPD_VAR',\n",
              " 'CC_SK_DPD_DEF_MIN',\n",
              " 'CC_SK_DPD_DEF_MAX',\n",
              " 'CC_SK_DPD_DEF_MEAN',\n",
              " 'CC_SK_DPD_DEF_SUM',\n",
              " 'CC_SK_DPD_DEF_VAR',\n",
              " 'CC_NAME_CONTRACT_STATUS_Active_MIN',\n",
              " 'CC_NAME_CONTRACT_STATUS_Active_MAX',\n",
              " 'CC_NAME_CONTRACT_STATUS_Active_MEAN',\n",
              " 'CC_NAME_CONTRACT_STATUS_Active_SUM',\n",
              " 'CC_NAME_CONTRACT_STATUS_Active_VAR',\n",
              " 'CC_NAME_CONTRACT_STATUS_Approved_MAX',\n",
              " 'CC_NAME_CONTRACT_STATUS_Approved_MEAN',\n",
              " 'CC_NAME_CONTRACT_STATUS_Approved_SUM',\n",
              " 'CC_NAME_CONTRACT_STATUS_Approved_VAR',\n",
              " 'CC_NAME_CONTRACT_STATUS_Completed_MIN',\n",
              " 'CC_NAME_CONTRACT_STATUS_Completed_MAX',\n",
              " 'CC_NAME_CONTRACT_STATUS_Completed_MEAN',\n",
              " 'CC_NAME_CONTRACT_STATUS_Completed_SUM',\n",
              " 'CC_NAME_CONTRACT_STATUS_Completed_VAR',\n",
              " 'CC_NAME_CONTRACT_STATUS_Demand_MIN',\n",
              " 'CC_NAME_CONTRACT_STATUS_Demand_MAX',\n",
              " 'CC_NAME_CONTRACT_STATUS_Demand_MEAN',\n",
              " 'CC_NAME_CONTRACT_STATUS_Demand_SUM',\n",
              " 'CC_NAME_CONTRACT_STATUS_Demand_VAR',\n",
              " 'CC_NAME_CONTRACT_STATUS_Refused_MAX',\n",
              " 'CC_NAME_CONTRACT_STATUS_Refused_MEAN',\n",
              " 'CC_NAME_CONTRACT_STATUS_Refused_SUM',\n",
              " 'CC_NAME_CONTRACT_STATUS_Refused_VAR',\n",
              " 'CC_NAME_CONTRACT_STATUS_Sent proposal_MAX',\n",
              " 'CC_NAME_CONTRACT_STATUS_Sent proposal_MEAN',\n",
              " 'CC_NAME_CONTRACT_STATUS_Sent proposal_SUM',\n",
              " 'CC_NAME_CONTRACT_STATUS_Sent proposal_VAR',\n",
              " 'CC_NAME_CONTRACT_STATUS_Signed_MIN',\n",
              " 'CC_NAME_CONTRACT_STATUS_Signed_MAX',\n",
              " 'CC_NAME_CONTRACT_STATUS_Signed_MEAN',\n",
              " 'CC_NAME_CONTRACT_STATUS_Signed_SUM',\n",
              " 'CC_NAME_CONTRACT_STATUS_Signed_VAR',\n",
              " 'CC_COUNT']"
            ]
          },
          "execution_count": 4,
          "metadata": {},
          "output_type": "execute_result"
        }
      ],
      "source": [
        "list(df)"
      ]
    },
    {
      "cell_type": "code",
      "execution_count": 5,
      "metadata": {
        "colab": {
          "base_uri": "https://localhost:8080/"
        },
        "id": "BxtHTELlvL5C",
        "outputId": "0c5b6590-4e44-4fb6-df8a-31aa1e96ae5b"
      },
      "outputs": [
        {
          "name": "stdout",
          "output_type": "stream",
          "text": [
            "<class 'pandas.core.frame.DataFrame'>\n",
            "RangeIndex: 356251 entries, 0 to 356250\n",
            "Columns: 770 entries, SK_ID_CURR to CC_COUNT\n",
            "dtypes: bool(133), float64(584), int64(42), object(11)\n",
            "memory usage: 1.7+ GB\n"
          ]
        }
      ],
      "source": [
        "df.info()"
      ]
    },
    {
      "cell_type": "markdown",
      "metadata": {
        "id": "zhBDVV49zY7E"
      },
      "source": [
        "#Les valeurs manquantes"
      ]
    },
    {
      "cell_type": "code",
      "execution_count": 7,
      "metadata": {
        "colab": {
          "base_uri": "https://localhost:8080/"
        },
        "id": "1hFZEgxSCcxy",
        "outputId": "2a83602e-372b-42bc-ef30-c43b1dde74cc"
      },
      "outputs": [
        {
          "name": "stdout",
          "output_type": "stream",
          "text": [
            "Le nombre de colonnes avec plus de 70% de valeurs manquantes: 144\n"
          ]
        }
      ],
      "source": [
        "#le pourcentage de valeurs manquantes pour chaque colonne\n",
        "valeur_m_p = df.isnull().mean() * 100\n",
        "\n",
        "#les colonnes avec plus de 70% de valeurs manquantes\n",
        "valeur_m_cols = valeur_m_p[valeur_m_p > 70].index\n",
        "\n",
        "#le nombre de colonnes avec plus de 70% de valeurs manquantes\n",
        "nb_valeur_m_cols = valeur_m_cols.shape[0]\n",
        "print(f\"Le nombre de colonnes avec plus de 70% de valeurs manquantes: {nb_valeur_m_cols}\")"
      ]
    },
    {
      "cell_type": "code",
      "execution_count": 6,
      "metadata": {
        "colab": {
          "base_uri": "https://localhost:8080/"
        },
        "id": "q9l0XlrlyeQd",
        "outputId": "d2e13128-76e0-408b-b928-2add83b632a4"
      },
      "outputs": [
        {
          "name": "stdout",
          "output_type": "stream",
          "text": [
            "TARGET                                  48744\n",
            "AMT_ANNUITY                                36\n",
            "AMT_GOODS_PRICE                           278\n",
            "DAYS_EMPLOYED                           64648\n",
            "OWN_CAR_AGE                            235239\n",
            "                                        ...  \n",
            "CC_NAME_CONTRACT_STATUS_Signed_MAX     252693\n",
            "CC_NAME_CONTRACT_STATUS_Signed_MEAN    252693\n",
            "CC_NAME_CONTRACT_STATUS_Signed_SUM     252693\n",
            "CC_NAME_CONTRACT_STATUS_Signed_VAR     253385\n",
            "CC_COUNT                               252693\n",
            "Length: 590, dtype: int64\n"
          ]
        }
      ],
      "source": [
        "#le nombre de valeurs manquantes par colonne\n",
        "missing_values = df.isnull().sum()\n",
        "missing_values = missing_values[missing_values > 0]\n",
        "print(missing_values)"
      ]
    },
    {
      "cell_type": "code",
      "execution_count": 8,
      "metadata": {
        "colab": {
          "base_uri": "https://localhost:8080/"
        },
        "id": "S_6i9lxGDY6j",
        "outputId": "6239a714-ba07-4ea0-fc8e-b8e789d33d6c"
      },
      "outputs": [
        {
          "name": "stdout",
          "output_type": "stream",
          "text": [
            "Le nombre de colonnes restantes après suppression: 626\n",
            "Le nombre de colonnes supprimées: 144\n"
          ]
        }
      ],
      "source": [
        "#la suppression des colonnes avec plus de 70% de valeurs manquantes\n",
        "df = df.drop(columns=valeur_m_cols)\n",
        "\n",
        "print(f\"Le nombre de colonnes restantes après suppression: {df.shape[1]}\")\n",
        "print(f\"Le nombre de colonnes supprimées: {len(valeur_m_cols)}\")"
      ]
    },
    {
      "cell_type": "code",
      "execution_count": 9,
      "metadata": {
        "colab": {
          "base_uri": "https://localhost:8080/"
        },
        "id": "4SHbGvaH0rdr",
        "outputId": "c0daaf1d-1364-4139-bd9c-c4e1bafb6f92"
      },
      "outputs": [
        {
          "name": "stdout",
          "output_type": "stream",
          "text": [
            "(307507, 626)\n"
          ]
        }
      ],
      "source": [
        "#je ne garde que les donneées où la colonne 'TARGET' n'est pas vide.\n",
        "# 'TARGET' est la variable à prédire (classification), donc ces données sont nécessaires pour l'entraînement.\n",
        "df_classification = df[df['TARGET'].notnull()]\n",
        "print(df_classification.shape)"
      ]
    },
    {
      "cell_type": "code",
      "execution_count": 10,
      "metadata": {
        "colab": {
          "base_uri": "https://localhost:8080/"
        },
        "id": "2hTKLkbSBDne",
        "outputId": "b2898d8d-1343-4903-ec6c-414f4e07ef7c"
      },
      "outputs": [
        {
          "name": "stdout",
          "output_type": "stream",
          "text": [
            "Index([], dtype='object')\n"
          ]
        }
      ],
      "source": [
        "#les colonnes cat\n",
        "cat_cols = df_classification.select_dtypes(include=['object']).columns\n",
        "print(cat_cols)"
      ]
    },
    {
      "cell_type": "markdown",
      "metadata": {
        "id": "Vvkx2M03BSrV"
      },
      "source": [
        "Après la suppression des cols à >70% de valeurs manquantes, il ne reste plus de cols cat."
      ]
    },
    {
      "cell_type": "code",
      "execution_count": 19,
      "metadata": {},
      "outputs": [],
      "source": [
        "#le df sans imputation (avec nan)\n",
        "df_classification.to_csv('df_classification.csv', index=False)"
      ]
    },
    {
      "cell_type": "markdown",
      "metadata": {
        "id": "YeV9rabqL71P"
      },
      "source": [
        "#Imputation"
      ]
    },
    {
      "cell_type": "code",
      "execution_count": 11,
      "metadata": {
        "id": "D3aJa4VFL-Rw"
      },
      "outputs": [],
      "source": [
        "#je remplace les valeurs manquantes par la moyenne des colonnes numériques\n",
        "df_classification_imputed = df_classification.copy()\n",
        "df_classification_imputed.fillna(df_classification.mean(), inplace=True)"
      ]
    },
    {
      "cell_type": "code",
      "execution_count": 12,
      "metadata": {
        "colab": {
          "base_uri": "https://localhost:8080/"
        },
        "id": "AwKQhSVHMAC3",
        "outputId": "4ba90b9c-6365-4425-f47e-f8069b30397f"
      },
      "outputs": [
        {
          "name": "stdout",
          "output_type": "stream",
          "text": [
            "0\n"
          ]
        }
      ],
      "source": [
        "#vérification qu'il n'y a plus de valeurs manquantes\n",
        "print(df_classification_imputed.isnull().sum().sum())"
      ]
    },
    {
      "cell_type": "code",
      "execution_count": 13,
      "metadata": {
        "id": "9Rpbt8SjCIOR"
      },
      "outputs": [],
      "source": [
        "#le df avec imputation mean en csv\n",
        "df_classification_imputed.to_csv('df_classification_imputed.csv', index=False)"
      ]
    },
    {
      "cell_type": "code",
      "execution_count": 14,
      "metadata": {
        "colab": {
          "base_uri": "https://localhost:8080/"
        },
        "id": "5HjpwVTNCY6C",
        "outputId": "5b49a645-1c34-4240-bd0d-6d2f3188f35c"
      },
      "outputs": [
        {
          "data": {
            "text/plain": [
              "(307507, 626)"
            ]
          },
          "execution_count": 14,
          "metadata": {},
          "output_type": "execute_result"
        }
      ],
      "source": [
        "df = pd.read_csv('df_classification_imputed.csv', sep = ',')\n",
        "df.shape"
      ]
    },
    {
      "cell_type": "markdown",
      "metadata": {
        "id": "XqxyIGw8gIo6"
      },
      "source": [
        "#début modif"
      ]
    },
    {
      "cell_type": "markdown",
      "metadata": {
        "id": "YQ5-G5Tug7ti"
      },
      "source": [
        "##standarisation des données"
      ]
    },
    {
      "cell_type": "code",
      "execution_count": null,
      "metadata": {
        "id": "brZxpQR1gCXO"
      },
      "outputs": [],
      "source": [
        "'''df = df_classification_imputed'''"
      ]
    },
    {
      "cell_type": "code",
      "execution_count": null,
      "metadata": {
        "colab": {
          "base_uri": "https://localhost:8080/"
        },
        "id": "XuROGIENgCUy",
        "outputId": "203bd05d-c06b-439a-9554-bb1ff88c72b2"
      },
      "outputs": [
        {
          "name": "stdout",
          "output_type": "stream",
          "text": [
            "SK_ID_CURR                        3.016792e-16\n",
            "TARGET                            3.075482e-17\n",
            "CODE_GENDER                       1.506547e-17\n",
            "FLAG_OWN_CAR                      2.098075e-17\n",
            "FLAG_OWN_REALTY                   5.222081e-17\n",
            "                                      ...     \n",
            "INSTAL_AMT_PAYMENT_SUM           -9.614637e-17\n",
            "INSTAL_DAYS_ENTRY_PAYMENT_MAX     9.769451e-17\n",
            "INSTAL_DAYS_ENTRY_PAYMENT_MEAN   -8.609502e-17\n",
            "INSTAL_DAYS_ENTRY_PAYMENT_SUM     4.243519e-17\n",
            "INSTAL_COUNT                     -1.152324e-16\n",
            "Length: 493, dtype: float64\n",
            "SK_ID_CURR                        1.000002\n",
            "TARGET                            1.000002\n",
            "CODE_GENDER                       1.000002\n",
            "FLAG_OWN_CAR                      1.000002\n",
            "FLAG_OWN_REALTY                   1.000002\n",
            "                                    ...   \n",
            "INSTAL_AMT_PAYMENT_SUM            1.000002\n",
            "INSTAL_DAYS_ENTRY_PAYMENT_MAX     1.000002\n",
            "INSTAL_DAYS_ENTRY_PAYMENT_MEAN    1.000002\n",
            "INSTAL_DAYS_ENTRY_PAYMENT_SUM     1.000002\n",
            "INSTAL_COUNT                      1.000002\n",
            "Length: 493, dtype: float64\n"
          ]
        }
      ],
      "source": [
        "'''from sklearn.preprocessing import StandardScaler\n",
        "\n",
        "# Sélection des colonnes numériques\n",
        "num_cols = df.select_dtypes(include=['float64', 'int64']).columns\n",
        "\n",
        "# Initialisation du scaler\n",
        "scaler = StandardScaler()\n",
        "\n",
        "# Application du scaler aux colonnes numériques\n",
        "df[num_cols] = scaler.fit_transform(df[num_cols])\n",
        "\n",
        "# Vérification que les données sont standardisées (moyenne ≈ 0, écart type ≈ 1)\n",
        "print(df[num_cols].mean())\n",
        "print(df[num_cols].std())'''\n"
      ]
    },
    {
      "cell_type": "code",
      "execution_count": 18,
      "metadata": {
        "id": "TwLVEWoPgCR-"
      },
      "outputs": [
        {
          "name": "stderr",
          "output_type": "stream",
          "text": [
            "c:\\Users\\HP\\OneDrive\\Documents\\P7_opc\\venv\\Lib\\site-packages\\tqdm\\auto.py:21: TqdmWarning: IProgress not found. Please update jupyter and ipywidgets. See https://ipywidgets.readthedocs.io/en/stable/user_install.html\n",
            "  from .autonotebook import tqdm as notebook_tqdm\n"
          ]
        }
      ],
      "source": [
        "import pandas as pd\n",
        "import numpy as np\n",
        "from lightgbm import LGBMClassifier\n",
        "from sklearn.model_selection import cross_val_predict, StratifiedKFold\n",
        "from sklearn.metrics import roc_auc_score, accuracy_score, confusion_matrix, roc_curve\n",
        "from sklearn.preprocessing import StandardScaler\n",
        "import gc\n",
        "import time\n",
        "import mlflow\n",
        "import mlflow.sklearn\n",
        "import matplotlib.pyplot as plt\n",
        "import optuna\n",
        "import logging\n",
        "from imblearn.over_sampling import SMOTE"
      ]
    },
    {
      "cell_type": "code",
      "execution_count": 20,
      "metadata": {
        "id": "256LvtrZgCPI"
      },
      "outputs": [
        {
          "name": "stderr",
          "output_type": "stream",
          "text": [
            "2024/10/15 12:55:54 INFO mlflow.tracking.fluent: Experiment with name 'LightGBM' does not exist. Creating a new experiment.\n"
          ]
        },
        {
          "data": {
            "text/plain": [
              "<Experiment: artifact_location='file:///c:/Users/HP/OneDrive/Documents/P7_opc/mlruns/298646239419190832', creation_time=1728989754862, experiment_id='298646239419190832', last_update_time=1728989754862, lifecycle_stage='active', name='LightGBM', tags={}>"
            ]
          },
          "execution_count": 20,
          "metadata": {},
          "output_type": "execute_result"
        }
      ],
      "source": [
        "#configuration de l'environnement d'expérience dans MLflow\n",
        "# Initialiser MLFlow\n",
        "mlflow.set_experiment('LightGBM')"
      ]
    },
    {
      "cell_type": "code",
      "execution_count": 21,
      "metadata": {
        "id": "8ioZOHGRgCMO"
      },
      "outputs": [],
      "source": [
        "#la préparation des données\n",
        "\n",
        "#le nombre d'exemples pour chaque classe (TARGET 0 et 1)\n",
        "nb_0 = (df_classification['TARGET'] == 0).sum()\n",
        "nb_1 = (df_classification['TARGET'] == 1).sum()\n",
        "\n",
        "X = df_classification.drop(columns=[\"TARGET\", \"SK_ID_CURR\"])\n",
        "y = df_classification[\"TARGET\"]\n",
        "\n",
        "#les caractéristiques sont normalisées avec StandardScaler\n",
        "scaler = StandardScaler()\n",
        "X = scaler.fit_transform(X)\n"
      ]
    },
    {
      "cell_type": "code",
      "execution_count": null,
      "metadata": {
        "id": "wL67dW5agCJy"
      },
      "outputs": [],
      "source": [
        "#la validation croisée\n",
        "\n",
        "#pour diviser les données en 5 sous-ensembles\n",
        "cv = StratifiedKFold(n_splits=5)\n",
        "#pour gérer le déséquilibre des classes\n",
        "class_weights = {0: 1, 1: nb_0 / nb_1}\n"
      ]
    },
    {
      "cell_type": "code",
      "execution_count": null,
      "metadata": {
        "id": "ZPKvsiqWgCHB"
      },
      "outputs": [],
      "source": [
        "#les hyperparamètres à optimiser\n",
        "\n",
        "def objective(trial):\n",
        "    lr = trial.suggest_float('lr', 0.001, 0.1, log=True)\n",
        "    num_leaves = trial.suggest_int('num_leaves', 31, 70)\n",
        "    n_estimators = trial.suggest_int('n_estimators', 100, 1000, log=True)\n",
        "    threshold = trial.suggest_float('threshold', 0.4, 0.6, step=0.01)\n"
      ]
    },
    {
      "cell_type": "code",
      "execution_count": null,
      "metadata": {
        "id": "t0ltBgb7gCEV"
      },
      "outputs": [],
      "source": [
        "#entrainement et évaluation du modèle\n",
        "\n",
        "#un modèle LGBMClassifier est créé avec les hyperparamètres spécifiés\n",
        "#cross_val_predict est utilisé pour effectuer une validation croisée et obtenir les probabilités prédites y_prob\n",
        "#le code évalue les performances du modèle en calculant le AUC, la précision et un coût métier basé sur les faux positifs (FP) et les faux négatifs (FN)\n",
        "\n",
        "model = LGBMClassifier(learning_rate=lr, num_leaves=num_leaves, n_estimators=n_estimators, class_weight=class_weights, verbose=-1)\n"
      ]
    },
    {
      "cell_type": "code",
      "execution_count": null,
      "metadata": {
        "id": "U9w5xHwcgCB6"
      },
      "outputs": [],
      "source": [
        "#suivi avec MLflow\n",
        "\n",
        "#les résultats sont enregistrés dans MLflow, incluant les paramètres, les métriques de performance et la courbe ROC\n",
        "with mlflow.start_run():\n",
        "    mlflow.log_param(\"Learning Rate\", lr)\n",
        "    mlflow.log_param(\"Num Leaves\", num_leaves)\n",
        "    mlflow.log_param(\"N Estimators\", n_estimators) \n",
        "    mlflow.log_param(\"Threshold\", round(threshold, 2))\n",
        "    mlflow.log_metric(\"AUC\", auc)\n",
        "    mlflow.log_metric(\"Accuracy\", acc)\n",
        "    mlflow.log_metric(\"Business Score\", cost)\n",
        "\n",
        "    # Enregistrer les temps dans mlflow\n",
        "    mlflow.log_metric(\"Fit Time\", fit_duration)\n",
        "    mlflow.log_metric(\"Prediction Time\", pred_duration)\n",
        "    \n",
        "    fpr, tpr, _ = roc_curve(y, y_prob)\n",
        "    plt.figure(figsize=(10, 7))\n",
        "    plt.plot(fpr, tpr, label=f'AUC: {auc:.2f}')\n",
        "    plt.title('ROC Curve')\n",
        "    plt.xlabel('False Positive Rate')\n",
        "    plt.ylabel('True Positive Rate')\n",
        "    plt.legend(loc='lower right')\n",
        "    plt.savefig(\"roc_curve.png\")\n",
        "    mlflow.log_artifact(\"roc_curve.png\")\n"
      ]
    },
    {
      "cell_type": "code",
      "execution_count": null,
      "metadata": {
        "id": "0NHYv5FggB_Q"
      },
      "outputs": [],
      "source": [
        "#optimisation avec Optuna\n",
        "\n",
        "#la fonction objective est optimisée pour un nombre total de combinaisons défini (total_combinations)\n",
        "study = optuna.create_study(direction='minimize')\n",
        "study.optimize(objective, n_trials=total_combinations, callbacks=[lambda study, trial: print_progress(study, trial, total_combinations)])\n"
      ]
    },
    {
      "cell_type": "code",
      "execution_count": null,
      "metadata": {
        "id": "QKoh-tKvgB8Q"
      },
      "outputs": [],
      "source": [
        "#les résultats de toutes les tentatives sont stockés dans un DataFrame pour analyse\n",
        "results_df = pd.DataFrame(results)\n"
      ]
    },
    {
      "cell_type": "code",
      "execution_count": 25,
      "metadata": {},
      "outputs": [
        {
          "name": "stderr",
          "output_type": "stream",
          "text": [
            "C:\\Users\\HP\\AppData\\Local\\Temp\\ipykernel_6736\\3736971366.py:10: DeprecationWarning: DataFrameGroupBy.apply operated on the grouping columns. This behavior is deprecated, and in a future version of pandas the grouping columns will be excluded from the operation. Either pass `include_groups=False` to exclude the groupings or explicitly select the grouping columns after groupby to silence this warning.\n",
            "  df_sample = df_classification_imputed.groupby('TARGET', group_keys=False).apply(lambda x: x.sample(int(sample_size * class_distribution.loc[x.name]), random_state=42))\n"
          ]
        },
        {
          "name": "stdout",
          "output_type": "stream",
          "text": [
            "TARGET\n",
            "0.0    0.919278\n",
            "1.0    0.080722\n",
            "Name: proportion, dtype: float64\n"
          ]
        }
      ],
      "source": [
        "#pour obtenir un échantillon stratifié en fonction de la distribution de la classe\n",
        "\n",
        "# La taille de l'échantillon total\n",
        "sample_size = 50000\n",
        "\n",
        "# Calcul de la proportion des classes\n",
        "class_distribution = df_classification_imputed['TARGET'].value_counts(normalize=True)\n",
        "\n",
        "# Échantillon stratifié en fonction de la distribution de 'TARGET'\n",
        "df_sample = df_classification_imputed.groupby('TARGET', group_keys=False).apply(lambda x: x.sample(int(sample_size * class_distribution.loc[x.name]), random_state=42))\n",
        "\n",
        "# Distribution dans l'échantillon\n",
        "print(df_sample['TARGET'].value_counts(normalize=True))"
      ]
    },
    {
      "cell_type": "code",
      "execution_count": 26,
      "metadata": {},
      "outputs": [],
      "source": [
        "df_sample.to_csv('df_sample.csv', index=False)\n"
      ]
    },
    {
      "cell_type": "code",
      "execution_count": 27,
      "metadata": {},
      "outputs": [],
      "source": [
        "#lightGBM ne prend pas en charge les caractères spéciaux dans les noms de colonnes donc je les supprime\n",
        "import re\n",
        "\n",
        "#la fonction pour nettoyer les noms de colonnes\n",
        "def clean_column_names(df):\n",
        "    df.columns = [re.sub(r'\\W+', '_', col) for col in df.columns]\n",
        "    return df\n",
        "\n",
        "#j'applique la fonction à X_train et X_val\n",
        "df_sample = clean_column_names(df_sample)\n",
        "\n",
        "\n",
        "#maintenant les colonnes ne contiennent plus de caractères spéciaux"
      ]
    },
    {
      "cell_type": "code",
      "execution_count": 31,
      "metadata": {
        "id": "OBxhRdo6gB5t"
      },
      "outputs": [
        {
          "name": "stderr",
          "output_type": "stream",
          "text": [
            "2024/10/15 14:58:33 WARNING mlflow.models.model: Model logged without a signature and input example. Please set `input_example` parameter when logging the model to auto infer the model signature.\n",
            "2024/10/15 15:23:34 WARNING mlflow.models.model: Model logged without a signature and input example. Please set `input_example` parameter when logging the model to auto infer the model signature.\n",
            "2024/10/15 15:29:25 WARNING mlflow.models.model: Model logged without a signature and input example. Please set `input_example` parameter when logging the model to auto infer the model signature.\n",
            "2024/10/15 15:44:07 WARNING mlflow.models.model: Model logged without a signature and input example. Please set `input_example` parameter when logging the model to auto infer the model signature.\n",
            "2024/10/15 15:52:41 WARNING mlflow.models.model: Model logged without a signature and input example. Please set `input_example` parameter when logging the model to auto infer the model signature.\n",
            "2024/10/15 16:05:39 WARNING mlflow.models.model: Model logged without a signature and input example. Please set `input_example` parameter when logging the model to auto infer the model signature.\n",
            "2024/10/15 16:17:12 WARNING mlflow.models.model: Model logged without a signature and input example. Please set `input_example` parameter when logging the model to auto infer the model signature.\n",
            "2024/10/15 16:21:28 WARNING mlflow.models.model: Model logged without a signature and input example. Please set `input_example` parameter when logging the model to auto infer the model signature.\n",
            "2024/10/15 16:40:40 WARNING mlflow.models.model: Model logged without a signature and input example. Please set `input_example` parameter when logging the model to auto infer the model signature.\n",
            "2024/10/15 16:48:25 WARNING mlflow.models.model: Model logged without a signature and input example. Please set `input_example` parameter when logging the model to auto infer the model signature.\n",
            "2024/10/15 16:52:51 WARNING mlflow.models.model: Model logged without a signature and input example. Please set `input_example` parameter when logging the model to auto infer the model signature.\n",
            "2024/10/15 17:06:12 WARNING mlflow.models.model: Model logged without a signature and input example. Please set `input_example` parameter when logging the model to auto infer the model signature.\n",
            "2024/10/15 17:11:07 WARNING mlflow.models.model: Model logged without a signature and input example. Please set `input_example` parameter when logging the model to auto infer the model signature.\n",
            "2024/10/15 17:14:55 WARNING mlflow.models.model: Model logged without a signature and input example. Please set `input_example` parameter when logging the model to auto infer the model signature.\n",
            "2024/10/15 17:19:48 WARNING mlflow.models.model: Model logged without a signature and input example. Please set `input_example` parameter when logging the model to auto infer the model signature.\n",
            "2024/10/15 17:24:55 WARNING mlflow.models.model: Model logged without a signature and input example. Please set `input_example` parameter when logging the model to auto infer the model signature.\n",
            "2024/10/15 17:30:58 WARNING mlflow.models.model: Model logged without a signature and input example. Please set `input_example` parameter when logging the model to auto infer the model signature.\n",
            "2024/10/15 17:34:55 WARNING mlflow.models.model: Model logged without a signature and input example. Please set `input_example` parameter when logging the model to auto infer the model signature.\n",
            "2024/10/15 17:39:43 WARNING mlflow.models.model: Model logged without a signature and input example. Please set `input_example` parameter when logging the model to auto infer the model signature.\n",
            "2024/10/15 17:48:25 WARNING mlflow.models.model: Model logged without a signature and input example. Please set `input_example` parameter when logging the model to auto infer the model signature.\n",
            "2024/10/15 17:54:18 WARNING mlflow.models.model: Model logged without a signature and input example. Please set `input_example` parameter when logging the model to auto infer the model signature.\n",
            "2024/10/15 18:06:07 WARNING mlflow.models.model: Model logged without a signature and input example. Please set `input_example` parameter when logging the model to auto infer the model signature.\n",
            "2024/10/15 18:12:05 WARNING mlflow.models.model: Model logged without a signature and input example. Please set `input_example` parameter when logging the model to auto infer the model signature.\n",
            "2024/10/15 18:24:47 WARNING mlflow.models.model: Model logged without a signature and input example. Please set `input_example` parameter when logging the model to auto infer the model signature.\n",
            "2024/10/15 18:34:12 WARNING mlflow.models.model: Model logged without a signature and input example. Please set `input_example` parameter when logging the model to auto infer the model signature.\n",
            "2024/10/15 18:39:06 WARNING mlflow.models.model: Model logged without a signature and input example. Please set `input_example` parameter when logging the model to auto infer the model signature.\n",
            "2024/10/15 18:44:23 WARNING mlflow.models.model: Model logged without a signature and input example. Please set `input_example` parameter when logging the model to auto infer the model signature.\n",
            "2024/10/15 18:49:37 WARNING mlflow.models.model: Model logged without a signature and input example. Please set `input_example` parameter when logging the model to auto infer the model signature.\n",
            "2024/10/15 18:54:41 WARNING mlflow.models.model: Model logged without a signature and input example. Please set `input_example` parameter when logging the model to auto infer the model signature.\n",
            "2024/10/15 19:02:34 WARNING mlflow.models.model: Model logged without a signature and input example. Please set `input_example` parameter when logging the model to auto infer the model signature.\n",
            "2024/10/15 19:08:22 WARNING mlflow.models.model: Model logged without a signature and input example. Please set `input_example` parameter when logging the model to auto infer the model signature.\n",
            "2024/10/15 19:18:17 WARNING mlflow.models.model: Model logged without a signature and input example. Please set `input_example` parameter when logging the model to auto infer the model signature.\n",
            "2024/10/15 19:27:48 WARNING mlflow.models.model: Model logged without a signature and input example. Please set `input_example` parameter when logging the model to auto infer the model signature.\n",
            "2024/10/15 19:37:01 WARNING mlflow.models.model: Model logged without a signature and input example. Please set `input_example` parameter when logging the model to auto infer the model signature.\n",
            "2024/10/15 19:46:05 WARNING mlflow.models.model: Model logged without a signature and input example. Please set `input_example` parameter when logging the model to auto infer the model signature.\n",
            "2024/10/15 19:55:40 WARNING mlflow.models.model: Model logged without a signature and input example. Please set `input_example` parameter when logging the model to auto infer the model signature.\n",
            "2024/10/15 20:02:09 WARNING mlflow.models.model: Model logged without a signature and input example. Please set `input_example` parameter when logging the model to auto infer the model signature.\n",
            "2024/10/15 20:11:30 WARNING mlflow.models.model: Model logged without a signature and input example. Please set `input_example` parameter when logging the model to auto infer the model signature.\n",
            "2024/10/15 20:21:03 WARNING mlflow.models.model: Model logged without a signature and input example. Please set `input_example` parameter when logging the model to auto infer the model signature.\n",
            "2024/10/15 20:29:28 WARNING mlflow.models.model: Model logged without a signature and input example. Please set `input_example` parameter when logging the model to auto infer the model signature.\n",
            "2024/10/15 20:42:52 WARNING mlflow.models.model: Model logged without a signature and input example. Please set `input_example` parameter when logging the model to auto infer the model signature.\n",
            "2024/10/15 20:50:50 WARNING mlflow.models.model: Model logged without a signature and input example. Please set `input_example` parameter when logging the model to auto infer the model signature.\n",
            "2024/10/15 21:00:23 WARNING mlflow.models.model: Model logged without a signature and input example. Please set `input_example` parameter when logging the model to auto infer the model signature.\n",
            "2024/10/15 21:10:38 WARNING mlflow.models.model: Model logged without a signature and input example. Please set `input_example` parameter when logging the model to auto infer the model signature.\n",
            "2024/10/15 21:18:59 WARNING mlflow.models.model: Model logged without a signature and input example. Please set `input_example` parameter when logging the model to auto infer the model signature.\n",
            "2024/10/15 21:27:03 WARNING mlflow.models.model: Model logged without a signature and input example. Please set `input_example` parameter when logging the model to auto infer the model signature.\n",
            "2024/10/15 21:35:07 WARNING mlflow.models.model: Model logged without a signature and input example. Please set `input_example` parameter when logging the model to auto infer the model signature.\n",
            "2024/10/15 21:43:37 WARNING mlflow.models.model: Model logged without a signature and input example. Please set `input_example` parameter when logging the model to auto infer the model signature.\n",
            "2024/10/15 22:28:56 WARNING mlflow.models.model: Model logged without a signature and input example. Please set `input_example` parameter when logging the model to auto infer the model signature.\n",
            "2024/10/15 22:37:10 WARNING mlflow.models.model: Model logged without a signature and input example. Please set `input_example` parameter when logging the model to auto infer the model signature.\n"
          ]
        },
        {
          "name": "stdout",
          "output_type": "stream",
          "text": [
            "{'lr': 0.002332225147008313, 'num_leaves': 69, 'n_estimators': 164, 'threshold': 0.4}\n",
            "Temps d'exécution total: 28496.85 secondes\n"
          ]
        }
      ],
      "source": [
        "# Configuration du logger Optuna\n",
        "logging.getLogger('optuna').setLevel(logging.CRITICAL)\n",
        "\n",
        "# Démarrage du chronomètre\n",
        "start_time = time.time()\n",
        "\n",
        "# Configuration initiale de MLflow\n",
        "mlflow.set_experiment('LightGBM')\n",
        "\n",
        "# Séparer les features et la cible\n",
        "X = df_sample.drop(columns=[\"TARGET\", \"SK_ID_CURR\"])\n",
        "y = df_sample[\"TARGET\"]\n",
        "\n",
        "# Standardisation des features (en maintenant le DataFrame pour les indices)\n",
        "scaler = StandardScaler()\n",
        "X_scaled = scaler.fit_transform(X)\n",
        "X_scaled = pd.DataFrame(X_scaled, index=X.index, columns=X.columns)\n",
        "\n",
        "# Configuration de la validation croisée\n",
        "cv = StratifiedKFold(n_splits=5)\n",
        "\n",
        "# Définition de SMOTE pour traiter l'imbalance des classes\n",
        "smote = SMOTE()\n",
        "\n",
        "results = []\n",
        "total_combinations = 50\n",
        "\n",
        "def objective(trial):\n",
        "    # Hyperparamètres à optimiser\n",
        "    model = LGBMClassifier(\n",
        "        learning_rate=trial.suggest_float('lr', 0.001, 0.1, log=True),\n",
        "        num_leaves=trial.suggest_int('num_leaves', 31, 70),\n",
        "        n_estimators=trial.suggest_int('n_estimators', 100, 1000, log=True),\n",
        "        verbose=-1\n",
        "    )\n",
        "    \n",
        "    auc_scores, acc_scores, cost_scores = [], [], []\n",
        "    \n",
        "    # Validation croisée avec suréchantillonnage SMOTE\n",
        "    for train_idx, test_idx in cv.split(X_scaled, y):\n",
        "        X_train, X_test = X_scaled.iloc[train_idx], X_scaled.iloc[test_idx]\n",
        "        y_train, y_test = y.iloc[train_idx], y.iloc[test_idx]\n",
        "        \n",
        "        # Application de SMOTE sur les données d'entraînement\n",
        "        X_train_smote, y_train_smote = smote.fit_resample(X_train, y_train)\n",
        "        \n",
        "        # Entraîner le modèle avec les données SMOTE\n",
        "        model.fit(X_train_smote, y_train_smote)\n",
        "        \n",
        "        # Prédictions de probabilités\n",
        "        y_prob = model.predict_proba(X_test)[:, 1]\n",
        "        \n",
        "        # Définir un seuil (threshold) pour classer les résultats\n",
        "        threshold = trial.suggest_float('threshold', 0.4, 0.6, step=0.01)\n",
        "        y_pred = y_prob > threshold\n",
        "        \n",
        "        # Évaluation des métriques\n",
        "        auc_scores.append(roc_auc_score(y_test, y_prob))\n",
        "        acc_scores.append(accuracy_score(y_test, y_pred))\n",
        "        \n",
        "        tn, fp, fn, tp = confusion_matrix(y_test, y_pred).ravel()\n",
        "        cost_scores.append(fp + 10 * fn)\n",
        "    \n",
        "    # Calculer la moyenne des résultats sur les plis\n",
        "    auc = np.mean(auc_scores)\n",
        "    acc = np.mean(acc_scores)\n",
        "    cost = np.mean(cost_scores)\n",
        "    \n",
        "    results.append({\"AUC\": auc, \"Accuracy\": acc, \"Business Score\": cost})\n",
        "\n",
        "    # Enregistrement avec MLflow\n",
        "    with mlflow.start_run():\n",
        "        mlflow.log_params(trial.params)\n",
        "        mlflow.log_metrics({\"AUC\": auc, \"Accuracy\": acc, \"Business Score\": cost})\n",
        "\n",
        "        # Courbe ROC\n",
        "        fpr, tpr, _ = roc_curve(y_test, y_prob)\n",
        "        plt.figure(figsize=(10, 7))\n",
        "        plt.plot(fpr, tpr, label=f'AUC: {auc:.2f}')\n",
        "        plt.title('ROC Curve')\n",
        "        plt.xlabel('False Positive Rate')\n",
        "        plt.ylabel('True Positive Rate')\n",
        "        plt.legend(loc='lower right')\n",
        "        plt.savefig(\"roc_curve.png\")\n",
        "        plt.close()\n",
        "        mlflow.log_artifact(\"roc_curve.png\")\n",
        "\n",
        "        mlflow.sklearn.log_model(model, \"model\")\n",
        "    \n",
        "    gc.collect()\n",
        "    return cost\n",
        "\n",
        "# Optimisation avec Optuna\n",
        "study = optuna.create_study(direction='minimize')\n",
        "study.optimize(objective, n_trials=total_combinations)\n",
        "\n",
        "# Affichage des résultats\n",
        "results_df = pd.DataFrame(results)\n",
        "print(study.best_params)\n",
        "\n",
        "# Sauvegarde des résultats stylisés\n",
        "styled_df_LGM = results_df.sort_values(by='Business Score')\n",
        "styled_df_LGM.to_csv('results_LGM.csv', index=False)\n",
        "\n",
        "def highlight_max(s):\n",
        "    return ['background-color: green' if v == s.max() else '' for v in s]\n",
        "\n",
        "def highlight_min(s):\n",
        "    return ['background-color: green' if v == s.min() else '' for v in s]\n",
        "\n",
        "styled_df_LGM = (styled_df_LGM.style\n",
        "                 .apply(highlight_max, subset=['AUC', 'Accuracy'])\n",
        "                 .apply(highlight_min, subset=['Business Score'])\n",
        "                 .format({'Threshold': \"{:g}\"}))\n",
        "\n",
        "# Fin du chronomètre\n",
        "end_time = time.time()\n",
        "print(f\"Temps d'exécution total: {end_time - start_time:.2f} secondes\")\n",
        "\n",
        "\n"
      ]
    },
    {
      "cell_type": "code",
      "execution_count": 32,
      "metadata": {
        "id": "61JxHrlYgB3F"
      },
      "outputs": [
        {
          "data": {
            "text/html": [
              "<div>\n",
              "<style scoped>\n",
              "    .dataframe tbody tr th:only-of-type {\n",
              "        vertical-align: middle;\n",
              "    }\n",
              "\n",
              "    .dataframe tbody tr th {\n",
              "        vertical-align: top;\n",
              "    }\n",
              "\n",
              "    .dataframe thead th {\n",
              "        text-align: right;\n",
              "    }\n",
              "</style>\n",
              "<table border=\"1\" class=\"dataframe\">\n",
              "  <thead>\n",
              "    <tr style=\"text-align: right;\">\n",
              "      <th></th>\n",
              "      <th>AUC</th>\n",
              "      <th>Accuracy</th>\n",
              "      <th>Business Score</th>\n",
              "    </tr>\n",
              "  </thead>\n",
              "  <tbody>\n",
              "    <tr>\n",
              "      <th>0</th>\n",
              "      <td>0.671180</td>\n",
              "      <td>0.631553</td>\n",
              "      <td>6422.2</td>\n",
              "    </tr>\n",
              "    <tr>\n",
              "      <th>1</th>\n",
              "      <td>0.666429</td>\n",
              "      <td>0.724035</td>\n",
              "      <td>6518.0</td>\n",
              "    </tr>\n",
              "    <tr>\n",
              "      <th>2</th>\n",
              "      <td>0.676555</td>\n",
              "      <td>0.772575</td>\n",
              "      <td>6687.8</td>\n",
              "    </tr>\n",
              "    <tr>\n",
              "      <th>3</th>\n",
              "      <td>0.660806</td>\n",
              "      <td>0.741615</td>\n",
              "      <td>6698.6</td>\n",
              "    </tr>\n",
              "    <tr>\n",
              "      <th>4</th>\n",
              "      <td>0.666149</td>\n",
              "      <td>0.759995</td>\n",
              "      <td>6705.6</td>\n",
              "    </tr>\n",
              "    <tr>\n",
              "      <th>5</th>\n",
              "      <td>0.674639</td>\n",
              "      <td>0.779896</td>\n",
              "      <td>6724.4</td>\n",
              "    </tr>\n",
              "    <tr>\n",
              "      <th>6</th>\n",
              "      <td>0.640360</td>\n",
              "      <td>0.655353</td>\n",
              "      <td>6744.0</td>\n",
              "    </tr>\n",
              "    <tr>\n",
              "      <th>7</th>\n",
              "      <td>0.669386</td>\n",
              "      <td>0.774455</td>\n",
              "      <td>6746.4</td>\n",
              "    </tr>\n",
              "    <tr>\n",
              "      <th>8</th>\n",
              "      <td>0.654600</td>\n",
              "      <td>0.737855</td>\n",
              "      <td>6750.6</td>\n",
              "    </tr>\n",
              "    <tr>\n",
              "      <th>9</th>\n",
              "      <td>0.650562</td>\n",
              "      <td>0.731294</td>\n",
              "      <td>6758.6</td>\n",
              "    </tr>\n",
              "    <tr>\n",
              "      <th>10</th>\n",
              "      <td>0.669993</td>\n",
              "      <td>0.828877</td>\n",
              "      <td>7125.6</td>\n",
              "    </tr>\n",
              "    <tr>\n",
              "      <th>11</th>\n",
              "      <td>0.660196</td>\n",
              "      <td>0.814856</td>\n",
              "      <td>7152.4</td>\n",
              "    </tr>\n",
              "    <tr>\n",
              "      <th>12</th>\n",
              "      <td>0.664578</td>\n",
              "      <td>0.824056</td>\n",
              "      <td>7159.4</td>\n",
              "    </tr>\n",
              "    <tr>\n",
              "      <th>13</th>\n",
              "      <td>0.652856</td>\n",
              "      <td>0.419828</td>\n",
              "      <td>7180.4</td>\n",
              "    </tr>\n",
              "    <tr>\n",
              "      <th>14</th>\n",
              "      <td>0.668367</td>\n",
              "      <td>0.839277</td>\n",
              "      <td>7189.0</td>\n",
              "    </tr>\n",
              "    <tr>\n",
              "      <th>15</th>\n",
              "      <td>0.683108</td>\n",
              "      <td>0.859297</td>\n",
              "      <td>7239.0</td>\n",
              "    </tr>\n",
              "    <tr>\n",
              "      <th>16</th>\n",
              "      <td>0.669447</td>\n",
              "      <td>0.851217</td>\n",
              "      <td>7282.0</td>\n",
              "    </tr>\n",
              "    <tr>\n",
              "      <th>17</th>\n",
              "      <td>0.658929</td>\n",
              "      <td>0.833056</td>\n",
              "      <td>7305.2</td>\n",
              "    </tr>\n",
              "    <tr>\n",
              "      <th>18</th>\n",
              "      <td>0.667325</td>\n",
              "      <td>0.874317</td>\n",
              "      <td>7524.4</td>\n",
              "    </tr>\n",
              "    <tr>\n",
              "      <th>19</th>\n",
              "      <td>0.756042</td>\n",
              "      <td>0.915618</td>\n",
              "      <td>7530.8</td>\n",
              "    </tr>\n",
              "    <tr>\n",
              "      <th>20</th>\n",
              "      <td>0.762811</td>\n",
              "      <td>0.917218</td>\n",
              "      <td>7588.6</td>\n",
              "    </tr>\n",
              "    <tr>\n",
              "      <th>21</th>\n",
              "      <td>0.690811</td>\n",
              "      <td>0.898218</td>\n",
              "      <td>7634.6</td>\n",
              "    </tr>\n",
              "    <tr>\n",
              "      <th>22</th>\n",
              "      <td>0.764770</td>\n",
              "      <td>0.917198</td>\n",
              "      <td>7641.0</td>\n",
              "    </tr>\n",
              "    <tr>\n",
              "      <th>23</th>\n",
              "      <td>0.679278</td>\n",
              "      <td>0.898358</td>\n",
              "      <td>7723.2</td>\n",
              "    </tr>\n",
              "    <tr>\n",
              "      <th>24</th>\n",
              "      <td>0.707051</td>\n",
              "      <td>0.907798</td>\n",
              "      <td>7724.2</td>\n",
              "    </tr>\n",
              "    <tr>\n",
              "      <th>25</th>\n",
              "      <td>0.762195</td>\n",
              "      <td>0.918098</td>\n",
              "      <td>7745.4</td>\n",
              "    </tr>\n",
              "    <tr>\n",
              "      <th>26</th>\n",
              "      <td>0.668584</td>\n",
              "      <td>0.887178</td>\n",
              "      <td>7748.6</td>\n",
              "    </tr>\n",
              "    <tr>\n",
              "      <th>27</th>\n",
              "      <td>0.656613</td>\n",
              "      <td>0.886818</td>\n",
              "      <td>7748.6</td>\n",
              "    </tr>\n",
              "    <tr>\n",
              "      <th>28</th>\n",
              "      <td>0.663980</td>\n",
              "      <td>0.889478</td>\n",
              "      <td>7776.0</td>\n",
              "    </tr>\n",
              "    <tr>\n",
              "      <th>29</th>\n",
              "      <td>0.703191</td>\n",
              "      <td>0.909398</td>\n",
              "      <td>7796.4</td>\n",
              "    </tr>\n",
              "    <tr>\n",
              "      <th>30</th>\n",
              "      <td>0.754513</td>\n",
              "      <td>0.918018</td>\n",
              "      <td>7800.2</td>\n",
              "    </tr>\n",
              "    <tr>\n",
              "      <th>31</th>\n",
              "      <td>0.658232</td>\n",
              "      <td>0.893358</td>\n",
              "      <td>7805.6</td>\n",
              "    </tr>\n",
              "    <tr>\n",
              "      <th>32</th>\n",
              "      <td>0.708325</td>\n",
              "      <td>0.910598</td>\n",
              "      <td>7825.8</td>\n",
              "    </tr>\n",
              "    <tr>\n",
              "      <th>33</th>\n",
              "      <td>0.763403</td>\n",
              "      <td>0.918998</td>\n",
              "      <td>7855.2</td>\n",
              "    </tr>\n",
              "    <tr>\n",
              "      <th>34</th>\n",
              "      <td>0.682400</td>\n",
              "      <td>0.907838</td>\n",
              "      <td>7869.6</td>\n",
              "    </tr>\n",
              "    <tr>\n",
              "      <th>35</th>\n",
              "      <td>0.758692</td>\n",
              "      <td>0.919358</td>\n",
              "      <td>7878.6</td>\n",
              "    </tr>\n",
              "    <tr>\n",
              "      <th>36</th>\n",
              "      <td>0.663277</td>\n",
              "      <td>0.903138</td>\n",
              "      <td>7878.8</td>\n",
              "    </tr>\n",
              "    <tr>\n",
              "      <th>37</th>\n",
              "      <td>0.690573</td>\n",
              "      <td>0.913358</td>\n",
              "      <td>7933.2</td>\n",
              "    </tr>\n",
              "    <tr>\n",
              "      <th>38</th>\n",
              "      <td>0.664812</td>\n",
              "      <td>0.911418</td>\n",
              "      <td>7999.4</td>\n",
              "    </tr>\n",
              "    <tr>\n",
              "      <th>39</th>\n",
              "      <td>0.695797</td>\n",
              "      <td>0.917038</td>\n",
              "      <td>8009.8</td>\n",
              "    </tr>\n",
              "    <tr>\n",
              "      <th>40</th>\n",
              "      <td>0.728818</td>\n",
              "      <td>0.919098</td>\n",
              "      <td>8027.0</td>\n",
              "    </tr>\n",
              "    <tr>\n",
              "      <th>41</th>\n",
              "      <td>0.693167</td>\n",
              "      <td>0.918238</td>\n",
              "      <td>8042.8</td>\n",
              "    </tr>\n",
              "    <tr>\n",
              "      <th>42</th>\n",
              "      <td>0.692533</td>\n",
              "      <td>0.919078</td>\n",
              "      <td>8056.0</td>\n",
              "    </tr>\n",
              "    <tr>\n",
              "      <th>43</th>\n",
              "      <td>0.727323</td>\n",
              "      <td>0.919058</td>\n",
              "      <td>8063.4</td>\n",
              "    </tr>\n",
              "    <tr>\n",
              "      <th>44</th>\n",
              "      <td>0.653948</td>\n",
              "      <td>0.919278</td>\n",
              "      <td>8072.0</td>\n",
              "    </tr>\n",
              "    <tr>\n",
              "      <th>45</th>\n",
              "      <td>0.662597</td>\n",
              "      <td>0.214024</td>\n",
              "      <td>8208.8</td>\n",
              "    </tr>\n",
              "    <tr>\n",
              "      <th>46</th>\n",
              "      <td>0.640770</td>\n",
              "      <td>0.080722</td>\n",
              "      <td>9192.6</td>\n",
              "    </tr>\n",
              "    <tr>\n",
              "      <th>47</th>\n",
              "      <td>0.645140</td>\n",
              "      <td>0.080722</td>\n",
              "      <td>9192.6</td>\n",
              "    </tr>\n",
              "    <tr>\n",
              "      <th>48</th>\n",
              "      <td>0.655050</td>\n",
              "      <td>0.080722</td>\n",
              "      <td>9192.6</td>\n",
              "    </tr>\n",
              "    <tr>\n",
              "      <th>49</th>\n",
              "      <td>0.657618</td>\n",
              "      <td>0.080722</td>\n",
              "      <td>9192.6</td>\n",
              "    </tr>\n",
              "  </tbody>\n",
              "</table>\n",
              "</div>"
            ],
            "text/plain": [
              "         AUC  Accuracy  Business Score\n",
              "0   0.671180  0.631553          6422.2\n",
              "1   0.666429  0.724035          6518.0\n",
              "2   0.676555  0.772575          6687.8\n",
              "3   0.660806  0.741615          6698.6\n",
              "4   0.666149  0.759995          6705.6\n",
              "5   0.674639  0.779896          6724.4\n",
              "6   0.640360  0.655353          6744.0\n",
              "7   0.669386  0.774455          6746.4\n",
              "8   0.654600  0.737855          6750.6\n",
              "9   0.650562  0.731294          6758.6\n",
              "10  0.669993  0.828877          7125.6\n",
              "11  0.660196  0.814856          7152.4\n",
              "12  0.664578  0.824056          7159.4\n",
              "13  0.652856  0.419828          7180.4\n",
              "14  0.668367  0.839277          7189.0\n",
              "15  0.683108  0.859297          7239.0\n",
              "16  0.669447  0.851217          7282.0\n",
              "17  0.658929  0.833056          7305.2\n",
              "18  0.667325  0.874317          7524.4\n",
              "19  0.756042  0.915618          7530.8\n",
              "20  0.762811  0.917218          7588.6\n",
              "21  0.690811  0.898218          7634.6\n",
              "22  0.764770  0.917198          7641.0\n",
              "23  0.679278  0.898358          7723.2\n",
              "24  0.707051  0.907798          7724.2\n",
              "25  0.762195  0.918098          7745.4\n",
              "26  0.668584  0.887178          7748.6\n",
              "27  0.656613  0.886818          7748.6\n",
              "28  0.663980  0.889478          7776.0\n",
              "29  0.703191  0.909398          7796.4\n",
              "30  0.754513  0.918018          7800.2\n",
              "31  0.658232  0.893358          7805.6\n",
              "32  0.708325  0.910598          7825.8\n",
              "33  0.763403  0.918998          7855.2\n",
              "34  0.682400  0.907838          7869.6\n",
              "35  0.758692  0.919358          7878.6\n",
              "36  0.663277  0.903138          7878.8\n",
              "37  0.690573  0.913358          7933.2\n",
              "38  0.664812  0.911418          7999.4\n",
              "39  0.695797  0.917038          8009.8\n",
              "40  0.728818  0.919098          8027.0\n",
              "41  0.693167  0.918238          8042.8\n",
              "42  0.692533  0.919078          8056.0\n",
              "43  0.727323  0.919058          8063.4\n",
              "44  0.653948  0.919278          8072.0\n",
              "45  0.662597  0.214024          8208.8\n",
              "46  0.640770  0.080722          9192.6\n",
              "47  0.645140  0.080722          9192.6\n",
              "48  0.655050  0.080722          9192.6\n",
              "49  0.657618  0.080722          9192.6"
            ]
          },
          "execution_count": 32,
          "metadata": {},
          "output_type": "execute_result"
        }
      ],
      "source": [
        "df_results_LGM = pd.read_csv(\"results_LGM.csv\", sep =\",\")\n",
        "df_results_LGM"
      ]
    },
    {
      "cell_type": "code",
      "execution_count": 33,
      "metadata": {
        "id": "e6cfKz-hgB0M"
      },
      "outputs": [
        {
          "name": "stdout",
          "output_type": "stream",
          "text": [
            "{'lr': 0.002332225147008313, 'num_leaves': 69, 'n_estimators': 164, 'threshold': 0.4}\n"
          ]
        }
      ],
      "source": [
        "print(study.best_params)\n"
      ]
    },
    {
      "cell_type": "code",
      "execution_count": 34,
      "metadata": {},
      "outputs": [
        {
          "name": "stdout",
          "output_type": "stream",
          "text": [
            "Les meilleurs paramètres optimisés sont :\n",
            "lr: 0.002332225147008313\n",
            "num_leaves: 69\n",
            "n_estimators: 164\n",
            "threshold: 0.4\n"
          ]
        }
      ],
      "source": [
        "# Affichage des meilleurs paramètres\n",
        "best_params = study.best_params\n",
        "print(\"Les meilleurs paramètres optimisés sont :\")\n",
        "for param, value in best_params.items():\n",
        "    print(f\"{param}: {value}\")\n"
      ]
    },
    {
      "cell_type": "code",
      "execution_count": 35,
      "metadata": {
        "id": "2il-DP2wgBxu"
      },
      "outputs": [
        {
          "name": "stdout",
          "output_type": "stream",
          "text": [
            "Le score optimal de l'objectif (Business Score minimisé) est : 6422.2\n"
          ]
        }
      ],
      "source": [
        "# Affichage du meilleur score de l'objectif\n",
        "best_score = study.best_value\n",
        "print(f\"Le score optimal de l'objectif (Business Score minimisé) est : {best_score}\")\n"
      ]
    },
    {
      "cell_type": "code",
      "execution_count": 38,
      "metadata": {},
      "outputs": [
        {
          "data": {
            "text/html": [
              "<style>#sk-container-id-1 {\n",
              "  /* Definition of color scheme common for light and dark mode */\n",
              "  --sklearn-color-text: black;\n",
              "  --sklearn-color-line: gray;\n",
              "  /* Definition of color scheme for unfitted estimators */\n",
              "  --sklearn-color-unfitted-level-0: #fff5e6;\n",
              "  --sklearn-color-unfitted-level-1: #f6e4d2;\n",
              "  --sklearn-color-unfitted-level-2: #ffe0b3;\n",
              "  --sklearn-color-unfitted-level-3: chocolate;\n",
              "  /* Definition of color scheme for fitted estimators */\n",
              "  --sklearn-color-fitted-level-0: #f0f8ff;\n",
              "  --sklearn-color-fitted-level-1: #d4ebff;\n",
              "  --sklearn-color-fitted-level-2: #b3dbfd;\n",
              "  --sklearn-color-fitted-level-3: cornflowerblue;\n",
              "\n",
              "  /* Specific color for light theme */\n",
              "  --sklearn-color-text-on-default-background: var(--sg-text-color, var(--theme-code-foreground, var(--jp-content-font-color1, black)));\n",
              "  --sklearn-color-background: var(--sg-background-color, var(--theme-background, var(--jp-layout-color0, white)));\n",
              "  --sklearn-color-border-box: var(--sg-text-color, var(--theme-code-foreground, var(--jp-content-font-color1, black)));\n",
              "  --sklearn-color-icon: #696969;\n",
              "\n",
              "  @media (prefers-color-scheme: dark) {\n",
              "    /* Redefinition of color scheme for dark theme */\n",
              "    --sklearn-color-text-on-default-background: var(--sg-text-color, var(--theme-code-foreground, var(--jp-content-font-color1, white)));\n",
              "    --sklearn-color-background: var(--sg-background-color, var(--theme-background, var(--jp-layout-color0, #111)));\n",
              "    --sklearn-color-border-box: var(--sg-text-color, var(--theme-code-foreground, var(--jp-content-font-color1, white)));\n",
              "    --sklearn-color-icon: #878787;\n",
              "  }\n",
              "}\n",
              "\n",
              "#sk-container-id-1 {\n",
              "  color: var(--sklearn-color-text);\n",
              "}\n",
              "\n",
              "#sk-container-id-1 pre {\n",
              "  padding: 0;\n",
              "}\n",
              "\n",
              "#sk-container-id-1 input.sk-hidden--visually {\n",
              "  border: 0;\n",
              "  clip: rect(1px 1px 1px 1px);\n",
              "  clip: rect(1px, 1px, 1px, 1px);\n",
              "  height: 1px;\n",
              "  margin: -1px;\n",
              "  overflow: hidden;\n",
              "  padding: 0;\n",
              "  position: absolute;\n",
              "  width: 1px;\n",
              "}\n",
              "\n",
              "#sk-container-id-1 div.sk-dashed-wrapped {\n",
              "  border: 1px dashed var(--sklearn-color-line);\n",
              "  margin: 0 0.4em 0.5em 0.4em;\n",
              "  box-sizing: border-box;\n",
              "  padding-bottom: 0.4em;\n",
              "  background-color: var(--sklearn-color-background);\n",
              "}\n",
              "\n",
              "#sk-container-id-1 div.sk-container {\n",
              "  /* jupyter's `normalize.less` sets `[hidden] { display: none; }`\n",
              "     but bootstrap.min.css set `[hidden] { display: none !important; }`\n",
              "     so we also need the `!important` here to be able to override the\n",
              "     default hidden behavior on the sphinx rendered scikit-learn.org.\n",
              "     See: https://github.com/scikit-learn/scikit-learn/issues/21755 */\n",
              "  display: inline-block !important;\n",
              "  position: relative;\n",
              "}\n",
              "\n",
              "#sk-container-id-1 div.sk-text-repr-fallback {\n",
              "  display: none;\n",
              "}\n",
              "\n",
              "div.sk-parallel-item,\n",
              "div.sk-serial,\n",
              "div.sk-item {\n",
              "  /* draw centered vertical line to link estimators */\n",
              "  background-image: linear-gradient(var(--sklearn-color-text-on-default-background), var(--sklearn-color-text-on-default-background));\n",
              "  background-size: 2px 100%;\n",
              "  background-repeat: no-repeat;\n",
              "  background-position: center center;\n",
              "}\n",
              "\n",
              "/* Parallel-specific style estimator block */\n",
              "\n",
              "#sk-container-id-1 div.sk-parallel-item::after {\n",
              "  content: \"\";\n",
              "  width: 100%;\n",
              "  border-bottom: 2px solid var(--sklearn-color-text-on-default-background);\n",
              "  flex-grow: 1;\n",
              "}\n",
              "\n",
              "#sk-container-id-1 div.sk-parallel {\n",
              "  display: flex;\n",
              "  align-items: stretch;\n",
              "  justify-content: center;\n",
              "  background-color: var(--sklearn-color-background);\n",
              "  position: relative;\n",
              "}\n",
              "\n",
              "#sk-container-id-1 div.sk-parallel-item {\n",
              "  display: flex;\n",
              "  flex-direction: column;\n",
              "}\n",
              "\n",
              "#sk-container-id-1 div.sk-parallel-item:first-child::after {\n",
              "  align-self: flex-end;\n",
              "  width: 50%;\n",
              "}\n",
              "\n",
              "#sk-container-id-1 div.sk-parallel-item:last-child::after {\n",
              "  align-self: flex-start;\n",
              "  width: 50%;\n",
              "}\n",
              "\n",
              "#sk-container-id-1 div.sk-parallel-item:only-child::after {\n",
              "  width: 0;\n",
              "}\n",
              "\n",
              "/* Serial-specific style estimator block */\n",
              "\n",
              "#sk-container-id-1 div.sk-serial {\n",
              "  display: flex;\n",
              "  flex-direction: column;\n",
              "  align-items: center;\n",
              "  background-color: var(--sklearn-color-background);\n",
              "  padding-right: 1em;\n",
              "  padding-left: 1em;\n",
              "}\n",
              "\n",
              "\n",
              "/* Toggleable style: style used for estimator/Pipeline/ColumnTransformer box that is\n",
              "clickable and can be expanded/collapsed.\n",
              "- Pipeline and ColumnTransformer use this feature and define the default style\n",
              "- Estimators will overwrite some part of the style using the `sk-estimator` class\n",
              "*/\n",
              "\n",
              "/* Pipeline and ColumnTransformer style (default) */\n",
              "\n",
              "#sk-container-id-1 div.sk-toggleable {\n",
              "  /* Default theme specific background. It is overwritten whether we have a\n",
              "  specific estimator or a Pipeline/ColumnTransformer */\n",
              "  background-color: var(--sklearn-color-background);\n",
              "}\n",
              "\n",
              "/* Toggleable label */\n",
              "#sk-container-id-1 label.sk-toggleable__label {\n",
              "  cursor: pointer;\n",
              "  display: block;\n",
              "  width: 100%;\n",
              "  margin-bottom: 0;\n",
              "  padding: 0.5em;\n",
              "  box-sizing: border-box;\n",
              "  text-align: center;\n",
              "}\n",
              "\n",
              "#sk-container-id-1 label.sk-toggleable__label-arrow:before {\n",
              "  /* Arrow on the left of the label */\n",
              "  content: \"▸\";\n",
              "  float: left;\n",
              "  margin-right: 0.25em;\n",
              "  color: var(--sklearn-color-icon);\n",
              "}\n",
              "\n",
              "#sk-container-id-1 label.sk-toggleable__label-arrow:hover:before {\n",
              "  color: var(--sklearn-color-text);\n",
              "}\n",
              "\n",
              "/* Toggleable content - dropdown */\n",
              "\n",
              "#sk-container-id-1 div.sk-toggleable__content {\n",
              "  max-height: 0;\n",
              "  max-width: 0;\n",
              "  overflow: hidden;\n",
              "  text-align: left;\n",
              "  /* unfitted */\n",
              "  background-color: var(--sklearn-color-unfitted-level-0);\n",
              "}\n",
              "\n",
              "#sk-container-id-1 div.sk-toggleable__content.fitted {\n",
              "  /* fitted */\n",
              "  background-color: var(--sklearn-color-fitted-level-0);\n",
              "}\n",
              "\n",
              "#sk-container-id-1 div.sk-toggleable__content pre {\n",
              "  margin: 0.2em;\n",
              "  border-radius: 0.25em;\n",
              "  color: var(--sklearn-color-text);\n",
              "  /* unfitted */\n",
              "  background-color: var(--sklearn-color-unfitted-level-0);\n",
              "}\n",
              "\n",
              "#sk-container-id-1 div.sk-toggleable__content.fitted pre {\n",
              "  /* unfitted */\n",
              "  background-color: var(--sklearn-color-fitted-level-0);\n",
              "}\n",
              "\n",
              "#sk-container-id-1 input.sk-toggleable__control:checked~div.sk-toggleable__content {\n",
              "  /* Expand drop-down */\n",
              "  max-height: 200px;\n",
              "  max-width: 100%;\n",
              "  overflow: auto;\n",
              "}\n",
              "\n",
              "#sk-container-id-1 input.sk-toggleable__control:checked~label.sk-toggleable__label-arrow:before {\n",
              "  content: \"▾\";\n",
              "}\n",
              "\n",
              "/* Pipeline/ColumnTransformer-specific style */\n",
              "\n",
              "#sk-container-id-1 div.sk-label input.sk-toggleable__control:checked~label.sk-toggleable__label {\n",
              "  color: var(--sklearn-color-text);\n",
              "  background-color: var(--sklearn-color-unfitted-level-2);\n",
              "}\n",
              "\n",
              "#sk-container-id-1 div.sk-label.fitted input.sk-toggleable__control:checked~label.sk-toggleable__label {\n",
              "  background-color: var(--sklearn-color-fitted-level-2);\n",
              "}\n",
              "\n",
              "/* Estimator-specific style */\n",
              "\n",
              "/* Colorize estimator box */\n",
              "#sk-container-id-1 div.sk-estimator input.sk-toggleable__control:checked~label.sk-toggleable__label {\n",
              "  /* unfitted */\n",
              "  background-color: var(--sklearn-color-unfitted-level-2);\n",
              "}\n",
              "\n",
              "#sk-container-id-1 div.sk-estimator.fitted input.sk-toggleable__control:checked~label.sk-toggleable__label {\n",
              "  /* fitted */\n",
              "  background-color: var(--sklearn-color-fitted-level-2);\n",
              "}\n",
              "\n",
              "#sk-container-id-1 div.sk-label label.sk-toggleable__label,\n",
              "#sk-container-id-1 div.sk-label label {\n",
              "  /* The background is the default theme color */\n",
              "  color: var(--sklearn-color-text-on-default-background);\n",
              "}\n",
              "\n",
              "/* On hover, darken the color of the background */\n",
              "#sk-container-id-1 div.sk-label:hover label.sk-toggleable__label {\n",
              "  color: var(--sklearn-color-text);\n",
              "  background-color: var(--sklearn-color-unfitted-level-2);\n",
              "}\n",
              "\n",
              "/* Label box, darken color on hover, fitted */\n",
              "#sk-container-id-1 div.sk-label.fitted:hover label.sk-toggleable__label.fitted {\n",
              "  color: var(--sklearn-color-text);\n",
              "  background-color: var(--sklearn-color-fitted-level-2);\n",
              "}\n",
              "\n",
              "/* Estimator label */\n",
              "\n",
              "#sk-container-id-1 div.sk-label label {\n",
              "  font-family: monospace;\n",
              "  font-weight: bold;\n",
              "  display: inline-block;\n",
              "  line-height: 1.2em;\n",
              "}\n",
              "\n",
              "#sk-container-id-1 div.sk-label-container {\n",
              "  text-align: center;\n",
              "}\n",
              "\n",
              "/* Estimator-specific */\n",
              "#sk-container-id-1 div.sk-estimator {\n",
              "  font-family: monospace;\n",
              "  border: 1px dotted var(--sklearn-color-border-box);\n",
              "  border-radius: 0.25em;\n",
              "  box-sizing: border-box;\n",
              "  margin-bottom: 0.5em;\n",
              "  /* unfitted */\n",
              "  background-color: var(--sklearn-color-unfitted-level-0);\n",
              "}\n",
              "\n",
              "#sk-container-id-1 div.sk-estimator.fitted {\n",
              "  /* fitted */\n",
              "  background-color: var(--sklearn-color-fitted-level-0);\n",
              "}\n",
              "\n",
              "/* on hover */\n",
              "#sk-container-id-1 div.sk-estimator:hover {\n",
              "  /* unfitted */\n",
              "  background-color: var(--sklearn-color-unfitted-level-2);\n",
              "}\n",
              "\n",
              "#sk-container-id-1 div.sk-estimator.fitted:hover {\n",
              "  /* fitted */\n",
              "  background-color: var(--sklearn-color-fitted-level-2);\n",
              "}\n",
              "\n",
              "/* Specification for estimator info (e.g. \"i\" and \"?\") */\n",
              "\n",
              "/* Common style for \"i\" and \"?\" */\n",
              "\n",
              ".sk-estimator-doc-link,\n",
              "a:link.sk-estimator-doc-link,\n",
              "a:visited.sk-estimator-doc-link {\n",
              "  float: right;\n",
              "  font-size: smaller;\n",
              "  line-height: 1em;\n",
              "  font-family: monospace;\n",
              "  background-color: var(--sklearn-color-background);\n",
              "  border-radius: 1em;\n",
              "  height: 1em;\n",
              "  width: 1em;\n",
              "  text-decoration: none !important;\n",
              "  margin-left: 1ex;\n",
              "  /* unfitted */\n",
              "  border: var(--sklearn-color-unfitted-level-1) 1pt solid;\n",
              "  color: var(--sklearn-color-unfitted-level-1);\n",
              "}\n",
              "\n",
              ".sk-estimator-doc-link.fitted,\n",
              "a:link.sk-estimator-doc-link.fitted,\n",
              "a:visited.sk-estimator-doc-link.fitted {\n",
              "  /* fitted */\n",
              "  border: var(--sklearn-color-fitted-level-1) 1pt solid;\n",
              "  color: var(--sklearn-color-fitted-level-1);\n",
              "}\n",
              "\n",
              "/* On hover */\n",
              "div.sk-estimator:hover .sk-estimator-doc-link:hover,\n",
              ".sk-estimator-doc-link:hover,\n",
              "div.sk-label-container:hover .sk-estimator-doc-link:hover,\n",
              ".sk-estimator-doc-link:hover {\n",
              "  /* unfitted */\n",
              "  background-color: var(--sklearn-color-unfitted-level-3);\n",
              "  color: var(--sklearn-color-background);\n",
              "  text-decoration: none;\n",
              "}\n",
              "\n",
              "div.sk-estimator.fitted:hover .sk-estimator-doc-link.fitted:hover,\n",
              ".sk-estimator-doc-link.fitted:hover,\n",
              "div.sk-label-container:hover .sk-estimator-doc-link.fitted:hover,\n",
              ".sk-estimator-doc-link.fitted:hover {\n",
              "  /* fitted */\n",
              "  background-color: var(--sklearn-color-fitted-level-3);\n",
              "  color: var(--sklearn-color-background);\n",
              "  text-decoration: none;\n",
              "}\n",
              "\n",
              "/* Span, style for the box shown on hovering the info icon */\n",
              ".sk-estimator-doc-link span {\n",
              "  display: none;\n",
              "  z-index: 9999;\n",
              "  position: relative;\n",
              "  font-weight: normal;\n",
              "  right: .2ex;\n",
              "  padding: .5ex;\n",
              "  margin: .5ex;\n",
              "  width: min-content;\n",
              "  min-width: 20ex;\n",
              "  max-width: 50ex;\n",
              "  color: var(--sklearn-color-text);\n",
              "  box-shadow: 2pt 2pt 4pt #999;\n",
              "  /* unfitted */\n",
              "  background: var(--sklearn-color-unfitted-level-0);\n",
              "  border: .5pt solid var(--sklearn-color-unfitted-level-3);\n",
              "}\n",
              "\n",
              ".sk-estimator-doc-link.fitted span {\n",
              "  /* fitted */\n",
              "  background: var(--sklearn-color-fitted-level-0);\n",
              "  border: var(--sklearn-color-fitted-level-3);\n",
              "}\n",
              "\n",
              ".sk-estimator-doc-link:hover span {\n",
              "  display: block;\n",
              "}\n",
              "\n",
              "/* \"?\"-specific style due to the `<a>` HTML tag */\n",
              "\n",
              "#sk-container-id-1 a.estimator_doc_link {\n",
              "  float: right;\n",
              "  font-size: 1rem;\n",
              "  line-height: 1em;\n",
              "  font-family: monospace;\n",
              "  background-color: var(--sklearn-color-background);\n",
              "  border-radius: 1rem;\n",
              "  height: 1rem;\n",
              "  width: 1rem;\n",
              "  text-decoration: none;\n",
              "  /* unfitted */\n",
              "  color: var(--sklearn-color-unfitted-level-1);\n",
              "  border: var(--sklearn-color-unfitted-level-1) 1pt solid;\n",
              "}\n",
              "\n",
              "#sk-container-id-1 a.estimator_doc_link.fitted {\n",
              "  /* fitted */\n",
              "  border: var(--sklearn-color-fitted-level-1) 1pt solid;\n",
              "  color: var(--sklearn-color-fitted-level-1);\n",
              "}\n",
              "\n",
              "/* On hover */\n",
              "#sk-container-id-1 a.estimator_doc_link:hover {\n",
              "  /* unfitted */\n",
              "  background-color: var(--sklearn-color-unfitted-level-3);\n",
              "  color: var(--sklearn-color-background);\n",
              "  text-decoration: none;\n",
              "}\n",
              "\n",
              "#sk-container-id-1 a.estimator_doc_link.fitted:hover {\n",
              "  /* fitted */\n",
              "  background-color: var(--sklearn-color-fitted-level-3);\n",
              "}\n",
              "</style><div id=\"sk-container-id-1\" class=\"sk-top-container\"><div class=\"sk-text-repr-fallback\"><pre>LGBMClassifier(lr=0.002332225147008313, n_estimators=164, num_leaves=69,\n",
              "               threshold=0.4)</pre><b>In a Jupyter environment, please rerun this cell to show the HTML representation or trust the notebook. <br />On GitHub, the HTML representation is unable to render, please try loading this page with nbviewer.org.</b></div><div class=\"sk-container\" hidden><div class=\"sk-item\"><div class=\"sk-estimator fitted sk-toggleable\"><input class=\"sk-toggleable__control sk-hidden--visually\" id=\"sk-estimator-id-1\" type=\"checkbox\" checked><label for=\"sk-estimator-id-1\" class=\"sk-toggleable__label fitted sk-toggleable__label-arrow fitted\">&nbsp;LGBMClassifier<span class=\"sk-estimator-doc-link fitted\">i<span>Fitted</span></span></label><div class=\"sk-toggleable__content fitted\"><pre>LGBMClassifier(lr=0.002332225147008313, n_estimators=164, num_leaves=69,\n",
              "               threshold=0.4)</pre></div> </div></div></div></div>"
            ],
            "text/plain": [
              "LGBMClassifier(lr=0.002332225147008313, n_estimators=164, num_leaves=69,\n",
              "               threshold=0.4)"
            ]
          },
          "execution_count": 38,
          "metadata": {},
          "output_type": "execute_result"
        }
      ],
      "source": [
        "#entraînement d'un nouveau modèle LightGBM avec les meilleurs paramètres\n",
        "best_model = LGBMClassifier(**study.best_params)\n",
        "X_resampled, y_resampled = smote.fit_resample(X_scaled, y)\n",
        "best_model.fit(X_resampled, y_resampled)\n",
        "\n"
      ]
    },
    {
      "cell_type": "markdown",
      "metadata": {},
      "source": [
        "l'importance relative de chaque variable (feature) dans la prédiction du modèle LightGBM.\n",
        "l'importance des features est calculée en fonction de la contribution de chaque feature à la réduction de l'erreur prédictive au cours des différents splits dans les arbres de décision. Les chiffres correspondent à combien chaque variable a contribué à l'amélioration de la performance globale du modèle.\n",
        "\n",
        "Chiffres élevés : Variables très importantes pour les prédictions.\n",
        "Chiffres faibles ou nuls : Variables peu ou pas utilisées dans la modélisation."
      ]
    },
    {
      "cell_type": "code",
      "execution_count": 39,
      "metadata": {
        "id": "mY6VYiSAgBu6"
      },
      "outputs": [
        {
          "name": "stdout",
          "output_type": "stream",
          "text": [
            "                                    Feature  Importance\n",
            "31                             EXT_SOURCE_2         265\n",
            "32                             EXT_SOURCE_3         214\n",
            "30                             EXT_SOURCE_1         133\n",
            "0                               CODE_GENDER         130\n",
            "244                            PAYMENT_RATE         113\n",
            "..                                      ...         ...\n",
            "121                NAME_INCOME_TYPE_Student           0\n",
            "86                          FLAG_DOCUMENT_7           0\n",
            "591  POS_NAME_CONTRACT_STATUS_Canceled_MEAN           0\n",
            "83                          FLAG_DOCUMENT_4           0\n",
            "14                               FLAG_MOBIL           0\n",
            "\n",
            "[624 rows x 2 columns]\n"
          ]
        }
      ],
      "source": [
        "#calcule et affichage des importances des features\n",
        "feature_importances = best_model.feature_importances_\n",
        "importance_df = pd.DataFrame({'Feature': X_scaled.columns, 'Importance': feature_importances})\n",
        "importance_df = importance_df.sort_values(by='Importance', ascending=False)\n",
        "print(importance_df)\n",
        "\n"
      ]
    },
    {
      "cell_type": "code",
      "execution_count": 47,
      "metadata": {},
      "outputs": [
        {
          "name": "stdout",
          "output_type": "stream",
          "text": [
            "                                    Feature  Importance  Importance (%)\n",
            "31                             EXT_SOURCE_2         265        2.376255\n",
            "32                             EXT_SOURCE_3         214        1.918938\n",
            "30                             EXT_SOURCE_1         133        1.192611\n",
            "0                               CODE_GENDER         130        1.165710\n",
            "244                            PAYMENT_RATE         113        1.013271\n",
            "..                                      ...         ...             ...\n",
            "121                NAME_INCOME_TYPE_Student           0        0.000000\n",
            "86                          FLAG_DOCUMENT_7           0        0.000000\n",
            "591  POS_NAME_CONTRACT_STATUS_Canceled_MEAN           0        0.000000\n",
            "83                          FLAG_DOCUMENT_4           0        0.000000\n",
            "14                               FLAG_MOBIL           0        0.000000\n",
            "\n",
            "[624 rows x 3 columns]\n"
          ]
        }
      ],
      "source": [
        "# Calcul du pourcentage d'importance de chaque feature\n",
        "importance_df['Importance (%)'] = (importance_df['Importance'] / importance_df['Importance'].sum()) * 100\n",
        "\n",
        "# Afficher les importances en pourcentage\n",
        "print(importance_df[['Feature', 'Importance', 'Importance (%)']])\n"
      ]
    },
    {
      "cell_type": "code",
      "execution_count": 46,
      "metadata": {
        "id": "GSF9GKQXgBsY"
      },
      "outputs": [
        {
          "data": {
            "image/png": "[encoded data removed]",
            "text/plain": [
              "<Figure size 1000x2000 with 1 Axes>"
            ]
          },
          "metadata": {},
          "output_type": "display_data"
        }
      ],
      "source": [
        "#la visualisation de l'importance des features\n",
        "\n",
        "# Afficher uniquement les 50 premières features par importance\n",
        "top_50_features = importance_df.head(50)\n",
        "\n",
        "# Visualisation des 50 premières importances des features\n",
        "plt.figure(figsize=(10, 20))\n",
        "plt.barh(top_50_features['Feature'], top_50_features['Importance'])\n",
        "plt.xlabel('Importance')\n",
        "plt.ylabel('Feature')\n",
        "plt.title('Top 50 Feature Importances')\n",
        "plt.gca().invert_yaxis()  # Pour que les plus importantes soient en haut\n",
        "plt.show()\n",
        "\n",
        "\n"
      ]
    },
    {
      "cell_type": "markdown",
      "metadata": {},
      "source": [
        "pour l'api"
      ]
    },
    {
      "cell_type": "code",
      "execution_count": 48,
      "metadata": {
        "id": "Npa_sVW3gBpo"
      },
      "outputs": [
        {
          "name": "stdout",
          "output_type": "stream",
          "text": [
            "TARGET\n",
            "0.0    0.919278\n",
            "1.0    0.080722\n",
            "Name: proportion, dtype: float64\n"
          ]
        },
        {
          "name": "stderr",
          "output_type": "stream",
          "text": [
            "C:\\Users\\HP\\AppData\\Local\\Temp\\ipykernel_6736\\2011476186.py:5: DeprecationWarning: DataFrameGroupBy.apply operated on the grouping columns. This behavior is deprecated, and in a future version of pandas the grouping columns will be excluded from the operation. Either pass `include_groups=False` to exclude the groupings or explicitly select the grouping columns after groupby to silence this warning.\n",
            "  df_test = df_classification_imputed.groupby('TARGET', group_keys=False).apply(lambda x: x.sample(int(sample_size * class_distribution.loc[x.name]), random_state=42))\n"
          ]
        }
      ],
      "source": [
        "\n",
        "\n",
        "# La taille de l'échantillon total\n",
        "sample_size = 1000\n",
        "\n",
        "# Échantillon stratifié en fonction de la distribution de 'TARGET'\n",
        "df_test = df_classification_imputed.groupby('TARGET', group_keys=False).apply(lambda x: x.sample(int(sample_size * class_distribution.loc[x.name]), random_state=42))\n",
        "\n",
        "# Distribution dans l'échantillon\n",
        "print(df_sample['TARGET'].value_counts(normalize=True))"
      ]
    },
    {
      "cell_type": "code",
      "execution_count": 49,
      "metadata": {
        "id": "wiyjY8tBgBmw"
      },
      "outputs": [],
      "source": [
        "df_test.to_csv('df_test.csv', index=False)"
      ]
    },
    {
      "cell_type": "code",
      "execution_count": null,
      "metadata": {
        "id": "JASRQjMdgBjy"
      },
      "outputs": [],
      "source": []
    },
    {
      "cell_type": "code",
      "execution_count": null,
      "metadata": {
        "id": "0OZb60sBgBg_"
      },
      "outputs": [],
      "source": []
    },
    {
      "cell_type": "code",
      "execution_count": null,
      "metadata": {
        "id": "Jt0QmZIlgBeP"
      },
      "outputs": [],
      "source": []
    },
    {
      "cell_type": "code",
      "execution_count": null,
      "metadata": {
        "id": "HipmaPf9gBbV"
      },
      "outputs": [],
      "source": []
    },
    {
      "cell_type": "code",
      "execution_count": null,
      "metadata": {
        "id": "QD9dff8UgBYf"
      },
      "outputs": [],
      "source": []
    },
    {
      "cell_type": "code",
      "execution_count": null,
      "metadata": {
        "id": "rJPncW6lgBVS"
      },
      "outputs": [],
      "source": []
    },
    {
      "cell_type": "code",
      "execution_count": null,
      "metadata": {
        "id": "3dk21DKIgBSZ"
      },
      "outputs": [],
      "source": []
    },
    {
      "cell_type": "markdown",
      "metadata": {
        "id": "ecPU18-PgEYi"
      },
      "source": [
        "#fin modif"
      ]
    },
    {
      "cell_type": "markdown",
      "metadata": {
        "id": "zImo0YahPW0O"
      },
      "source": [
        "#Echantillon"
      ]
    },
    {
      "cell_type": "markdown",
      "metadata": {
        "id": "Lvj1MQoxBLZk"
      },
      "source": [
        "\n",
        "Dans mon df la target est déséquilibrée : environ 90% sont de la classe 0 (négatif), et seulement 10% sont de la classe 1 (positif).\n",
        "\n",
        "Donc mon modèle pourrait prédire la majorité comme étant de la classe 0 sans optimiser la performance, surtout pour la classe 1\n",
        "\n",
        "\n",
        "Pour mieux gérer ce déséquilibre, je vais utiliser deux approches :\n",
        "\n",
        "\n",
        "**SMOTE (Synthetic Minority Over-sampling Technique)** : c'est une technique d'augmentation de données qui permet de créer des données synthétiques de la classe minoritaire (ici 1) pour équilibrer les classes.\n",
        "\n",
        "**F-beta score (avec β=10)** : c'est une métrique d'évaluation qui permet de pénalizer davantage les faux négatifs (FN, erreurs coûteuses).\n",
        "\n",
        "___________________________________________________\n",
        "\n",
        "C'est pour mieux gérer le déséquilibre de classes et optimiser les performances des modèles sur la classe minoritaire\n"
      ]
    },
    {
      "cell_type": "code",
      "execution_count": null,
      "metadata": {
        "colab": {
          "base_uri": "https://localhost:8080/"
        },
        "id": "Ay_faa2WPAXO",
        "outputId": "a7cc35c7-a653-4605-a83c-1bac15bf06d7"
      },
      "outputs": [
        {
          "name": "stdout",
          "output_type": "stream",
          "text": [
            "TARGET\n",
            "0.0    0.919278\n",
            "1.0    0.080722\n",
            "Name: proportion, dtype: float64\n"
          ]
        }
      ],
      "source": [
        "import pandas as pd\n",
        "\n",
        "#la taille de l'échantillon total\n",
        "sample_size = 50000\n",
        "\n",
        "#je calcule la proportion des classes\n",
        "class_distribution = df_classification_imputed['TARGET'].value_counts(normalize=True)\n",
        "\n",
        "#échantillon stratifié en fonction de la distribution de 'TARGET'\n",
        "df_sample = df_classification_imputed.groupby('TARGET', group_keys=False).apply(lambda x: x.sample(int(sample_size * class_distribution.loc[x.name]), random_state=42))\n",
        "\n",
        "#la distribution dans l'échantillon\n",
        "print(df_sample['TARGET'].value_counts(normalize=True))\n"
      ]
    },
    {
      "cell_type": "markdown",
      "metadata": {
        "id": "b23a68e4-4a07-49d7-8f18-b38e440b1676"
      },
      "source": [
        "- TARGET = 1 -> Client avec des difficultés de payments\n",
        "- TARGET = 0 -> Client sans difficultés de payments"
      ]
    },
    {
      "cell_type": "code",
      "execution_count": null,
      "metadata": {
        "id": "VURV7sRYEpXy"
      },
      "outputs": [],
      "source": [
        "df_sample.to_csv('/content/df_sample.csv', index=False)"
      ]
    },
    {
      "cell_type": "code",
      "execution_count": null,
      "metadata": {
        "colab": {
          "base_uri": "https://localhost:8080/"
        },
        "id": "1bnGtUULPtg8",
        "outputId": "c258fbde-6a43-4812-8728-186a543cea89"
      },
      "outputs": [
        {
          "name": "stdout",
          "output_type": "stream",
          "text": [
            "TARGET\n",
            "0.0    0.919278\n",
            "1.0    0.080722\n",
            "Name: proportion, dtype: float64\n"
          ]
        }
      ],
      "source": [
        "import pandas as pd\n",
        "\n",
        "#pour obtenir un échantillon stratifié en fonction de la distribution de la classe\n",
        "\n",
        "# La taille de l'échantillon total\n",
        "sample_size = 50000\n",
        "\n",
        "# Calcul de la proportion des classes\n",
        "class_distribution = df_classification_imputed['TARGET'].value_counts(normalize=True)\n",
        "\n",
        "# Échantillon stratifié en fonction de la distribution de 'TARGET'\n",
        "df_sample = df_classification_imputed.groupby('TARGET', group_keys=False).apply(lambda x: x.sample(int(sample_size * class_distribution.loc[x.name]), random_state=42))\n",
        "\n",
        "# Distribution dans l'échantillon\n",
        "print(df_sample['TARGET'].value_counts(normalize=True))\n"
      ]
    },
    {
      "cell_type": "markdown",
      "metadata": {
        "id": "dzDOQwAYClgC"
      },
      "source": [
        "#Entrainement des modeles avec tracking MLFlow"
      ]
    },
    {
      "cell_type": "code",
      "execution_count": null,
      "metadata": {
        "colab": {
          "base_uri": "https://localhost:8080/"
        },
        "id": "ykYKPPXvEs6r",
        "outputId": "89c3348c-a45b-46ac-e3d1-50728bc54d51"
      },
      "outputs": [
        {
          "data": {
            "text/plain": [
              "(49999, 626)"
            ]
          },
          "execution_count": 3,
          "metadata": {},
          "output_type": "execute_result"
        }
      ],
      "source": [
        "import pandas as pd\n",
        "\n",
        "df_sample = pd.read_csv('/content/df_sample.csv')\n",
        "df_sample.shape"
      ]
    },
    {
      "cell_type": "code",
      "execution_count": null,
      "metadata": {
        "id": "l7G06hRBTDDR"
      },
      "outputs": [],
      "source": [
        "#lightGBM ne prend pas en charge les caractères spéciaux dans les noms de colonnes donc je les supprime\n",
        "import re\n",
        "\n",
        "#la fonction pour nettoyer les noms de colonnes\n",
        "def clean_column_names(df):\n",
        "    df.columns = [re.sub(r'\\W+', '_', col) for col in df.columns]\n",
        "    return df\n",
        "\n",
        "#j'applique la fonction à X_train et X_val\n",
        "df_sample = clean_column_names(df_sample)\n",
        "\n",
        "\n",
        "#maintenant les colonnes ne contiennent plus de caractères spéciaux"
      ]
    },
    {
      "cell_type": "markdown",
      "metadata": {
        "id": "xcp0Tu0sg0KT"
      },
      "source": [
        "##SMOTE"
      ]
    },
    {
      "cell_type": "markdown",
      "metadata": {
        "id": "4I9mzzJFiUZB"
      },
      "source": [
        "J'utilise **X_train_resampled et y_train_resampled** pour l'**entraînement**.\n",
        "\n",
        "J'utilise **X_val et y_val (sans SMOTE)** pour la **validation**, car il est important de ne pas modifier l'ensemble de validation avec SMOTE."
      ]
    },
    {
      "cell_type": "code",
      "execution_count": null,
      "metadata": {
        "colab": {
          "base_uri": "https://localhost:8080/"
        },
        "id": "8rhVbYLGU0bW",
        "outputId": "5f0f1197-8933-4b3c-e9d2-33d98ff20a9c"
      },
      "outputs": [
        {
          "name": "stdout",
          "output_type": "stream",
          "text": [
            "TARGET\n",
            "0.0    0.5\n",
            "1.0    0.5\n",
            "Name: proportion, dtype: float64\n",
            "X_train_resampled shape: (73540, 624)\n",
            "y_train_resampled shape: (73540,)\n",
            "X_val shape: (10000, 624)\n",
            "y_val shape: (10000,)\n"
          ]
        }
      ],
      "source": [
        "from sklearn.model_selection import train_test_split\n",
        "from imblearn.over_sampling import SMOTE\n",
        "\n",
        "#Une fois que j'ai df_sample, j'applique SMOTE pour équilibrer les classes\n",
        "\n",
        "# Séparer les features et la cible\n",
        "X = df_sample.drop(columns=[\"TARGET\", \"SK_ID_CURR\"])\n",
        "y = df_sample[\"TARGET\"]\n",
        "\n",
        "# Diviser les données en ensembles d'entraînement et de validation\n",
        "X_train, X_val, y_train, y_val = train_test_split(X, y, test_size=0.2, random_state=42, stratify=y)\n",
        "\n",
        "# Application de SMOTE sur l'ensemble d'entraînement\n",
        "smote = SMOTE(sampling_strategy='auto', random_state=42)\n",
        "X_train_resampled, y_train_resampled = smote.fit_resample(X_train, y_train)\n",
        "\n",
        "# Afficher la nouvelle distribution des classes après SMOTE\n",
        "print(pd.Series(y_train_resampled).value_counts(normalize=True))\n",
        "\n",
        "# Vérifier les dimensions des ensembles\n",
        "print(\"X_train_resampled shape:\", X_train_resampled.shape)\n",
        "print(\"y_train_resampled shape:\", y_train_resampled.shape)\n",
        "print(\"X_val shape:\", X_val.shape)\n",
        "print(\"y_val shape:\", y_val.shape)\n"
      ]
    },
    {
      "cell_type": "code",
      "execution_count": null,
      "metadata": {
        "colab": {
          "base_uri": "https://localhost:8080/"
        },
        "id": "XZIC6Vq-GV3D",
        "outputId": "ccb075d0-e601-4892-b0a1-a2d59dfd888a"
      },
      "outputs": [
        {
          "name": "stdout",
          "output_type": "stream",
          "text": [
            "Requirement already satisfied: mlflow in /usr/local/lib/python3.10/dist-packages (2.16.2)\n",
            "Requirement already satisfied: mlflow-skinny==2.16.2 in /usr/local/lib/python3.10/dist-packages (from mlflow) (2.16.2)\n",
            "Requirement already satisfied: Flask<4 in /usr/local/lib/python3.10/dist-packages (from mlflow) (2.2.5)\n",
            "Requirement already satisfied: alembic!=1.10.0,<2 in /usr/local/lib/python3.10/dist-packages (from mlflow) (1.13.3)\n",
            "Requirement already satisfied: docker<8,>=4.0.0 in /usr/local/lib/python3.10/dist-packages (from mlflow) (7.1.0)\n",
            "Requirement already satisfied: graphene<4 in /usr/local/lib/python3.10/dist-packages (from mlflow) (3.3)\n",
            "Requirement already satisfied: markdown<4,>=3.3 in /usr/local/lib/python3.10/dist-packages (from mlflow) (3.7)\n",
            "Requirement already satisfied: matplotlib<4 in /usr/local/lib/python3.10/dist-packages (from mlflow) (3.7.1)\n",
            "Requirement already satisfied: numpy<3 in /usr/local/lib/python3.10/dist-packages (from mlflow) (1.26.4)\n",
            "Requirement already satisfied: pandas<3 in /usr/local/lib/python3.10/dist-packages (from mlflow) (2.1.4)\n",
            "Requirement already satisfied: pyarrow<18,>=4.0.0 in /usr/local/lib/python3.10/dist-packages (from mlflow) (14.0.2)\n",
            "Requirement already satisfied: scikit-learn<2 in /usr/local/lib/python3.10/dist-packages (from mlflow) (1.5.2)\n",
            "Requirement already satisfied: scipy<2 in /usr/local/lib/python3.10/dist-packages (from mlflow) (1.13.1)\n",
            "Requirement already satisfied: sqlalchemy<3,>=1.4.0 in /usr/local/lib/python3.10/dist-packages (from mlflow) (2.0.35)\n",
            "Requirement already satisfied: Jinja2<4,>=2.11 in /usr/local/lib/python3.10/dist-packages (from mlflow) (3.1.4)\n",
            "Requirement already satisfied: gunicorn<24 in /usr/local/lib/python3.10/dist-packages (from mlflow) (23.0.0)\n",
            "Requirement already satisfied: cachetools<6,>=5.0.0 in /usr/local/lib/python3.10/dist-packages (from mlflow-skinny==2.16.2->mlflow) (5.5.0)\n",
            "Requirement already satisfied: click<9,>=7.0 in /usr/local/lib/python3.10/dist-packages (from mlflow-skinny==2.16.2->mlflow) (8.1.7)\n",
            "Requirement already satisfied: cloudpickle<4 in /usr/local/lib/python3.10/dist-packages (from mlflow-skinny==2.16.2->mlflow) (2.2.1)\n",
            "Requirement already satisfied: databricks-sdk<1,>=0.20.0 in /usr/local/lib/python3.10/dist-packages (from mlflow-skinny==2.16.2->mlflow) (0.33.0)\n",
            "Requirement already satisfied: gitpython<4,>=3.1.9 in /usr/local/lib/python3.10/dist-packages (from mlflow-skinny==2.16.2->mlflow) (3.1.43)\n",
            "Requirement already satisfied: importlib-metadata!=4.7.0,<9,>=3.7.0 in /usr/local/lib/python3.10/dist-packages (from mlflow-skinny==2.16.2->mlflow) (8.4.0)\n",
            "Requirement already satisfied: opentelemetry-api<3,>=1.9.0 in /usr/local/lib/python3.10/dist-packages (from mlflow-skinny==2.16.2->mlflow) (1.27.0)\n",
            "Requirement already satisfied: opentelemetry-sdk<3,>=1.9.0 in /usr/local/lib/python3.10/dist-packages (from mlflow-skinny==2.16.2->mlflow) (1.27.0)\n",
            "Requirement already satisfied: packaging<25 in /usr/local/lib/python3.10/dist-packages (from mlflow-skinny==2.16.2->mlflow) (24.1)\n",
            "Requirement already satisfied: protobuf<6,>=3.12.0 in /usr/local/lib/python3.10/dist-packages (from mlflow-skinny==2.16.2->mlflow) (3.20.3)\n",
            "Requirement already satisfied: pyyaml<7,>=5.1 in /usr/local/lib/python3.10/dist-packages (from mlflow-skinny==2.16.2->mlflow) (6.0.2)\n",
            "Requirement already satisfied: requests<3,>=2.17.3 in /usr/local/lib/python3.10/dist-packages (from mlflow-skinny==2.16.2->mlflow) (2.32.3)\n",
            "Requirement already satisfied: sqlparse<1,>=0.4.0 in /usr/local/lib/python3.10/dist-packages (from mlflow-skinny==2.16.2->mlflow) (0.5.1)\n",
            "Requirement already satisfied: Mako in /usr/local/lib/python3.10/dist-packages (from alembic!=1.10.0,<2->mlflow) (1.3.5)\n",
            "Requirement already satisfied: typing-extensions>=4 in /usr/local/lib/python3.10/dist-packages (from alembic!=1.10.0,<2->mlflow) (4.12.2)\n",
            "Requirement already satisfied: urllib3>=1.26.0 in /usr/local/lib/python3.10/dist-packages (from docker<8,>=4.0.0->mlflow) (2.2.3)\n",
            "Requirement already satisfied: Werkzeug>=2.2.2 in /usr/local/lib/python3.10/dist-packages (from Flask<4->mlflow) (3.0.4)\n",
            "Requirement already satisfied: itsdangerous>=2.0 in /usr/local/lib/python3.10/dist-packages (from Flask<4->mlflow) (2.2.0)\n",
            "Requirement already satisfied: graphql-core<3.3,>=3.1 in /usr/local/lib/python3.10/dist-packages (from graphene<4->mlflow) (3.2.4)\n",
            "Requirement already satisfied: graphql-relay<3.3,>=3.1 in /usr/local/lib/python3.10/dist-packages (from graphene<4->mlflow) (3.2.0)\n",
            "Requirement already satisfied: aniso8601<10,>=8 in /usr/local/lib/python3.10/dist-packages (from graphene<4->mlflow) (9.0.1)\n",
            "Requirement already satisfied: MarkupSafe>=2.0 in /usr/local/lib/python3.10/dist-packages (from Jinja2<4,>=2.11->mlflow) (2.1.5)\n",
            "Requirement already satisfied: contourpy>=1.0.1 in /usr/local/lib/python3.10/dist-packages (from matplotlib<4->mlflow) (1.3.0)\n",
            "Requirement already satisfied: cycler>=0.10 in /usr/local/lib/python3.10/dist-packages (from matplotlib<4->mlflow) (0.12.1)\n",
            "Requirement already satisfied: fonttools>=4.22.0 in /usr/local/lib/python3.10/dist-packages (from matplotlib<4->mlflow) (4.53.1)\n",
            "Requirement already satisfied: kiwisolver>=1.0.1 in /usr/local/lib/python3.10/dist-packages (from matplotlib<4->mlflow) (1.4.7)\n",
            "Requirement already satisfied: pillow>=6.2.0 in /usr/local/lib/python3.10/dist-packages (from matplotlib<4->mlflow) (10.4.0)\n",
            "Requirement already satisfied: pyparsing>=2.3.1 in /usr/local/lib/python3.10/dist-packages (from matplotlib<4->mlflow) (3.1.4)\n",
            "Requirement already satisfied: python-dateutil>=2.7 in /usr/local/lib/python3.10/dist-packages (from matplotlib<4->mlflow) (2.8.2)\n",
            "Requirement already satisfied: pytz>=2020.1 in /usr/local/lib/python3.10/dist-packages (from pandas<3->mlflow) (2024.2)\n",
            "Requirement already satisfied: tzdata>=2022.1 in /usr/local/lib/python3.10/dist-packages (from pandas<3->mlflow) (2024.1)\n",
            "Requirement already satisfied: joblib>=1.2.0 in /usr/local/lib/python3.10/dist-packages (from scikit-learn<2->mlflow) (1.4.2)\n",
            "Requirement already satisfied: threadpoolctl>=3.1.0 in /usr/local/lib/python3.10/dist-packages (from scikit-learn<2->mlflow) (3.5.0)\n",
            "Requirement already satisfied: greenlet!=0.4.17 in /usr/local/lib/python3.10/dist-packages (from sqlalchemy<3,>=1.4.0->mlflow) (3.1.1)\n",
            "Requirement already satisfied: google-auth~=2.0 in /usr/local/lib/python3.10/dist-packages (from databricks-sdk<1,>=0.20.0->mlflow-skinny==2.16.2->mlflow) (2.27.0)\n",
            "Requirement already satisfied: gitdb<5,>=4.0.1 in /usr/local/lib/python3.10/dist-packages (from gitpython<4,>=3.1.9->mlflow-skinny==2.16.2->mlflow) (4.0.11)\n",
            "Requirement already satisfied: zipp>=0.5 in /usr/local/lib/python3.10/dist-packages (from importlib-metadata!=4.7.0,<9,>=3.7.0->mlflow-skinny==2.16.2->mlflow) (3.20.2)\n",
            "Requirement already satisfied: deprecated>=1.2.6 in /usr/local/lib/python3.10/dist-packages (from opentelemetry-api<3,>=1.9.0->mlflow-skinny==2.16.2->mlflow) (1.2.14)\n",
            "Requirement already satisfied: opentelemetry-semantic-conventions==0.48b0 in /usr/local/lib/python3.10/dist-packages (from opentelemetry-sdk<3,>=1.9.0->mlflow-skinny==2.16.2->mlflow) (0.48b0)\n",
            "Requirement already satisfied: six>=1.5 in /usr/local/lib/python3.10/dist-packages (from python-dateutil>=2.7->matplotlib<4->mlflow) (1.16.0)\n",
            "Requirement already satisfied: charset-normalizer<4,>=2 in /usr/local/lib/python3.10/dist-packages (from requests<3,>=2.17.3->mlflow-skinny==2.16.2->mlflow) (3.3.2)\n",
            "Requirement already satisfied: idna<4,>=2.5 in /usr/local/lib/python3.10/dist-packages (from requests<3,>=2.17.3->mlflow-skinny==2.16.2->mlflow) (3.10)\n",
            "Requirement already satisfied: certifi>=2017.4.17 in /usr/local/lib/python3.10/dist-packages (from requests<3,>=2.17.3->mlflow-skinny==2.16.2->mlflow) (2024.8.30)\n",
            "Requirement already satisfied: wrapt<2,>=1.10 in /usr/local/lib/python3.10/dist-packages (from deprecated>=1.2.6->opentelemetry-api<3,>=1.9.0->mlflow-skinny==2.16.2->mlflow) (1.16.0)\n",
            "Requirement already satisfied: smmap<6,>=3.0.1 in /usr/local/lib/python3.10/dist-packages (from gitdb<5,>=4.0.1->gitpython<4,>=3.1.9->mlflow-skinny==2.16.2->mlflow) (5.0.1)\n",
            "Requirement already satisfied: pyasn1-modules>=0.2.1 in /usr/local/lib/python3.10/dist-packages (from google-auth~=2.0->databricks-sdk<1,>=0.20.0->mlflow-skinny==2.16.2->mlflow) (0.4.1)\n",
            "Requirement already satisfied: rsa<5,>=3.1.4 in /usr/local/lib/python3.10/dist-packages (from google-auth~=2.0->databricks-sdk<1,>=0.20.0->mlflow-skinny==2.16.2->mlflow) (4.9)\n",
            "Requirement already satisfied: pyasn1<0.7.0,>=0.4.6 in /usr/local/lib/python3.10/dist-packages (from pyasn1-modules>=0.2.1->google-auth~=2.0->databricks-sdk<1,>=0.20.0->mlflow-skinny==2.16.2->mlflow) (0.6.1)\n"
          ]
        }
      ],
      "source": [
        "#j'install MLFlow\n",
        "! pip install mlflow"
      ]
    },
    {
      "cell_type": "markdown",
      "metadata": {
        "id": "PI4nCqA6GNPV"
      },
      "source": [
        "##Random Forest Classifier"
      ]
    },
    {
      "cell_type": "code",
      "execution_count": null,
      "metadata": {
        "id": "1FFFVPTMHlBv"
      },
      "outputs": [],
      "source": [
        "from sklearn.ensemble import RandomForestClassifier\n",
        "from sklearn.metrics import accuracy_score, roc_auc_score\n",
        "import mlflow\n",
        "import mlflow.sklearn"
      ]
    },
    {
      "cell_type": "markdown",
      "metadata": {
        "id": "ZEAdqHENlYIZ"
      },
      "source": [
        "###random_forest_default"
      ]
    },
    {
      "cell_type": "code",
      "execution_count": null,
      "metadata": {
        "colab": {
          "base_uri": "https://localhost:8080/"
        },
        "id": "Jev-z-J0CfJn",
        "outputId": "c3dd97d6-3145-4fcb-9d22-0c1fb3a396d4"
      },
      "outputs": [
        {
          "name": "stderr",
          "output_type": "stream",
          "text": [
            "2024/09/27 07:52:45 WARNING mlflow.models.model: Model logged without a signature and input example. Please set `input_example` parameter when logging the model to auto infer the model signature.\n",
            "Successfully registered model 'RandomForestModel'.\n",
            "Created version '1' of model 'RandomForestModel'.\n",
            "<ipython-input-32-e9d7aa98dc85>:48: FutureWarning: ``mlflow.tracking.client.MlflowClient.transition_model_version_stage`` is deprecated since 2.9.0. Model registry stages will be removed in a future major release. To learn more about the deprecation of model registry stages, see our migration guide here: https://mlflow.org/docs/latest/model-registry.html#migrating-from-stages\n",
            "  client.transition_model_version_stage(\n"
          ]
        },
        {
          "name": "stdout",
          "output_type": "stream",
          "text": [
            "Random Forest AUC: 0.6948609678367693, Accuracy: 0.9193\n"
          ]
        }
      ],
      "source": [
        "#l'expérience MLFlow : RandomForestClassifier\n",
        "mlflow.set_experiment(\"RandomForestClassifier\")\n",
        "\n",
        "# RUN 1 : random_forest_default\n",
        "\n",
        "#initialisation du RandomForestClassifier avec hyperparamètres par défaut\n",
        "rf_clf = RandomForestClassifier()\n",
        "\n",
        "with mlflow.start_run(run_name='random_forest_default'):\n",
        "    #l'enregistrement des hyperparamètres\n",
        "    mlflow.log_param(\"model_type\", \"RandomForestClassifier\")\n",
        "    mlflow.log_param(\"n_estimators\", 100)\n",
        "    mlflow.log_param(\"max_depth\", None)\n",
        "    mlflow.log_param(\"random_state\", None)\n",
        "\n",
        "    #l'entraînement du modèle\n",
        "    rf_clf.fit(X_train_resampled, y_train_resampled)\n",
        "\n",
        "    #la prédictions\n",
        "    y_pred_rf = rf_clf.predict(X_val)\n",
        "    y_prob_rf = rf_clf.predict_proba(X_val)[:, 1]\n",
        "\n",
        "    #les métriques\n",
        "    try:\n",
        "        auc_score_rf = roc_auc_score(y_val, y_prob_rf)\n",
        "    except ValueError:\n",
        "        auc_score_rf = float('nan')\n",
        "\n",
        "    accuracy_rf = accuracy_score(y_val, y_pred_rf)\n",
        "\n",
        "    #l'enregistrement des métriques\n",
        "    mlflow.log_metric(\"auc\", auc_score_rf)\n",
        "    mlflow.log_metric(\"accuracy\", accuracy_rf)\n",
        "\n",
        "    # Enregistrer le modèle dans MLflow (avec signature et input_example pour faciliter le serving)\n",
        "    model_uri = mlflow.sklearn.log_model(\n",
        "        rf_clf,\n",
        "        artifact_path=\"random_forest_model\",\n",
        "        #input_example=X_val[:5]  # Exemple d'entrée pour la prédiction\n",
        "    )\n",
        "\n",
        "    # Enregistrer le modèle dans le Model Registry\n",
        "    model_name = \"RandomForestModel\"  # Nom du modèle dans le registre\n",
        "    mlflow.register_model(model_uri=model_uri.model_uri, name=model_name)\n",
        "\n",
        "    # Promouvoir le modèle vers 'Staging'\n",
        "    client = mlflow.tracking.MlflowClient()\n",
        "    client.transition_model_version_stage(\n",
        "        name=model_name,\n",
        "        version=1,  # Vous pouvez choisir la version manuellement ou automatiser\n",
        "        stage=\"Staging\"  # Les stages peuvent être 'None', 'Staging', 'Production' ou 'Archived'\n",
        "    )\n",
        "\n",
        "\n",
        "\n",
        "#pour vérification\n",
        "print(f\"Random Forest AUC: {auc_score_rf}, Accuracy: {accuracy_rf}\")\n"
      ]
    },
    {
      "cell_type": "code",
      "execution_count": null,
      "metadata": {
        "colab": {
          "base_uri": "https://localhost:8080/"
        },
        "id": "ae9wu6c5QmXH",
        "outputId": "c9855793-567d-4039-9011-c2bc55495ecc"
      },
      "outputs": [
        {
          "name": "stdout",
          "output_type": "stream",
          "text": [
            "df_classification_imputed.csv  mlruns  projet7_1.ipynb\tREADME.md\n"
          ]
        }
      ],
      "source": [
        "#pour vérifier que mon modèle est bien enregistré sur le dossier MLflow (Drive)\n",
        "!ls"
      ]
    },
    {
      "cell_type": "markdown",
      "metadata": {
        "id": "RWI5TT-Mlwan"
      },
      "source": [
        "###random_forest_hyper1"
      ]
    },
    {
      "cell_type": "code",
      "execution_count": null,
      "metadata": {
        "colab": {
          "base_uri": "https://localhost:8080/"
        },
        "id": "DaOuShgWKKJk",
        "outputId": "ced8a47c-309a-4a38-b591-654ded5f6f10"
      },
      "outputs": [
        {
          "name": "stderr",
          "output_type": "stream",
          "text": [
            "2024/09/27 07:57:47 WARNING mlflow.models.model: Model logged without a signature and input example. Please set `input_example` parameter when logging the model to auto infer the model signature.\n"
          ]
        },
        {
          "name": "stdout",
          "output_type": "stream",
          "text": [
            "Random Forest AUC_h1: 0.7231446371498382, Accuracy_h1: 0.9193\n"
          ]
        }
      ],
      "source": [
        "#l'expérience MLFlow : RandomForestClassifier\n",
        "mlflow.set_experiment(\"RandomForestClassifier\")\n",
        "\n",
        "# RUN 2 : random_forest_hyper1\n",
        "\n",
        "#initialisation du RandomForestClassifier avec hyperparamètres\n",
        "rf_clf_h1 = RandomForestClassifier(n_estimators=200, max_depth=5, random_state=42)\n",
        "\n",
        "with mlflow.start_run(run_name='random_forest_hyper1'):\n",
        "    #l'enregistrement des hyperparamètres\n",
        "    mlflow.log_param(\"model_type\", \"RandomForestClassifier\")\n",
        "    mlflow.log_param(\"n_estimators\", 200)\n",
        "    mlflow.log_param(\"max_depth\", 5)\n",
        "    mlflow.log_param(\"random_state\", 42)\n",
        "\n",
        "    #l'entraînement du modèle\n",
        "    rf_clf_h1.fit(X_train, y_train)\n",
        "\n",
        "    #la prédictions\n",
        "    y_pred_rf_h1 = rf_clf_h1.predict(X_val)\n",
        "    y_prob_rf_h1 = rf_clf_h1.predict_proba(X_val)[:, 1]\n",
        "\n",
        "    #les métriques\n",
        "    try:\n",
        "        auc_score_rf_h1 = roc_auc_score(y_val, y_prob_rf_h1)\n",
        "    except ValueError:\n",
        "        auc_score_rf_h1 = float('nan')\n",
        "\n",
        "    accuracy_rf_h1 = accuracy_score(y_val, y_pred_rf_h1)\n",
        "\n",
        "    #l'enregistrement des métriques\n",
        "    mlflow.log_metric(\"auc_h1\", auc_score_rf_h1)\n",
        "    mlflow.log_metric(\"accuracy_h1\", accuracy_rf_h1)\n",
        "\n",
        "    #l'enregistrement du modèle Random Forest\n",
        "    mlflow.sklearn.log_model(rf_clf_h1, \"random_forest_model_h1\")\n",
        "\n",
        "#pour vérification\n",
        "print(f\"Random Forest AUC_h1: {auc_score_rf_h1}, Accuracy_h1: {accuracy_rf_h1}\")"
      ]
    },
    {
      "cell_type": "code",
      "execution_count": null,
      "metadata": {
        "id": "LBOfsDYmJq33"
      },
      "outputs": [],
      "source": [
        "#pour vérifier que mon modèle est bien enregistré dans mlruns sur le dossier MLflow (Drive)\n",
        "!ls"
      ]
    },
    {
      "cell_type": "code",
      "execution_count": null,
      "metadata": {
        "id": "qijMm9ryTAuJ"
      },
      "outputs": [],
      "source": [
        "mlflow.get_experiment_by_name(\"RandomForestClassifier\")\n"
      ]
    },
    {
      "cell_type": "markdown",
      "metadata": {
        "id": "1qs4qVS1Y_rb"
      },
      "source": [
        "Je vais utilier GridSearchCV : le modèle est entraîné avec toutes les combinaisons d'hyperparamètres spécifiées, et la meilleure combinaison est sélectionnée en fonction de la métrique de score :accuracy pour l'instant.\n",
        "\n",
        "Ensuite, après avoir trouvé les meilleurs hyperparamètres, les prédictions sont effectuées, les métriques sont calculées"
      ]
    },
    {
      "cell_type": "markdown",
      "metadata": {
        "id": "po8TQJYUmJHw"
      },
      "source": [
        "###random_forest_grid_search_cv"
      ]
    },
    {
      "cell_type": "markdown",
      "metadata": {
        "id": "tcpwWGGtmVJe"
      },
      "source": [
        "###random_forest_grid_search_score"
      ]
    },
    {
      "cell_type": "code",
      "execution_count": null,
      "metadata": {
        "id": "q1MvnKNklQJC"
      },
      "outputs": [],
      "source": [
        "from sklearn.model_selection import GridSearchCV\n",
        "\n",
        "#l'expérience MLFlow : RandomForestClassifier\n",
        "mlflow.set_experiment(\"RandomForestClassifier\")\n",
        "\n",
        "\n",
        "#les hyperparamètres à explorer\n",
        "param_grid_rf = {\n",
        "    'n_estimators': [50, 100, 200],\n",
        "    'max_depth': [None, 10, 20, 30],\n",
        "    'min_samples_split': [2, 5, 10],\n",
        "    'random_state': [42]\n",
        "}\n",
        "\n",
        "# RUN 3 : random_forest_grid_search_cv\n",
        "\n",
        "#initialisation du RandomForestClassifier\n",
        "rf_clf_cv = RandomForestClassifier()\n",
        "\n",
        "#la configuration de GridSearchCV\n",
        "grid_search_rf = GridSearchCV(estimator=rf_clf_cv, param_grid=param_grid_rf, cv=5, scoring='accuracy')\n",
        "\n",
        "#exécution de GridSearchCV\n",
        "with mlflow.start_run(run_name='random_forest_grid_search_cv'):\n",
        "    grid_search_rf.fit(X_train, y_train)\n",
        "\n",
        "    #meilleurs paramètres et score\n",
        "    best_params_rf = grid_search_rf.best_params_\n",
        "    best_score_rf = grid_search_rf.best_score_\n",
        "\n",
        "    #enregistrement des meilleurs paramètres\n",
        "    mlflow.log_params(best_params_rf)\n",
        "    mlflow.log_param(\"best_score\", best_score_rf)\n",
        "\n",
        "    #la prédictions avec les meilleurs paramètres\n",
        "    y_pred_rf_cv = grid_search_rf.best_estimator_.predict(X_val)\n",
        "    y_prob_rf_cv = grid_search_rf.best_estimator_.predict_proba(X_val)[:, 1]\n",
        "\n",
        "    #calcul des métriques\n",
        "    auc_score_rf_cv = roc_auc_score(y_val, y_prob_rf_cv)\n",
        "    accuracy_rf_cv = accuracy_score(y_val, y_pred_rf_cv)\n",
        "\n",
        "    #enregistrement des métriques\n",
        "    mlflow.log_metric(\"auc_cv\", auc_score_rf_cv)\n",
        "    mlflow.log_metric(\"accuracy_cv\", accuracy_rf_cv)\n",
        "\n",
        "    #enregistrement du modèle RandomForest avec les meilleurs paramètres\n",
        "    mlflow.sklearn.log_model(grid_search_rf.best_estimator_, \"random_forest_best_model\")\n",
        "\n",
        "print(f\"Best Random Forest Parameters: {best_params_rf}\")\n",
        "print(f\"Random Forest AUC_cv: {auc_score_rf_cv}, Accuracy_cv: {accuracy_rf_cv}\")"
      ]
    },
    {
      "cell_type": "markdown",
      "metadata": {
        "id": "PMMMXvlldiBM"
      },
      "source": [
        "penalized_score = fp + 10 * fn\n",
        "\n",
        "Je calcule le score en pénalisant les faux négatifs plus fortement"
      ]
    },
    {
      "cell_type": "code",
      "execution_count": null,
      "metadata": {
        "id": "ZrBN0DHwdpsj"
      },
      "outputs": [],
      "source": [
        "from sklearn.metrics import confusion_matrix\n",
        "\n",
        "#l'expérience MLFlow : RandomForestClassifier\n",
        "mlflow.set_experiment(\"RandomForestClassifier\")\n",
        "\n",
        "#les hyperparamètres à explorer\n",
        "param_grid_rf = {\n",
        "    'n_estimators': [50, 100, 200],\n",
        "    'max_depth': [None, 10, 20, 30],\n",
        "    'min_samples_split': [2, 5, 10],\n",
        "    'random_state': [42]\n",
        "}\n",
        "\n",
        "# RUN 4\n",
        "#initialisation du RandomForestClassifier\n",
        "rf_clf = RandomForestClassifier()\n",
        "\n",
        "#la configuration de GridSearchCV\n",
        "grid_search_rf = GridSearchCV(estimator=rf_clf, param_grid=param_grid_rf, cv=5, scoring='accuracy')\n",
        "\n",
        "#exécution de GridSearchCV\n",
        "with mlflow.start_run(run_name='random_forest_grid_search_score'):\n",
        "    grid_search_rf.fit(X_train, y_train)\n",
        "\n",
        "    # Meilleurs paramètres et score\n",
        "    best_params_rf = grid_search_rf.best_params_\n",
        "    best_score_rf = grid_search_rf.best_score_\n",
        "\n",
        "    # Enregistrement des meilleurs paramètres\n",
        "    mlflow.log_params(best_params_rf)\n",
        "    mlflow.log_param(\"best_score\", best_score_rf)\n",
        "\n",
        "    # Prédictions avec les meilleurs paramètres\n",
        "    y_pred_rf = grid_search_rf.best_estimator_.predict(X_val)\n",
        "\n",
        "    # Calcul des métriques\n",
        "    confusion = confusion_matrix(y_val, y_pred_rf)\n",
        "    fp = confusion[0, 1]  # Faux positifs\n",
        "    fn = confusion[1, 0]  # Faux négatifs\n",
        "\n",
        "    penalized_score = fp + 10 * fn\n",
        "\n",
        "    try:\n",
        "        auc_score_rf = roc_auc_score(y_val, y_pred_rf)\n",
        "    except ValueError:\n",
        "        auc_score_rf = float('nan')\n",
        "\n",
        "    accuracy_rf = accuracy_score(y_val, y_pred_rf)\n",
        "\n",
        "    # Enregistrement des métriques\n",
        "    mlflow.log_metric(\"auc\", auc_score_rf)\n",
        "    mlflow.log_metric(\"accuracy\", accuracy_rf)\n",
        "    mlflow.log_metric(\"penalized_score\", penalized_score)\n",
        "\n",
        "    # Enregistrement du modèle RandomForest avec les meilleurs paramètres\n",
        "    mlflow.sklearn.log_model(grid_search_rf.best_estimator_, \"random_forest_best_model_score\")\n",
        "\n",
        "print(f\"Best Random Forest Parameters: {best_params_rf}\")\n",
        "print(f\"Random Forest AUC: {auc_score_rf}, Accuracy: {accuracy_rf}, Penalized Score: {penalized_score}\")"
      ]
    },
    {
      "cell_type": "markdown",
      "metadata": {
        "id": "Nw4wBJnpVoFA"
      },
      "source": [
        "##Light GBM"
      ]
    },
    {
      "cell_type": "markdown",
      "metadata": {
        "id": "QWzup-QZmcxu"
      },
      "source": [
        "###lightgbm_default"
      ]
    },
    {
      "cell_type": "code",
      "execution_count": null,
      "metadata": {
        "colab": {
          "base_uri": "https://localhost:8080/"
        },
        "id": "OhHPMNURivTQ",
        "outputId": "e314c8bf-d8c6-49db-f831-80acf121fc50"
      },
      "outputs": [
        {
          "name": "stderr",
          "output_type": "stream",
          "text": [
            "2024/09/27 14:07:39 INFO mlflow.tracking.fluent: Experiment with name 'LightGBM_default_SMOTE' does not exist. Creating a new experiment.\n"
          ]
        },
        {
          "name": "stdout",
          "output_type": "stream",
          "text": [
            "[LightGBM] [Info] Number of positive: 36770, number of negative: 36770\n",
            "[LightGBM] [Info] Auto-choosing col-wise multi-threading, the overhead of testing was 0.879243 seconds.\n",
            "You can set `force_col_wise=true` to remove the overhead.\n",
            "[LightGBM] [Info] Total Bins 115006\n",
            "[LightGBM] [Info] Number of data points in the train set: 73540, number of used features: 608\n",
            "[LightGBM] [Info] [binary:BoostFromScore]: pavg=0.500000 -> initscore=0.000000\n"
          ]
        },
        {
          "name": "stderr",
          "output_type": "stream",
          "text": [
            "2024/09/27 14:08:30 WARNING mlflow.models.model: Model logged without a signature and input example. Please set `input_example` parameter when logging the model to auto infer the model signature.\n"
          ]
        },
        {
          "name": "stdout",
          "output_type": "stream",
          "text": [
            "LightGBM AUC: 0.751969435286344, Accuracy: 0.9179, F-beta Score (β=10): 0.042509469931420366\n"
          ]
        },
        {
          "name": "stderr",
          "output_type": "stream",
          "text": [
            "Successfully registered model 'LightGBM_with_SMOTE_Model'.\n",
            "Created version '1' of model 'LightGBM_with_SMOTE_Model'.\n"
          ]
        }
      ],
      "source": [
        "import lightgbm as lgb\n",
        "from sklearn.metrics import accuracy_score, roc_auc_score, fbeta_score\n",
        "import mlflow\n",
        "import mlflow.sklearn\n",
        "from mlflow.models import ModelSignature\n",
        "from mlflow.types.schema import Schema, ColSpec\n",
        "import os\n",
        "\n",
        "# Initialisation du LightGBM avec hyperparamètres par défaut\n",
        "lgb_clf = lgb.LGBMClassifier()\n",
        "\n",
        "# MLflow expérience\n",
        "mlflow.set_experiment(\"LightGBM_default_SMOTE\")\n",
        "\n",
        "with mlflow.start_run(run_name='lightgbm_with_SMOTE_and_fbeta'):\n",
        "    # Enregistrement des hyperparamètres\n",
        "    mlflow.log_param(\"model_type\", \"LGBMClassifier\")\n",
        "    mlflow.log_param(\"boosting_type\", lgb_clf.boosting_type)\n",
        "    mlflow.log_param(\"num_leaves\", lgb_clf.num_leaves)\n",
        "    mlflow.log_param(\"learning_rate\", lgb_clf.learning_rate)\n",
        "    mlflow.log_param(\"n_estimators\", lgb_clf.n_estimators)\n",
        "    mlflow.log_param(\"max_depth\", lgb_clf.max_depth)\n",
        "\n",
        "    # Entraînement du modèle sur les données resamplées\n",
        "    lgb_clf.fit(X_train_resampled, y_train_resampled)\n",
        "\n",
        "    # Prédictions sur le jeu de validation (non-resamplé)\n",
        "    y_pred_lgb = lgb_clf.predict(X_val)\n",
        "    y_prob_lgb = lgb_clf.predict_proba(X_val)[:, 1]\n",
        "\n",
        "    # Calcul des métriques\n",
        "    try:\n",
        "        auc_score_lgb = roc_auc_score(y_val, y_prob_lgb)\n",
        "    except ValueError:\n",
        "        auc_score_lgb = float('nan')\n",
        "\n",
        "    accuracy_lgb = accuracy_score(y_val, y_pred_lgb)\n",
        "    fbeta_lgb = fbeta_score(y_val, y_pred_lgb, beta=10)\n",
        "\n",
        "    # Enregistrement des métriques\n",
        "    mlflow.log_metric(\"auc\", auc_score_lgb)\n",
        "    mlflow.log_metric(\"accuracy\", accuracy_lgb)\n",
        "    mlflow.log_metric(\"fbeta_score\", fbeta_lgb)\n",
        "\n",
        "    # Enregistrement du modèle dans MLflow (modèle temporaire)\n",
        "    model_uri = \"lightgbm_model_with_SMOTE_and_fbeta\"\n",
        "    mlflow.sklearn.log_model(lgb_clf, model_uri)\n",
        "\n",
        "    # Enregistrement du modèle dans le Model Registry\n",
        "    model_name = \"LightGBM_with_SMOTE_Model\"\n",
        "    registered_model_uri = mlflow.register_model(model_uri=f\"runs:/{mlflow.active_run().info.run_id}/{model_uri}\",\n",
        "                                                 name=model_name)\n",
        "\n",
        "# Résultats\n",
        "print(f\"LightGBM AUC: {auc_score_lgb}, Accuracy: {accuracy_lgb}, F-beta Score (β=10): {fbeta_lgb}\")\n"
      ]
    },
    {
      "cell_type": "markdown",
      "metadata": {
        "id": "LM_J_8ADmYvE"
      },
      "source": [
        "**Conclusion :**\n",
        "\n",
        "**Équilibrage des classes :**  \n",
        "\n",
        "Number of positive: 36770\n",
        "\n",
        "Number of negative: 36770\n",
        "\n",
        "Cela indique que SMOTE a bien fonctionné\n",
        "\n",
        "\n",
        "**Performance du modèle :**\n",
        "\n",
        "**AUC de 0.75 :**\n",
        "\n",
        "Ce score AUC (Area Under the Curve) indique une performance de classification correcte, mais pas exceptionnelle.\n",
        "\n",
        "Un score de 0.75 signifie que le modèle est capable de séparer correctement les classes positives et négatives dans environ 75 % des cas.\n",
        "\n",
        "\n",
        "**Accuracy de 91.79% :**\n",
        "\n",
        "Le modèle est très précis, mais cela peut être dû au déséquilibre des classes dans l'ensemble de validation, même après SMOTE sur l'entraînement.\n",
        "\n",
        "Il y a probablement beaucoup plus de classes négatives que positives, ce qui conduit à une haute précision.\n",
        "\n",
        "**F-beta Score (β=10) de 0.042 :**\n",
        "\n",
        "Ce score est très faible, ce qui montre que le modèle a des difficultés à identifier les classes positives.\n",
        "\n",
        "Le F-beta avec β=10 pénalise fortement les faux négatifs, et un faible score ici suggère que le modèle manque beaucoup de véritables positifs.\n",
        "\n",
        "\n",
        "**Version du modèle :** Une nouvelle version du modèle a été créée dans le Model Registry sous le nom LightGBM_with_SMOTE_Model, et c'est maintenant la version 3.\n",
        "\n",
        "**Conclusion générale :**\n",
        "\n",
        "Bien que le modèle affiche une haute précision et un AUC décent, son très faible F-beta score indique qu'il n'est pas bien adapté pour gérer le déséquilibre des classes lors de la prédiction des positifs."
      ]
    },
    {
      "cell_type": "markdown",
      "metadata": {
        "id": "e9bSPiSVmiQ_"
      },
      "source": [
        "###lightgbm_hyper"
      ]
    },
    {
      "cell_type": "code",
      "execution_count": null,
      "metadata": {
        "id": "Z1pA8qbyW6ji"
      },
      "outputs": [],
      "source": [
        "#l'expérience MLFlow : LightGBM\n",
        "mlflow.set_experiment(\"LightGBM\")\n",
        "\n",
        "# RUN 2: lightgbm_hyper\n",
        "\n",
        "#initialisation du LightGBM avec des hyperparamètres personnalisés\n",
        "lgb_clf_h1 = lgb.LGBMClassifier(\n",
        "    num_leaves=50,          #j'augmenter le nombre de feuilles\n",
        "    max_depth=10,           #la profondeur des arbres\n",
        "    learning_rate=0.05,     #je diminue le taux d'apprentissage\n",
        "    n_estimators=200        #j'augmenter le nombre d'estimations (arbres)\n",
        ")\n",
        "\n",
        "with mlflow.start_run(run_name='lightgbm_custom_h1'):\n",
        "    #enregistrement des hyperparamètres personnalisés\n",
        "    mlflow.log_param(\"model_type\", \"LGBMClassifier\")\n",
        "    mlflow.log_param(\"boosting_type\", lgb_clf_h1.boosting_type)  #c'était 'gbdt' par défaut\n",
        "    mlflow.log_param(\"num_leaves\", lgb_clf_h1.num_leaves)\n",
        "    mlflow.log_param(\"learning_rate\", lgb_clf_h1.learning_rate)\n",
        "    mlflow.log_param(\"n_estimators\", lgb_clf_h1.n_estimators)\n",
        "    mlflow.log_param(\"max_depth\", lgb_clf_h1.max_depth)\n",
        "\n",
        "    #entraînement du modèle\n",
        "    lgb_clf_h1.fit(X_train, y_train)\n",
        "\n",
        "    #la prédictions\n",
        "    y_pred_lgb_h1 = lgb_clf_h1.predict(X_val)\n",
        "    y_prob_lgb_h1 = lgb_clf_h1.predict_proba(X_val)[:, 1]\n",
        "\n",
        "    #je calcul les métriques\n",
        "    try:\n",
        "        auc_score_lgb_h1 = roc_auc_score(y_val, y_prob_lgb_h1)\n",
        "    except ValueError:\n",
        "        auc_score_lgb_h1 = float('nan')\n",
        "\n",
        "    accuracy_lgb_h1 = accuracy_score(y_val, y_pred_lgb_h1)\n",
        "\n",
        "    #l'enregistrement des métriques\n",
        "    mlflow.log_metric(\"auc_h1\", auc_score_lgb_h1)\n",
        "    mlflow.log_metric(\"accuracy_h1\", accuracy_lgb_h1)\n",
        "\n",
        "    #l'enregistrement du modèle LightGBM\n",
        "    mlflow.sklearn.log_model(lgb_clf_h1, \"lightgbm_custom_model_h1\")\n",
        "\n",
        "#les résultats pour vérification\n",
        "print(f\"LightGBM AUC_h1: {auc_score_lgb_h1}, Accuracy_h1: {accuracy_lgb_h1}\")\n"
      ]
    },
    {
      "cell_type": "markdown",
      "metadata": {
        "id": "PZVIH0EkmwOB"
      },
      "source": [
        "###lightgbm_grid_search_cv"
      ]
    },
    {
      "cell_type": "code",
      "execution_count": null,
      "metadata": {
        "id": "RQBX6BasbFcL"
      },
      "outputs": [],
      "source": [
        "#l'expérience MLFlow : LightGBM\n",
        "mlflow.set_experiment(\"LightGBM\")\n",
        "\n",
        "#les hyperparamètres à explorer\n",
        "param_grid_lgb = {\n",
        "    'num_leaves': [31, 50, 70],\n",
        "    'max_depth': [-1, 10, 20],\n",
        "    'learning_rate': [0.01, 0.05, 0.1],\n",
        "    'n_estimators': [100, 200, 300]\n",
        "}\n",
        "\n",
        "#initialisation du LGBMClassifier\n",
        "lgb_clf_cv = lgb.LGBMClassifier()\n",
        "\n",
        "# RUN 3\n",
        "\n",
        "#configuration de GridSearchCV\n",
        "grid_search_lgb = GridSearchCV(estimator=lgb_clf_cv, param_grid=param_grid_lgb, cv=5, scoring='accuracy')\n",
        "\n",
        "#exécution de GridSearchCV\n",
        "with mlflow.start_run(run_name='lightgbm_grid_search_cv'):\n",
        "    grid_search_lgb.fit(X_train, y_train)\n",
        "\n",
        "    #meilleurs paramètres et score\n",
        "    best_params_lgb = grid_search_lgb.best_params_\n",
        "    best_score_lgb = grid_search_lgb.best_score_\n",
        "\n",
        "    #enregistrement des meilleurs paramètres\n",
        "    mlflow.log_params(best_params_lgb)\n",
        "    mlflow.log_param(\"best_score\", best_score_lgb)\n",
        "\n",
        "    #prédictions avec les meilleurs paramètres\n",
        "    y_pred_lgb_cv = grid_search_lgb.best_estimator_.predict(X_val)\n",
        "    y_prob_lgb_cv = grid_search_lgb.best_estimator_.predict_proba(X_val)[:, 1]\n",
        "\n",
        "    #calcul des métriques\n",
        "    auc_score_lgb_cv = roc_auc_score(y_val, y_prob_lgb_cv)\n",
        "    accuracy_lgb_cv = accuracy_score(y_val, y_pred_lgb_cv)\n",
        "\n",
        "    #enregistrement des métriques\n",
        "    mlflow.log_metric(\"auc_cv\", auc_score_lgb_cv)\n",
        "    mlflow.log_metric(\"accuracy_cv\", accuracy_lgb_cv)\n",
        "\n",
        "    #enregistrement du modèle LGBM avec les meilleurs paramètres\n",
        "    mlflow.sklearn.log_model(grid_search_lgb.best_estimator_, \"lightgbm_best_model\")\n",
        "\n",
        "print(f\"Best LightGBM Parameters: {best_params_lgb}\")\n",
        "print(f\"LightGBM AUC_cv: {auc_score_lgb_cv}, Accuracy_cv: {accuracy_lgb_cv}\")\n"
      ]
    },
    {
      "cell_type": "markdown",
      "metadata": {
        "id": "j0KKSCNhm9Go"
      },
      "source": [
        "###lightgbm_GridSearchCV"
      ]
    },
    {
      "cell_type": "code",
      "execution_count": null,
      "metadata": {
        "id": "plQpcLDBzrUX"
      },
      "outputs": [],
      "source": [
        "import lightgbm as lgb\n",
        "from sklearn.metrics import accuracy_score, roc_auc_score, fbeta_score\n",
        "from sklearn.model_selection import GridSearchCV\n",
        "import mlflow\n",
        "import mlflow.sklearn\n",
        "from mlflow.models import ModelSignature\n",
        "from mlflow.types.schema import Schema, ColSpec\n",
        "import os\n",
        "\n",
        "# Définir la grille d'hyperparamètres à tester\n",
        "param_grid = {\n",
        "    'num_leaves': [31, 50, 70],\n",
        "    'learning_rate': [0.01, 0.05, 0.1],\n",
        "    'n_estimators': [100, 200, 500],\n",
        "    'max_depth': [-1, 10, 20],\n",
        "    'min_child_samples': [20, 50, 100]\n",
        "}\n",
        "\n",
        "# Initialisation du LightGBM avec hyperparamètres par défaut\n",
        "lgb_clf = lgb.LGBMClassifier()\n",
        "\n",
        "# GridSearchCV pour optimiser les hyperparamètres\n",
        "grid_search = GridSearchCV(estimator=lgb_clf, param_grid=param_grid, scoring='roc_auc', cv=5, n_jobs=-1, verbose=1)\n",
        "\n",
        "# MLflow expérience\n",
        "mlflow.set_experiment(\"LightGBM_GridSearchCV\")\n",
        "\n",
        "with mlflow.start_run(run_name='lightgbm_with_GridSearchCV'):\n",
        "    # Enregistrement des hyperparamètres avant GridSearch\n",
        "    mlflow.log_param(\"model_type\", \"LGBMClassifier\")\n",
        "\n",
        "    # Entraînement avec GridSearchCV sur les données resamplées\n",
        "    grid_search.fit(X_train_resampled, y_train_resampled)\n",
        "\n",
        "    # Obtenir les meilleurs hyperparamètres\n",
        "    best_params = grid_search.best_params_\n",
        "    print(f\"Meilleurs hyperparamètres trouvés : {best_params}\")\n",
        "\n",
        "    # Meilleur modèle entraîné : modèle entraîné avec les meilleurs hyperparamètres (best_lgb_model)\n",
        "    best_lgb_model = grid_search.best_estimator_\n",
        "\n",
        "    # Enregistrement des hyperparamètres optimisés\n",
        "    mlflow.log_params(best_params)\n",
        "\n",
        "    # Prédictions sur le jeu de validation (non-resamplé)\n",
        "    y_pred_lgb = best_lgb_model.predict(X_val)\n",
        "    y_prob_lgb = best_lgb_model.predict_proba(X_val)[:, 1]\n",
        "\n",
        "    # Calcul des métriques\n",
        "    try:\n",
        "        auc_score_lgb = roc_auc_score(y_val, y_prob_lgb)\n",
        "    except ValueError:\n",
        "        auc_score_lgb = float('nan')\n",
        "\n",
        "    accuracy_lgb = accuracy_score(y_val, y_pred_lgb)\n",
        "    fbeta_lgb = fbeta_score(y_val, y_pred_lgb, beta=10)\n",
        "\n",
        "    # Enregistrement des métriques\n",
        "    mlflow.log_metric(\"auc\", auc_score_lgb)\n",
        "    mlflow.log_metric(\"accuracy\", accuracy_lgb)\n",
        "    mlflow.log_metric(\"fbeta_score\", fbeta_lgb)\n",
        "\n",
        "    # Enregistrement du meilleur modèle dans MLflow (modèle temporaire)\n",
        "    model_uri = \"lightgbm_model_with_SMOTE_and_fbeta\"\n",
        "    mlflow.sklearn.log_model(best_lgb_model, model_uri)\n",
        "\n",
        "    # Enregistrement du modèle dans le Model Registry\n",
        "    model_name = \"LightGBM_with_SMOTE_Model\"\n",
        "    registered_model_uri = mlflow.register_model(model_uri=f\"runs:/{mlflow.active_run().info.run_id}/{model_uri}\",\n",
        "                                                 name=model_name)\n",
        "\n",
        "# Résultats finaux\n",
        "print(f\"LightGBM AUC: {auc_score_lgb}, Accuracy: {accuracy_lgb}, F-beta Score (β=10): {fbeta_lgb}\")"
      ]
    },
    {
      "cell_type": "markdown",
      "metadata": {
        "id": "gT4peLcNYwG5"
      },
      "source": [
        "#MLFlow UI"
      ]
    },
    {
      "cell_type": "code",
      "execution_count": null,
      "metadata": {
        "colab": {
          "base_uri": "https://localhost:8080/"
        },
        "id": "Ud86_hc_YDAc",
        "outputId": "0c3e6738-edda-4cb7-dc01-a05a72733c57"
      },
      "outputs": [
        {
          "name": "stdout",
          "output_type": "stream",
          "text": [
            "Collecting pyngrok\n",
            "  Downloading pyngrok-7.2.0-py3-none-any.whl.metadata (7.4 kB)\n",
            "Requirement already satisfied: PyYAML>=5.1 in /usr/local/lib/python3.10/dist-packages (from pyngrok) (6.0.2)\n",
            "Downloading pyngrok-7.2.0-py3-none-any.whl (22 kB)\n",
            "Installing collected packages: pyngrok\n",
            "Successfully installed pyngrok-7.2.0\n"
          ]
        }
      ],
      "source": [
        "#maintenant pour visualiser sur mlflw j'ai besoin de ngrok\n",
        "#j'installe le package\n",
        "! pip install pyngrok"
      ]
    },
    {
      "cell_type": "code",
      "execution_count": null,
      "metadata": {
        "colab": {
          "base_uri": "https://localhost:8080/"
        },
        "id": "DyNRcBeRYD7_",
        "outputId": "603d1268-452d-4400-da8e-11cdd65c1081"
      },
      "outputs": [
        {
          "name": "stdout",
          "output_type": "stream",
          "text": [
            "MLFlow Tracking UI: https://4955-34-32-209-47.ngrok-free.app\n"
          ]
        }
      ],
      "source": [
        "from pyngrok import ngrok\n",
        "#terminate open tunnels if exist\n",
        "ngrok.kill()\n",
        "\n",
        "#setting the authtoken (optional)\n",
        "NGROK_AUTH_TOKEN = \"2m0LsyXXeuXcuZ6p34hmutJGy1u_4yK2gMFBwyn1ka2HPfR1i\"\n",
        "ngrok.set_auth_token(NGROK_AUTH_TOKEN)\n",
        "\n",
        "#open an HTTPs tunnel on port 5000 for http://localhost:5000\n",
        "ngrok_tunnel = ngrok.connect(addr = \"5000\", proto= \"http\", bind_tls =True)\n",
        "print('MLFlow Tracking UI:', ngrok_tunnel.public_url)"
      ]
    },
    {
      "cell_type": "code",
      "execution_count": null,
      "metadata": {
        "colab": {
          "base_uri": "https://localhost:8080/"
        },
        "id": "Q-NvMgCtYLYa",
        "outputId": "1ec8c428-eec9-4c7b-c08f-0155048b5934"
      },
      "outputs": [
        {
          "name": "stdout",
          "output_type": "stream",
          "text": [
            "[2024-09-27 12:55:44 +0000] [83983] [INFO] Starting gunicorn 23.0.0\n",
            "[2024-09-27 12:55:44 +0000] [83983] [INFO] Listening at: http://127.0.0.1:5000 (83983)\n",
            "[2024-09-27 12:55:44 +0000] [83983] [INFO] Using worker: sync\n",
            "[2024-09-27 12:55:44 +0000] [83988] [INFO] Booting worker with pid: 83988\n",
            "[2024-09-27 12:55:44 +0000] [83989] [INFO] Booting worker with pid: 83989\n",
            "[2024-09-27 12:55:44 +0000] [83990] [INFO] Booting worker with pid: 83990\n",
            "[2024-09-27 12:55:44 +0000] [83991] [INFO] Booting worker with pid: 83991\n",
            "[2024-09-27 12:59:47 +0000] [83983] [INFO] Handling signal: int\n",
            "\n",
            "Aborted!\n",
            "[2024-09-27 12:59:47 +0000] [83991] [INFO] Worker exiting (pid: 83991)\n",
            "[2024-09-27 12:59:47 +0000] [83989] [INFO] Worker exiting (pid: 83989)\n",
            "[2024-09-27 12:59:47 +0000] [83988] [INFO] Worker exiting (pid: 83988)\n",
            "[2024-09-27 12:59:47 +0000] [83990] [INFO] Worker exiting (pid: 83990)\n",
            "[2024-09-27 12:59:49 +0000] [83983] [INFO] Shutting down: Master\n"
          ]
        }
      ],
      "source": [
        "#afin de visualiser les expérimentations avec MLFlow, j'exécute l'interface utilisateur\n",
        "!mlflow ui"
      ]
    }
  ],
  "metadata": {
    "colab": {
      "provenance": [],
      "toc_visible": true
    },
    "kernelspec": {
      "display_name": "venv",
      "language": "python",
      "name": "python3"
    },
    "language_info": {
      "codemirror_mode": {
        "name": "ipython",
        "version": 3
      },
      "file_extension": ".py",
      "mimetype": "text/x-python",
      "name": "python",
      "nbconvert_exporter": "python",
      "pygments_lexer": "ipython3",
      "version": "3.12.6"
    }
  },
  "nbformat": 4,
  "nbformat_minor": 0
}
